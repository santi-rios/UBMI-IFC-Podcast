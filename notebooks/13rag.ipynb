{
 "cells": [
  {
   "cell_type": "markdown",
   "id": "19b019cd",
   "metadata": {},
   "source": [
    "Multi-Modal RAG for Context-Aware Content\n",
    "Leveraging the concept from Voice_memos.ipynb of combining different file types, you can create a more context-aware generation process. Instead of just using the new article's abstract, you can provide the model with a \"context package\" of related materials.\n",
    "\n",
    "Scientific Purpose:\n",
    "\n",
    "Deeper Context: Allows the LLM to generate a script that not only explains the new paper but also situates it within the broader research landscape of the institution or a specific lab.\n",
    "Authoritative Voice: By providing previous papers from the same authors or lab, the LLM can better adopt the specific terminology and perspective of that research group.\n",
    "Novelty Highlighting: The model can more effectively identify and emphasize what is truly novel about the new paper compared to previous work."
   ]
  },
  {
   "cell_type": "code",
   "execution_count": 2,
   "id": "fee98819",
   "metadata": {},
   "outputs": [
    {
     "name": "stdout",
     "output_type": "stream",
     "text": [
      "================================================================================\n",
      "📚 ENHANCEMENT 3: Multi-Modal RAG for Context-Aware Generation\n",
      "================================================================================\n",
      "🔍 Simulating retrieval of related scientific context...\n",
      "❌ Error during context-aware generation test: name 'genai' is not defined\n"
     ]
    },
    {
     "name": "stderr",
     "output_type": "stream",
     "text": [
      "Traceback (most recent call last):\n",
      "  File \"/tmp/ipykernel_471465/1417767246.py\", line 24, in <module>\n",
      "    context_file = genai.upload_file(path=\"previous_related_study.txt\")\n",
      "NameError: name 'genai' is not defined\n"
     ]
    }
   ],
   "source": [
    "import os\n",
    "\n",
    "# Add this new cell to demonstrate Multi-Modal RAG\n",
    "\n",
    "# 📚 ENHANCEMENT 3: Multi-Modal RAG for Context-Aware Generation\n",
    "print(\"=\" * 80)\n",
    "print(\"📚 ENHANCEMENT 3: Multi-Modal RAG for Context-Aware Generation\")\n",
    "print(\"=\" * 80)\n",
    "\n",
    "# This simulates finding related content. In production, you'd use embeddings to find similar articles.\n",
    "print(\"🔍 Simulating retrieval of related scientific context...\")\n",
    "\n",
    "# Assume we found a related previous paper (as a text file) and a conceptual diagram (as an image)\n",
    "# In a real system, you would use your embeddings to find the most similar previous articles.\n",
    "try:\n",
    "    # Create a dummy context file\n",
    "    with open(\"previous_related_study.txt\", \"w\") as f:\n",
    "        f.write(\"\"\"\n",
    "        Title: Initial findings on F-actin regulation in cardiac cells\n",
    "        Abstract: Our previous work established a baseline for F-actin network stability. We noted minor fluctuations under oxidative stress but did not identify the specific destabilizing agent. This laid the groundwork for investigating specific reactive oxygen species.\n",
    "        \"\"\")\n",
    "    \n",
    "    # Upload the context file to the File API\n",
    "    context_file = genai.upload_file(path=\"previous_related_study.txt\")\n",
    "    print(f\"✅ Uploaded context file: {context_file.display_name}\")\n",
    "    \n",
    "    # You could also upload a relevant diagram/figure from a previous paper\n",
    "    # context_image = genai.upload_file(path=\"path/to/figure.png\")\n",
    "\n",
    "    # Now, generate a script using this richer, multi-modal context\n",
    "    async def generate_context_aware_script(provider, current_article, related_files):\n",
    "        \n",
    "        current_article_summary = f\"Title: {current_article['title']}\\nAbstract: {current_article['abstract']}\"\n",
    "        \n",
    "        prompt = f\"\"\"\n",
    "        You are a scientific analyst. Your task is to generate a podcast script for the 'CURRENT ARTICLE'.\n",
    "        Use the 'RELATED CONTEXT FILES' to understand the background and explain what makes the current article a significant advancement.\n",
    "        \n",
    "        Explicitly reference how the new findings build upon or differ from the previous work.\n",
    "        \n",
    "        CURRENT ARTICLE:\n",
    "        {current_article_summary}\n",
    "        \n",
    "        RELATED CONTEXT FILES:\n",
    "        - {related_files[0].display_name}\n",
    "        \"\"\"\n",
    "        \n",
    "        print(\"\\n🤖 Generating script with rich context (RAG)...\")\n",
    "        \n",
    "        # Combine the prompt with the File objects\n",
    "        response = await provider.client.models.generate_content_async(\n",
    "            model=provider.model,\n",
    "            contents=[prompt] + related_files\n",
    "        )\n",
    "        return response.text\n",
    "\n",
    "    # --- Example Usage ---\n",
    "    if 'google_provider' in locals() and google_provider and 'test_article' in locals():\n",
    "        context_aware_script = await generate_context_aware_script(google_provider, test_article, [context_file])\n",
    "        \n",
    "        print(\"\\n🎉 Context-Aware Script Generated:\")\n",
    "        print(\"-\" * 50)\n",
    "        print(context_aware_script)\n",
    "        print(\"-\" * 50)\n",
    "        \n",
    "        # Check if the model used the context\n",
    "        if \"previous work\" in context_aware_script.lower() or \"builds upon\" in context_aware_script.lower():\n",
    "            print(\"✅ Success: The generated script successfully referenced the provided context.\")\n",
    "        else:\n",
    "            print(\"⚠️ Warning: The script may not have fully utilized the provided context.\")\n",
    "\n",
    "except Exception as e:\n",
    "    print(f\"❌ Error during context-aware generation test: {e}\")\n",
    "    import traceback\n",
    "    traceback.print_exc()\n",
    "\n",
    "finally:\n",
    "    # Clean up dummy file\n",
    "    if os.path.exists(\"previous_related_study.txt\"):\n",
    "        os.remove(\"previous_related_study.txt\")"
   ]
  }
 ],
 "metadata": {
  "kernelspec": {
   "display_name": "venv",
   "language": "python",
   "name": "python3"
  },
  "language_info": {
   "codemirror_mode": {
    "name": "ipython",
    "version": 3
   },
   "file_extension": ".py",
   "mimetype": "text/x-python",
   "name": "python",
   "nbconvert_exporter": "python",
   "pygments_lexer": "ipython3",
   "version": "3.10.12"
  }
 },
 "nbformat": 4,
 "nbformat_minor": 5
}
