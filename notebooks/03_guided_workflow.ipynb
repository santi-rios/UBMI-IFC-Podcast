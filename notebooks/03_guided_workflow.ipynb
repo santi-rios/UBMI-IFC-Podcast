{
 "cells": [
  {
   "cell_type": "markdown",
   "id": "b90e1c8a",
   "metadata": {},
   "source": [
    "# Guided Workflow: From Data to Podcast\n",
    "\n",
    "This notebook walks through the core concepts of the app step-by-step: config, logging, scraping sample data, embeddings, similarity search, LLM script generation (dry-run), and audio generation (dry-run).\n",
    "\n",
    "What you'll learn:\n",
    "- How configuration and logging work\n",
    "- How data flows from scraped/publication JSON to embeddings\n",
    "- How to run similarity search and select relevant papers\n",
    "- How a podcast script would be generated (without calling external APIs)\n",
    "- How audio would be generated (without calling external APIs)"
   ]
  },
  {
   "cell_type": "code",
   "execution_count": 1,
   "id": "655e5d82",
   "metadata": {},
   "outputs": [
    {
     "name": "stdout",
     "output_type": "stream",
     "text": [
      "Added src to path: /home/santi/Projects/UBMI-IFC-Podcast/src\n",
      "Notebook dir: /home/santi/Projects/UBMI-IFC-Podcast/notebooks\n",
      "Src dir: /home/santi/Projects/UBMI-IFC-Podcast/src exists: True\n"
     ]
    }
   ],
   "source": [
    "# Setup: paths and imports\n",
    "import sys, os\n",
    "from pathlib import Path\n",
    "\n",
    "notebook_dir = Path().resolve()\n",
    "src_dir = notebook_dir.parent / 'src'\n",
    "if str(src_dir) not in sys.path:\n",
    "    sys.path.insert(0, str(src_dir))\n",
    "    print('Added src to path:', src_dir)\n",
    "print('Notebook dir:', notebook_dir)\n",
    "print('Src dir:', src_dir, 'exists:', src_dir.exists())"
   ]
  },
  {
   "cell_type": "code",
   "execution_count": 2,
   "id": "37c4f8f2",
   "metadata": {},
   "outputs": [
    {
     "name": "stdout",
     "output_type": "stream",
     "text": [
      "Base URL (IFC): https://www.ifc.unam.mx\n",
      "Embeddings model: sentence-transformers/all-MiniLM-L6-v2\n",
      "LLM provider: openai\n",
      "Audio provider: elevenlabs\n",
      "Data dir: /home/santi/Projects/UBMI-IFC-Podcast/data\n",
      "Output dir: /home/santi/Projects/UBMI-IFC-Podcast/outputs\n"
     ]
    }
   ],
   "source": [
    "# Config and logging\n",
    "from utils.config import load_config, get_data_dir, get_output_dir\n",
    "from utils.logger import setup_logger, get_logger\n",
    "\n",
    "setup_logger(level='INFO')\n",
    "logger = get_logger('guided')\n",
    "config = load_config()\n",
    "\n",
    "print('Base URL (IFC):', config['ifc']['base_url'])\n",
    "print('Embeddings model:', config['embeddings']['model_name'])\n",
    "print('LLM provider:', config['llm']['provider'])\n",
    "print('Audio provider:', config['audio']['provider'])\n",
    "print('Data dir:', get_data_dir())\n",
    "print('Output dir:', get_output_dir())"
   ]
  },
  {
   "cell_type": "markdown",
   "id": "bdcee7a1",
   "metadata": {},
   "source": [
    "## Prepare a small working dataset\n",
    "We'll create a small, in-memory dataset representative of scraped publications so you can run embeddings and vector search without hitting the web."
   ]
  },
  {
   "cell_type": "code",
   "execution_count": 3,
   "id": "372128a9",
   "metadata": {},
   "outputs": [
    {
     "name": "stdout",
     "output_type": "stream",
     "text": [
      "Prepared 3 sample articles\n"
     ]
    }
   ],
   "source": [
    "# Sample publications (title + abstract)\n",
    "sample_articles = [\n",
    "    {\n",
    "        'title': 'Deregulation of interferon-gamma receptor 1 expression and its implications for lung adenocarcinoma progression',\n",
    "        'abstract': 'Interferon-gamma (IFN-γ) has dual roles in cancer... We explore receptor dysregulation and downstream signaling.',\n",
    "        'year': 2024,\n",
    "        'doi': '10.5306/wjco.v15.i2.195'\n",
    "    },\n",
    "    {\n",
    "        'title': 'Altered Expression of Thyroid- and Oxidative-Stress-Related Genes in Cardiomyocytes',\n",
    "        'abstract': 'We analyze cardiomyocyte gene expression under metabolic stress and observe significant changes in oxidative pathways.',\n",
    "        'year': 2024,\n",
    "        'doi': '10.1093/cvr/cvae156'\n",
    "    },\n",
    "    {\n",
    "        'title': 'Regulation of Cellular Polarity in Epithelial Tissues',\n",
    "        'abstract': 'Epithelial polarity is critical for tissue homeostasis; we discuss signaling interactions and experimental findings.',\n",
    "        'year': 2024,\n",
    "        'doi': '10.1128/jb.00264-24'\n",
    "    }\n",
    "]\n",
    "print(f'Prepared {len(sample_articles)} sample articles')"
   ]
  },
  {
   "cell_type": "markdown",
   "id": "9fb775fb",
   "metadata": {},
   "source": [
    "## Embeddings: generate vectors and run similarity search\n",
    "We'll use the configured sentence-transformer model to embed the sample texts and run cosine similarity to find nearest items."
   ]
  },
  {
   "cell_type": "code",
   "execution_count": 4,
   "id": "77cf5aff",
   "metadata": {},
   "outputs": [
    {
     "name": "stderr",
     "output_type": "stream",
     "text": [
      "\u001b[32m2025-09-11 14:42:21\u001b[0m | \u001b[1mINFO\u001b[0m | \u001b[36membeddings.manager\u001b[0m:\u001b[36mload_model\u001b[0m:\u001b[36m38\u001b[0m - \u001b[1mLoading embedding model: sentence-transformers/all-MiniLM-L6-v2\u001b[0m\n",
      "\u001b[32m2025-09-11 14:42:23\u001b[0m | \u001b[1mINFO\u001b[0m | \u001b[36membeddings.manager\u001b[0m:\u001b[36mgenerate_embeddings\u001b[0m:\u001b[36m53\u001b[0m - \u001b[1mGenerating embeddings for 3 texts\u001b[0m\n"
     ]
    },
    {
     "data": {
      "application/vnd.jupyter.widget-view+json": {
       "model_id": "8753eb39c83f49ab8ae0ade6880d7663",
       "version_major": 2,
       "version_minor": 0
      },
      "text/plain": [
       "Batches:   0%|          | 0/1 [00:00<?, ?it/s]"
      ]
     },
     "metadata": {},
     "output_type": "display_data"
    },
    {
     "name": "stderr",
     "output_type": "stream",
     "text": [
      "\u001b[32m2025-09-11 14:42:24\u001b[0m | \u001b[1mINFO\u001b[0m | \u001b[36membeddings.manager\u001b[0m:\u001b[36mgenerate_embeddings\u001b[0m:\u001b[36m53\u001b[0m - \u001b[1mGenerating embeddings for 1 texts\u001b[0m\n"
     ]
    },
    {
     "name": "stdout",
     "output_type": "stream",
     "text": [
      "Embeddings shape: (3, 384)\n"
     ]
    },
    {
     "data": {
      "application/vnd.jupyter.widget-view+json": {
       "model_id": "5cbd421abc574d6a9a45228ebaaf0949",
       "version_major": 2,
       "version_minor": 0
      },
      "text/plain": [
       "Batches:   0%|          | 0/1 [00:00<?, ?it/s]"
      ]
     },
     "metadata": {},
     "output_type": "display_data"
    },
    {
     "name": "stdout",
     "output_type": "stream",
     "text": [
      "Query: immune signaling in cancer and interferon pathways\n",
      "  sim=0.715 | Deregulation of interferon-gamma receptor 1 expression and its implications for \n",
      "  sim=0.271 | Regulation of Cellular Polarity in Epithelial Tissues\n",
      "  sim=0.162 | Altered Expression of Thyroid- and Oxidative-Stress-Related Genes in Cardiomyocy\n"
     ]
    }
   ],
   "source": [
    "from embeddings.manager import EmbeddingsManager\n",
    "import numpy as np\n",
    "\n",
    "em = EmbeddingsManager(config)\n",
    "# Build combined texts (title + abstract) as the manager does\n",
    "texts = [f\"{a['title']}. {a.get('abstract','')}\" for a in sample_articles]\n",
    "embeddings = em.generate_embeddings(texts)\n",
    "print('Embeddings shape:', embeddings.shape)\n",
    "\n",
    "# Similarity against a query\n",
    "query = 'immune signaling in cancer and interferon pathways'\n",
    "query_vec = em.generate_embeddings([query])[0]\n",
    "sims = (embeddings @ query_vec) / (np.linalg.norm(embeddings, axis=1) * np.linalg.norm(query_vec) + 1e-8)\n",
    "ranking = np.argsort(-sims)\n",
    "print('Query:', query)\n",
    "for idx in ranking:\n",
    "    print(f\"  sim={sims[idx]:.3f} | {sample_articles[idx]['title'][:80]}\")"
   ]
  },
  {
   "cell_type": "markdown",
   "id": "b639fb63",
   "metadata": {},
   "source": [
    "## Vector-store demonstration (optional in-memory)\n",
    "We can simulate a tiny vector index to retrieve k-NN for a query."
   ]
  },
  {
   "cell_type": "code",
   "execution_count": 5,
   "id": "1d106b17",
   "metadata": {},
   "outputs": [
    {
     "name": "stderr",
     "output_type": "stream",
     "text": [
      "\u001b[32m2025-09-11 14:43:14\u001b[0m | \u001b[1mINFO\u001b[0m | \u001b[36membeddings.manager\u001b[0m:\u001b[36mgenerate_embeddings\u001b[0m:\u001b[36m53\u001b[0m - \u001b[1mGenerating embeddings for 1 texts\u001b[0m\n"
     ]
    },
    {
     "data": {
      "application/vnd.jupyter.widget-view+json": {
       "model_id": "fbfd05f7ec154abfac4a0a4c5a4c23b5",
       "version_major": 2,
       "version_minor": 0
      },
      "text/plain": [
       "Batches:   0%|          | 0/1 [00:00<?, ?it/s]"
      ]
     },
     "metadata": {},
     "output_type": "display_data"
    },
    {
     "name": "stdout",
     "output_type": "stream",
     "text": [
      "sim=0.559 | Altered Expression of Thyroid- and Oxidative-Stress-Related Genes in Cardiomyocytes\n",
      "sim=0.160 | Regulation of Cellular Polarity in Epithelial Tissues\n"
     ]
    }
   ],
   "source": [
    "# Simple in-memory vector search\n",
    "def top_k(query_text, k=2):\n",
    "    q = em.generate_embeddings([query_text])[0]\n",
    "    sims = (embeddings @ q) / (np.linalg.norm(embeddings, axis=1) * np.linalg.norm(q) + 1e-8)\n",
    "    order = np.argsort(-sims)[:k]\n",
    "    return [(float(sims[i]), sample_articles[i]) for i in order]\n",
    "\n",
    "results = top_k('cardiac metabolism under stress', k=2)\n",
    "for s, art in results:\n",
    "    print(f\"sim={s:.3f} | {art['title']}\")"
   ]
  },
  {
   "cell_type": "markdown",
   "id": "19852c1d",
   "metadata": {},
   "source": [
    "## LLM: prepare prompt and dry-run generation\n",
    "We'll assemble a prompt for script generation but avoid live API calls. This shows what would be sent to OpenAI/Anthropic."
   ]
  },
  {
   "cell_type": "code",
   "execution_count": 6,
   "id": "ef52d9ee",
   "metadata": {},
   "outputs": [
    {
     "name": "stdout",
     "output_type": "stream",
     "text": [
      "--- Prompt preview (truncated) ---\n",
      "\n",
      "Article 1:\n",
      "Title: Altered Expression of Thyroid- and Oxidative-Stress-Related Genes in Cardiomyocytes\n",
      "Authors: N/A\n",
      "Journal: N/A\n",
      "Publication Date: N/A\n",
      "Similarity Score: 0.000\n",
      "\n",
      "Abstract: We analyze cardiomyocyte gene expression under metabolic stress and observe significant changes in oxidative pathways.\n",
      "\n",
      "Key Findings: Key findings not extracted.\n",
      "\n",
      "\n",
      "Article 2:\n",
      "Title: Regulation of Cellular Polarity in Epithelial Tissues\n",
      "Authors: N/A\n",
      "Journal: N/A\n",
      "Publication Date: N/A\n",
      "Similarity Score: 0.000\n",
      "\n",
      "Abstract: Epithelial polarity is critical for tissue homeostasis; we discuss signaling interactions and experimental findings.\n",
      "\n",
      "Key Findings: Key findings not extracted.\n",
      "\n"
     ]
    }
   ],
   "source": [
    "from llm.script_generator import PodcastScriptGenerator\n",
    "\n",
    "# Build a pseudo selection of top articles (use top-2 from prior vector search)\n",
    "selected = [r[1] for r in results]\n",
    "\n",
    "# Create the generator (this will read provider from config, but we won't call the API)\n",
    "gen = PodcastScriptGenerator(config)\n",
    "\n",
    "# Inspect the prompt that would be sent (using the internal summary helper)\n",
    "prompt_preview = gen._prepare_articles_summary([{\n",
    "    'title': a['title'],\n",
    "    'abstract': a.get('abstract',''),\n",
    "    'doi': a.get('doi',''),\n",
    "    'score': 0.0\n",
    "} for a in selected])\n",
    "print('--- Prompt preview (truncated) ---')\n",
    "print(prompt_preview[:800])"
   ]
  },
  {
   "cell_type": "markdown",
   "id": "b4e34988",
   "metadata": {},
   "source": [
    "## Audio: TTS preparation (dry-run)\n",
    "We'll clean the script text and show the first lines of what would be sent to TTS."
   ]
  },
  {
   "cell_type": "code",
   "execution_count": 7,
   "id": "aa2729e6",
   "metadata": {},
   "outputs": [
    {
     "name": "stdout",
     "output_type": "stream",
     "text": [
      "--- Cleaned script ---\n",
      "Podcast Episode\n",
      "\n",
      "Welcome to this week's research roundup.\n",
      "First, we discuss interferon signaling in lung cancer.\n",
      "Then, cardiomyocyte responses to metabolic stress.\n"
     ]
    }
   ],
   "source": [
    "from audio.generator import AudioGenerator\n",
    "\n",
    "audio = AudioGenerator(config)\n",
    "fake_script = \"\"\"# Podcast Episode\n",
    "\n",
    "Welcome to this week's research roundup. \n",
    "First, we discuss interferon signaling in lung cancer. \n",
    "Then, cardiomyocyte responses to metabolic stress.\n",
    "\"\"\"\n",
    "\n",
    "cleaned = audio._clean_script_for_tts(fake_script)\n",
    "print('--- Cleaned script ---')\n",
    "print('\\n'.join(cleaned.splitlines()[:10]))"
   ]
  },
  {
   "cell_type": "markdown",
   "id": "28b023cd",
   "metadata": {},
   "source": [
    "## Putting it together (pseudo-pipeline)\n",
    "This is how the pipeline composes: select articles -> summarize with LLM -> synthesize audio. We'll keep calls offline, but outline the flow."
   ]
  }
 ],
 "metadata": {
  "kernelspec": {
   "display_name": "venv",
   "language": "python",
   "name": "python3"
  },
  "language_info": {
   "codemirror_mode": {
    "name": "ipython",
    "version": 3
   },
   "file_extension": ".py",
   "mimetype": "text/x-python",
   "name": "python",
   "nbconvert_exporter": "python",
   "pygments_lexer": "ipython3",
   "version": "3.10.12"
  }
 },
 "nbformat": 4,
 "nbformat_minor": 5
}
