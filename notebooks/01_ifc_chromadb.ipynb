{
 "cells": [
  {
   "cell_type": "code",
   "execution_count": 1,
   "id": "b2ad15c0",
   "metadata": {},
   "outputs": [
    {
     "name": "stdout",
     "output_type": "stream",
     "text": [
      "Notebook directory: /home/santi/Projects/UBMI-IFC-Podcast/notebooks\n",
      "Source directory: /home/santi/Projects/UBMI-IFC-Podcast/src\n",
      "Source exists: True\n",
      "✅ All imports successful!\n"
     ]
    }
   ],
   "source": [
    "# Setup imports and path\n",
    "import sys\n",
    "import os\n",
    "sys.path.append('../src')\n",
    "\n",
    "import asyncio\n",
    "import pandas as pd\n",
    "from pathlib import Path\n",
    "\n",
    "\n",
    "# Import our scraper - Fixed import paths\n",
    "import sys\n",
    "import os\n",
    "from pathlib import Path\n",
    "\n",
    "# Add src directory to path for imports\n",
    "notebook_dir = Path().resolve()\n",
    "src_dir = notebook_dir.parent / \"src\"\n",
    "sys.path.insert(0, str(src_dir))\n",
    "\n",
    "print(f\"Notebook directory: {notebook_dir}\")\n",
    "print(f\"Source directory: {src_dir}\")\n",
    "print(f\"Source exists: {src_dir.exists()}\")\n",
    "\n",
    "# Now import our modules\n",
    "from scrapers.ifc_scraper import IFCPublicationScraper\n",
    "from utils.config import load_config\n",
    "from utils.logger import setup_logger, get_logger\n",
    "\n",
    "# Setup logging\n",
    "setup_logger(level=\"INFO\")\n",
    "logger = get_logger(__name__)\n",
    "\n",
    "print(\"✅ All imports successful!\")"
   ]
  },
  {
   "cell_type": "code",
   "execution_count": 2,
   "id": "96915a81",
   "metadata": {},
   "outputs": [
    {
     "name": "stdout",
     "output_type": "stream",
     "text": [
      "Configuration loaded:\n",
      "Base URL: https://www.ifc.unam.mx\n",
      "Years range: {'start': 2021, 'end': 2025}\n",
      "Rate limit delay: 1.0s\n"
     ]
    }
   ],
   "source": [
    "# Load configuration\n",
    "config = load_config()\n",
    "print(\"Configuration loaded:\")\n",
    "print(f\"Base URL: {config['ifc']['base_url']}\")\n",
    "print(f\"Years range: {config['ifc']['years_range']}\")\n",
    "print(f\"Rate limit delay: {config['ifc']['rate_limit_delay']}s\")"
   ]
  },
  {
   "cell_type": "code",
   "execution_count": 3,
   "id": "6b2a9abd",
   "metadata": {},
   "outputs": [
    {
     "name": "stdout",
     "output_type": "stream",
     "text": [
      "Scraper initialized successfully\n"
     ]
    }
   ],
   "source": [
    "# Initialize scraper\n",
    "scraper = IFCPublicationScraper(config)\n",
    "print(\"Scraper initialized successfully\")"
   ]
  },
  {
   "cell_type": "code",
   "execution_count": null,
   "id": "b669ab52",
   "metadata": {},
   "outputs": [
    {
     "name": "stderr",
     "output_type": "stream",
     "text": [
      "\u001b[32m2025-09-19 13:54:34\u001b[0m | \u001b[1mINFO\u001b[0m | \u001b[36mscrapers.ifc_scraper\u001b[0m:\u001b[36mscrape_publications_by_year\u001b[0m:\u001b[36m61\u001b[0m - \u001b[1mScraping publications for year 2021\u001b[0m\n",
      "\u001b[32m2025-09-19 13:54:36\u001b[0m | \u001b[1mINFO\u001b[0m | \u001b[36mscrapers.ifc_scraper\u001b[0m:\u001b[36m_parse_publications_page\u001b[0m:\u001b[36m97\u001b[0m - \u001b[1mFound 149 potential publication links\u001b[0m\n",
      "\u001b[32m2025-09-19 13:54:36\u001b[0m | \u001b[1mINFO\u001b[0m | \u001b[36mscrapers.ifc_scraper\u001b[0m:\u001b[36m_parse_publications_page\u001b[0m:\u001b[36m158\u001b[0m - \u001b[1mSuccessfully parsed 131 publications\u001b[0m\n"
     ]
    },
    {
     "ename": "CancelledError",
     "evalue": "",
     "output_type": "error",
     "traceback": [
      "\u001b[0;31m---------------------------------------------------------------------------\u001b[0m",
      "\u001b[0;31mCancelledError\u001b[0m                            Traceback (most recent call last)",
      "Cell \u001b[0;32mIn[5], line 6\u001b[0m\n\u001b[1;32m      3\u001b[0m output_dir\u001b[38;5;241m.\u001b[39mmkdir(parents\u001b[38;5;241m=\u001b[39m\u001b[38;5;28;01mTrue\u001b[39;00m, exist_ok\u001b[38;5;241m=\u001b[39m\u001b[38;5;28;01mTrue\u001b[39;00m)\n\u001b[1;32m      5\u001b[0m \u001b[38;5;28;01mtry\u001b[39;00m:\n\u001b[0;32m----> 6\u001b[0m     all_publications \u001b[38;5;241m=\u001b[39m \u001b[38;5;28;01mawait\u001b[39;00m scraper\u001b[38;5;241m.\u001b[39mscrape_all_years(\u001b[38;5;241m2021\u001b[39m, \u001b[38;5;241m2025\u001b[39m)\n\u001b[1;32m      7\u001b[0m     \u001b[38;5;28mprint\u001b[39m(\u001b[38;5;124mf\u001b[39m\u001b[38;5;124m\"\u001b[39m\u001b[38;5;124mSuccessfully scraped \u001b[39m\u001b[38;5;132;01m{\u001b[39;00m\u001b[38;5;28mlen\u001b[39m(all_publications)\u001b[38;5;132;01m}\u001b[39;00m\u001b[38;5;124m total publications\u001b[39m\u001b[38;5;124m\"\u001b[39m)\n\u001b[1;32m      9\u001b[0m     \u001b[38;5;66;03m# Save all data\u001b[39;00m\n",
      "File \u001b[0;32m~/Projects/UBMI-IFC-Podcast/src/scrapers/ifc_scraper.py:229\u001b[0m, in \u001b[0;36mIFCPublicationScraper.scrape_all_years\u001b[0;34m(self, start_year, end_year)\u001b[0m\n\u001b[1;32m    226\u001b[0m all_publications \u001b[38;5;241m=\u001b[39m []\n\u001b[1;32m    228\u001b[0m \u001b[38;5;28;01mfor\u001b[39;00m year \u001b[38;5;129;01min\u001b[39;00m \u001b[38;5;28mrange\u001b[39m(start_year, end_year \u001b[38;5;241m+\u001b[39m \u001b[38;5;241m1\u001b[39m):\n\u001b[0;32m--> 229\u001b[0m     publications \u001b[38;5;241m=\u001b[39m \u001b[38;5;28;01mawait\u001b[39;00m \u001b[38;5;28mself\u001b[39m\u001b[38;5;241m.\u001b[39mscrape_publications_by_year(year)\n\u001b[1;32m    230\u001b[0m     all_publications\u001b[38;5;241m.\u001b[39mextend(publications)\n\u001b[1;32m    232\u001b[0m \u001b[38;5;28mself\u001b[39m\u001b[38;5;241m.\u001b[39mlogger\u001b[38;5;241m.\u001b[39minfo(\u001b[38;5;124mf\u001b[39m\u001b[38;5;124m\"\u001b[39m\u001b[38;5;124mTotal publications scraped: \u001b[39m\u001b[38;5;132;01m{\u001b[39;00m\u001b[38;5;28mlen\u001b[39m(all_publications)\u001b[38;5;132;01m}\u001b[39;00m\u001b[38;5;124m\"\u001b[39m)\n",
      "File \u001b[0;32m~/Projects/UBMI-IFC-Podcast/src/scrapers/ifc_scraper.py:76\u001b[0m, in \u001b[0;36mIFCPublicationScraper.scrape_publications_by_year\u001b[0;34m(self, year)\u001b[0m\n\u001b[1;32m     74\u001b[0m \u001b[38;5;28;01mfor\u001b[39;00m pub \u001b[38;5;129;01min\u001b[39;00m publications:\n\u001b[1;32m     75\u001b[0m     \u001b[38;5;28;01mif\u001b[39;00m pub\u001b[38;5;241m.\u001b[39mifc_url:\n\u001b[0;32m---> 76\u001b[0m         detailed_pub \u001b[38;5;241m=\u001b[39m \u001b[38;5;28;01mawait\u001b[39;00m \u001b[38;5;28mself\u001b[39m\u001b[38;5;241m.\u001b[39m_get_publication_details(session, pub)\n\u001b[1;32m     77\u001b[0m         detailed_publications\u001b[38;5;241m.\u001b[39mappend(detailed_pub)\n\u001b[1;32m     78\u001b[0m         \u001b[38;5;28;01mawait\u001b[39;00m asyncio\u001b[38;5;241m.\u001b[39msleep(\u001b[38;5;28mself\u001b[39m\u001b[38;5;241m.\u001b[39mrate_limit_delay)\n",
      "File \u001b[0;32m~/Projects/UBMI-IFC-Podcast/src/scrapers/ifc_scraper.py:165\u001b[0m, in \u001b[0;36mIFCPublicationScraper._get_publication_details\u001b[0;34m(self, session, publication)\u001b[0m\n\u001b[1;32m    163\u001b[0m \u001b[38;5;250m\u001b[39m\u001b[38;5;124;03m\"\"\"Get detailed information from publication detail page\"\"\"\u001b[39;00m\n\u001b[1;32m    164\u001b[0m \u001b[38;5;28;01mtry\u001b[39;00m:\n\u001b[0;32m--> 165\u001b[0m     \u001b[38;5;28;01masync\u001b[39;00m \u001b[38;5;28;01mwith\u001b[39;00m session\u001b[38;5;241m.\u001b[39mget(publication\u001b[38;5;241m.\u001b[39mifc_url) \u001b[38;5;28;01mas\u001b[39;00m response:\n\u001b[1;32m    166\u001b[0m         \u001b[38;5;28;01mif\u001b[39;00m response\u001b[38;5;241m.\u001b[39mstatus \u001b[38;5;241m==\u001b[39m \u001b[38;5;241m200\u001b[39m:\n\u001b[1;32m    167\u001b[0m             html \u001b[38;5;241m=\u001b[39m \u001b[38;5;28;01mawait\u001b[39;00m response\u001b[38;5;241m.\u001b[39mtext()\n",
      "File \u001b[0;32m~/Projects/UBMI-IFC-Podcast/venv/lib/python3.10/site-packages/aiohttp/client.py:1488\u001b[0m, in \u001b[0;36m_BaseRequestContextManager.__aenter__\u001b[0;34m(self)\u001b[0m\n\u001b[1;32m   1487\u001b[0m \u001b[38;5;28;01masync\u001b[39;00m \u001b[38;5;28;01mdef\u001b[39;00m\u001b[38;5;250m \u001b[39m\u001b[38;5;21m__aenter__\u001b[39m(\u001b[38;5;28mself\u001b[39m) \u001b[38;5;241m-\u001b[39m\u001b[38;5;241m>\u001b[39m _RetType:\n\u001b[0;32m-> 1488\u001b[0m     \u001b[38;5;28mself\u001b[39m\u001b[38;5;241m.\u001b[39m_resp: _RetType \u001b[38;5;241m=\u001b[39m \u001b[38;5;28;01mawait\u001b[39;00m \u001b[38;5;28mself\u001b[39m\u001b[38;5;241m.\u001b[39m_coro\n\u001b[1;32m   1489\u001b[0m     \u001b[38;5;28;01mreturn\u001b[39;00m \u001b[38;5;28;01mawait\u001b[39;00m \u001b[38;5;28mself\u001b[39m\u001b[38;5;241m.\u001b[39m_resp\u001b[38;5;241m.\u001b[39m\u001b[38;5;21m__aenter__\u001b[39m()\n",
      "File \u001b[0;32m~/Projects/UBMI-IFC-Podcast/venv/lib/python3.10/site-packages/aiohttp/client.py:770\u001b[0m, in \u001b[0;36mClientSession._request\u001b[0;34m(self, method, str_or_url, params, data, json, cookies, headers, skip_auto_headers, auth, allow_redirects, max_redirects, compress, chunked, expect100, raise_for_status, read_until_eof, proxy, proxy_auth, timeout, verify_ssl, fingerprint, ssl_context, ssl, server_hostname, proxy_headers, trace_request_ctx, read_bufsize, auto_decompress, max_line_size, max_field_size, middlewares)\u001b[0m\n\u001b[1;32m    767\u001b[0m     handler \u001b[38;5;241m=\u001b[39m _connect_and_send_request\n\u001b[1;32m    769\u001b[0m \u001b[38;5;28;01mtry\u001b[39;00m:\n\u001b[0;32m--> 770\u001b[0m     resp \u001b[38;5;241m=\u001b[39m \u001b[38;5;28;01mawait\u001b[39;00m handler(req)\n\u001b[1;32m    771\u001b[0m \u001b[38;5;66;03m# Client connector errors should not be retried\u001b[39;00m\n\u001b[1;32m    772\u001b[0m \u001b[38;5;28;01mexcept\u001b[39;00m (\n\u001b[1;32m    773\u001b[0m     ConnectionTimeoutError,\n\u001b[1;32m    774\u001b[0m     ClientConnectorError,\n\u001b[1;32m    775\u001b[0m     ClientConnectorCertificateError,\n\u001b[1;32m    776\u001b[0m     ClientConnectorSSLError,\n\u001b[1;32m    777\u001b[0m ):\n",
      "File \u001b[0;32m~/Projects/UBMI-IFC-Podcast/venv/lib/python3.10/site-packages/aiohttp/client.py:748\u001b[0m, in \u001b[0;36mClientSession._request.<locals>._connect_and_send_request\u001b[0;34m(req)\u001b[0m\n\u001b[1;32m    746\u001b[0m resp \u001b[38;5;241m=\u001b[39m \u001b[38;5;28;01mawait\u001b[39;00m req\u001b[38;5;241m.\u001b[39msend(conn)\n\u001b[1;32m    747\u001b[0m \u001b[38;5;28;01mtry\u001b[39;00m:\n\u001b[0;32m--> 748\u001b[0m     \u001b[38;5;28;01mawait\u001b[39;00m resp\u001b[38;5;241m.\u001b[39mstart(conn)\n\u001b[1;32m    749\u001b[0m \u001b[38;5;28;01mexcept\u001b[39;00m \u001b[38;5;167;01mBaseException\u001b[39;00m:\n\u001b[1;32m    750\u001b[0m     resp\u001b[38;5;241m.\u001b[39mclose()\n",
      "File \u001b[0;32m~/Projects/UBMI-IFC-Podcast/venv/lib/python3.10/site-packages/aiohttp/client_reqrep.py:532\u001b[0m, in \u001b[0;36mClientResponse.start\u001b[0;34m(self, connection)\u001b[0m\n\u001b[1;32m    530\u001b[0m \u001b[38;5;28;01mtry\u001b[39;00m:\n\u001b[1;32m    531\u001b[0m     protocol \u001b[38;5;241m=\u001b[39m \u001b[38;5;28mself\u001b[39m\u001b[38;5;241m.\u001b[39m_protocol\n\u001b[0;32m--> 532\u001b[0m     message, payload \u001b[38;5;241m=\u001b[39m \u001b[38;5;28;01mawait\u001b[39;00m protocol\u001b[38;5;241m.\u001b[39mread()  \u001b[38;5;66;03m# type: ignore[union-attr]\u001b[39;00m\n\u001b[1;32m    533\u001b[0m \u001b[38;5;28;01mexcept\u001b[39;00m http\u001b[38;5;241m.\u001b[39mHttpProcessingError \u001b[38;5;28;01mas\u001b[39;00m exc:\n\u001b[1;32m    534\u001b[0m     \u001b[38;5;28;01mraise\u001b[39;00m ClientResponseError(\n\u001b[1;32m    535\u001b[0m         \u001b[38;5;28mself\u001b[39m\u001b[38;5;241m.\u001b[39mrequest_info,\n\u001b[1;32m    536\u001b[0m         \u001b[38;5;28mself\u001b[39m\u001b[38;5;241m.\u001b[39mhistory,\n\u001b[0;32m   (...)\u001b[0m\n\u001b[1;32m    539\u001b[0m         headers\u001b[38;5;241m=\u001b[39mexc\u001b[38;5;241m.\u001b[39mheaders,\n\u001b[1;32m    540\u001b[0m     ) \u001b[38;5;28;01mfrom\u001b[39;00m\u001b[38;5;250m \u001b[39m\u001b[38;5;21;01mexc\u001b[39;00m\n",
      "File \u001b[0;32m~/Projects/UBMI-IFC-Podcast/venv/lib/python3.10/site-packages/aiohttp/streams.py:672\u001b[0m, in \u001b[0;36mDataQueue.read\u001b[0;34m(self)\u001b[0m\n\u001b[1;32m    670\u001b[0m \u001b[38;5;28mself\u001b[39m\u001b[38;5;241m.\u001b[39m_waiter \u001b[38;5;241m=\u001b[39m \u001b[38;5;28mself\u001b[39m\u001b[38;5;241m.\u001b[39m_loop\u001b[38;5;241m.\u001b[39mcreate_future()\n\u001b[1;32m    671\u001b[0m \u001b[38;5;28;01mtry\u001b[39;00m:\n\u001b[0;32m--> 672\u001b[0m     \u001b[38;5;28;01mawait\u001b[39;00m \u001b[38;5;28mself\u001b[39m\u001b[38;5;241m.\u001b[39m_waiter\n\u001b[1;32m    673\u001b[0m \u001b[38;5;28;01mexcept\u001b[39;00m (asyncio\u001b[38;5;241m.\u001b[39mCancelledError, asyncio\u001b[38;5;241m.\u001b[39mTimeoutError):\n\u001b[1;32m    674\u001b[0m     \u001b[38;5;28mself\u001b[39m\u001b[38;5;241m.\u001b[39m_waiter \u001b[38;5;241m=\u001b[39m \u001b[38;5;28;01mNone\u001b[39;00m\n",
      "\u001b[0;31mCancelledError\u001b[0m: "
     ]
    }
   ],
   "source": [
    "# Test saving publications\n",
    "output_dir = Path(\"../data/raw\")\n",
    "output_dir.mkdir(parents=True, exist_ok=True)\n",
    "\n",
    "try:\n",
    "    all_publications = await scraper.scrape_all_years(2021, 2025)\n",
    "    print(f\"Successfully scraped {len(all_publications)} total publications\")\n",
    "    \n",
    "    # Save all data\n",
    "    scraper.save_publications(all_publications, output_dir / \"all_ifc_publications.json\")\n",
    "    \n",
    "    # Analysis\n",
    "    df = pd.DataFrame([{\n",
    "        'title': pub.title,\n",
    "        'authors': pub.authors,\n",
    "        'journal': pub.journal,\n",
    "        'yeear': pub.year,\n",
    "        'has_abstract': bool(pub.abstract)\n",
    "    } for pub in all_publications])\n",
    "    \n",
    "    print(\"\\nData summary:\")\n",
    "    print(df.groupby('year').size())\n",
    "    print(f\"\\nArticles with abstracts: {df['has_abstract'].sum()}/{len(df)}\")\n",
    "    \n",
    "except Exception as e:\n",
    "    print(f\"Multi-year scraping failed: {e}\")\n",
    "\n",
    "print(\"Multi-year test commented out - uncomment when single year works\")\n",
    "\n",
    "# Verify saved data\n",
    "import json\n",
    "with open(output_dir / \"test_ifc_publications.json\", 'r') as f:\n",
    "    saved_data = json.load(f)\n",
    "    \n",
    "print(f\"Saved {len(saved_data)} publications to file\")\n",
    "print(\"Sample saved data:\")\n",
    "print(json.dumps(saved_data[0], indent=2, ensure_ascii=False))"
   ]
  },
  {
   "cell_type": "markdown",
   "id": "d9cda510",
   "metadata": {},
   "source": [
    "> update scraper test"
   ]
  },
  {
   "cell_type": "code",
   "execution_count": null,
   "id": "57f141d3",
   "metadata": {},
   "outputs": [
    {
     "name": "stderr",
     "output_type": "stream",
     "text": [
      "\u001b[32m2025-09-19 13:59:03\u001b[0m | \u001b[1mINFO\u001b[0m | \u001b[36mscrapers.ifc_scraper\u001b[0m:\u001b[36mscrape_publications_by_year\u001b[0m:\u001b[36m61\u001b[0m - \u001b[1mScraping publications for year 2020\u001b[0m\n"
     ]
    },
    {
     "name": "stdout",
     "output_type": "stream",
     "text": [
      "🚀 Starting comprehensive scraping of IFC publications...\n",
      "\n",
      "📅 Scraping year 2020...\n"
     ]
    },
    {
     "name": "stderr",
     "output_type": "stream",
     "text": [
      "\u001b[32m2025-09-19 13:59:05\u001b[0m | \u001b[1mINFO\u001b[0m | \u001b[36mscrapers.ifc_scraper\u001b[0m:\u001b[36m_parse_publications_page\u001b[0m:\u001b[36m97\u001b[0m - \u001b[1mFound 141 potential publication links\u001b[0m\n",
      "\u001b[32m2025-09-19 13:59:05\u001b[0m | \u001b[1mINFO\u001b[0m | \u001b[36mscrapers.ifc_scraper\u001b[0m:\u001b[36m_parse_publications_page\u001b[0m:\u001b[36m158\u001b[0m - \u001b[1mSuccessfully parsed 128 publications\u001b[0m\n"
     ]
    },
    {
     "name": "stdout",
     "output_type": "stream",
     "text": [
      "   ✅ Found 128 publications for 2020\n"
     ]
    },
    {
     "name": "stderr",
     "output_type": "stream",
     "text": [
      "\u001b[32m2025-09-19 14:05:29\u001b[0m | \u001b[1mINFO\u001b[0m | \u001b[36mscrapers.ifc_scraper\u001b[0m:\u001b[36mscrape_publications_by_year\u001b[0m:\u001b[36m61\u001b[0m - \u001b[1mScraping publications for year 2021\u001b[0m\n"
     ]
    },
    {
     "name": "stdout",
     "output_type": "stream",
     "text": [
      "\n",
      "📅 Scraping year 2021...\n"
     ]
    },
    {
     "name": "stderr",
     "output_type": "stream",
     "text": [
      "\u001b[32m2025-09-19 14:05:31\u001b[0m | \u001b[1mINFO\u001b[0m | \u001b[36mscrapers.ifc_scraper\u001b[0m:\u001b[36m_parse_publications_page\u001b[0m:\u001b[36m97\u001b[0m - \u001b[1mFound 149 potential publication links\u001b[0m\n",
      "\u001b[32m2025-09-19 14:05:31\u001b[0m | \u001b[1mINFO\u001b[0m | \u001b[36mscrapers.ifc_scraper\u001b[0m:\u001b[36m_parse_publications_page\u001b[0m:\u001b[36m158\u001b[0m - \u001b[1mSuccessfully parsed 131 publications\u001b[0m\n"
     ]
    },
    {
     "name": "stdout",
     "output_type": "stream",
     "text": [
      "   ✅ Found 131 publications for 2021\n"
     ]
    },
    {
     "name": "stderr",
     "output_type": "stream",
     "text": [
      "\u001b[32m2025-09-19 14:13:58\u001b[0m | \u001b[1mINFO\u001b[0m | \u001b[36mscrapers.ifc_scraper\u001b[0m:\u001b[36mscrape_publications_by_year\u001b[0m:\u001b[36m61\u001b[0m - \u001b[1mScraping publications for year 2022\u001b[0m\n"
     ]
    },
    {
     "name": "stdout",
     "output_type": "stream",
     "text": [
      "\n",
      "📅 Scraping year 2022...\n"
     ]
    },
    {
     "name": "stderr",
     "output_type": "stream",
     "text": [
      "\u001b[32m2025-09-19 14:14:00\u001b[0m | \u001b[1mINFO\u001b[0m | \u001b[36mscrapers.ifc_scraper\u001b[0m:\u001b[36m_parse_publications_page\u001b[0m:\u001b[36m97\u001b[0m - \u001b[1mFound 122 potential publication links\u001b[0m\n",
      "\u001b[32m2025-09-19 14:14:00\u001b[0m | \u001b[1mINFO\u001b[0m | \u001b[36mscrapers.ifc_scraper\u001b[0m:\u001b[36m_parse_publications_page\u001b[0m:\u001b[36m158\u001b[0m - \u001b[1mSuccessfully parsed 26 publications\u001b[0m\n"
     ]
    },
    {
     "name": "stdout",
     "output_type": "stream",
     "text": [
      "   ✅ Found 26 publications for 2022\n"
     ]
    },
    {
     "name": "stderr",
     "output_type": "stream",
     "text": [
      "\u001b[32m2025-09-19 14:15:20\u001b[0m | \u001b[1mINFO\u001b[0m | \u001b[36mscrapers.ifc_scraper\u001b[0m:\u001b[36mscrape_publications_by_year\u001b[0m:\u001b[36m61\u001b[0m - \u001b[1mScraping publications for year 2023\u001b[0m\n"
     ]
    },
    {
     "name": "stdout",
     "output_type": "stream",
     "text": [
      "\n",
      "📅 Scraping year 2023...\n"
     ]
    },
    {
     "name": "stderr",
     "output_type": "stream",
     "text": [
      "\u001b[32m2025-09-19 14:15:22\u001b[0m | \u001b[1mINFO\u001b[0m | \u001b[36mscrapers.ifc_scraper\u001b[0m:\u001b[36m_parse_publications_page\u001b[0m:\u001b[36m97\u001b[0m - \u001b[1mFound 120 potential publication links\u001b[0m\n",
      "\u001b[32m2025-09-19 14:15:22\u001b[0m | \u001b[1mINFO\u001b[0m | \u001b[36mscrapers.ifc_scraper\u001b[0m:\u001b[36m_parse_publications_page\u001b[0m:\u001b[36m158\u001b[0m - \u001b[1mSuccessfully parsed 32 publications\u001b[0m\n"
     ]
    },
    {
     "name": "stdout",
     "output_type": "stream",
     "text": [
      "   ✅ Found 32 publications for 2023\n"
     ]
    },
    {
     "name": "stderr",
     "output_type": "stream",
     "text": [
      "\u001b[32m2025-09-19 14:17:00\u001b[0m | \u001b[1mINFO\u001b[0m | \u001b[36mscrapers.ifc_scraper\u001b[0m:\u001b[36mscrape_publications_by_year\u001b[0m:\u001b[36m61\u001b[0m - \u001b[1mScraping publications for year 2024\u001b[0m\n"
     ]
    },
    {
     "name": "stdout",
     "output_type": "stream",
     "text": [
      "\n",
      "📅 Scraping year 2024...\n"
     ]
    },
    {
     "name": "stderr",
     "output_type": "stream",
     "text": [
      "\u001b[32m2025-09-19 14:17:02\u001b[0m | \u001b[1mINFO\u001b[0m | \u001b[36mscrapers.ifc_scraper\u001b[0m:\u001b[36m_parse_publications_page\u001b[0m:\u001b[36m97\u001b[0m - \u001b[1mFound 125 potential publication links\u001b[0m\n",
      "\u001b[32m2025-09-19 14:17:02\u001b[0m | \u001b[1mINFO\u001b[0m | \u001b[36mscrapers.ifc_scraper\u001b[0m:\u001b[36m_parse_publications_page\u001b[0m:\u001b[36m158\u001b[0m - \u001b[1mSuccessfully parsed 87 publications\u001b[0m\n"
     ]
    },
    {
     "name": "stdout",
     "output_type": "stream",
     "text": [
      "   ✅ Found 87 publications for 2024\n"
     ]
    },
    {
     "name": "stderr",
     "output_type": "stream",
     "text": [
      "\u001b[32m2025-09-19 14:21:24\u001b[0m | \u001b[1mINFO\u001b[0m | \u001b[36mscrapers.ifc_scraper\u001b[0m:\u001b[36msave_publications\u001b[0m:\u001b[36m267\u001b[0m - \u001b[1mSaved 404 publications to ../data/raw/all_ifc_publications.json\u001b[0m\n"
     ]
    },
    {
     "name": "stdout",
     "output_type": "stream",
     "text": [
      "\n",
      "🎉 Total publications collected: 404\n",
      "\n",
      "📊 Data Summary:\n",
      "   Publications by year:\n",
      "year\n",
      "2018      1\n",
      "2019      1\n",
      "2020    130\n",
      "2021    128\n",
      "2022     25\n",
      "2023     35\n",
      "2024     83\n",
      "2025      1\n",
      "Name: count, dtype: int64\n",
      "\n",
      "   Publications with DOI: 402/404\n",
      "   Publications with abstract: 404/404\n"
     ]
    }
   ],
   "source": [
    "# Cell: Test scraping ALL available years\n",
    "import asyncio\n",
    "import pandas as pd\n",
    "from pathlib import Path\n",
    "\n",
    "async def scrape_all_available_publications():\n",
    "    \"\"\"Scrape publications from all available years (2020-2024)\"\"\"\n",
    "    print(\"🚀 Starting comprehensive scraping of IFC publications...\")\n",
    "    \n",
    "    all_publications = []\n",
    "    years_to_scrape = range(2020, 2025)  # Adjust range as needed\n",
    "    \n",
    "    for year in years_to_scrape:\n",
    "        print(f\"\\n📅 Scraping year {year}...\")\n",
    "        try:\n",
    "            publications = await scraper.scrape_publications_by_year(year)\n",
    "            if publications:\n",
    "                all_publications.extend(publications)\n",
    "                print(f\"   ✅ Found {len(publications)} publications for {year}\")\n",
    "            else:\n",
    "                print(f\"   ⚠️ No publications found for {year}\")\n",
    "                \n",
    "            # Rate limiting\n",
    "            await asyncio.sleep(2)\n",
    "            \n",
    "        except Exception as e:\n",
    "            print(f\"   ❌ Error scraping {year}: {e}\")\n",
    "            continue\n",
    "    \n",
    "    print(f\"\\n🎉 Total publications collected: {len(all_publications)}\")\n",
    "    \n",
    "    # Save raw data\n",
    "    output_dir = Path(\"../data/raw\")\n",
    "    output_dir.mkdir(parents=True, exist_ok=True)\n",
    "    \n",
    "    scraper.save_publications(all_publications, output_dir / \"all_ifc_publications.json\")\n",
    "    \n",
    "    # Create summary DataFrame\n",
    "    df = pd.DataFrame([{\n",
    "        'title': pub.title,\n",
    "        'authors': pub.authors,\n",
    "        'journal': pub.journal,\n",
    "        'year': pub.year,\n",
    "        'doi': pub.doi,\n",
    "        'abstract': pub.abstract[:200] if pub.abstract else 'No abstract',\n",
    "        'has_doi': bool(pub.doi),\n",
    "        'has_abstract': bool(pub.abstract)\n",
    "    } for pub in all_publications])\n",
    "    \n",
    "    print(\"\\n📊 Data Summary:\")\n",
    "    print(f\"   Publications by year:\")\n",
    "    print(df['year'].value_counts().sort_index())\n",
    "    print(f\"\\n   Publications with DOI: {df['has_doi'].sum()}/{len(df)}\")\n",
    "    print(f\"   Publications with abstract: {df['has_abstract'].sum()}/{len(df)}\")\n",
    "    \n",
    "    return all_publications, df\n",
    "\n",
    "# Run comprehensive scraping\n",
    "all_pubs, summary_df = await scrape_all_available_publications()"
   ]
  },
  {
   "cell_type": "markdown",
   "id": "a17ac3e9",
   "metadata": {},
   "source": [
    "## Embeddings and ChromaDB"
   ]
  },
  {
   "cell_type": "code",
   "execution_count": 4,
   "id": "d315f31c",
   "metadata": {},
   "outputs": [
    {
     "name": "stdout",
     "output_type": "stream",
     "text": [
      "✅ PublicationEmbeddingSystem class loaded successfully!\n"
     ]
    }
   ],
   "source": [
    "# Cell 7: Fixed Publication embedding system\n",
    "\"\"\"\n",
    "Publication embedding system using ChromaDB and UMAP\n",
    "\"\"\"\n",
    "\n",
    "import numpy as np\n",
    "import pandas as pd\n",
    "from pathlib import Path\n",
    "from typing import List, Dict, Tuple, Optional\n",
    "import json\n",
    "import hashlib\n",
    "import uuid\n",
    "\n",
    "# Embedding and ML libraries\n",
    "from sentence_transformers import SentenceTransformer\n",
    "import chromadb\n",
    "from chromadb.config import Settings\n",
    "import umap\n",
    "from sklearn.preprocessing import StandardScaler\n",
    "\n",
    "# Visualization\n",
    "import matplotlib.pyplot as plt\n",
    "import seaborn as sns\n",
    "import plotly.express as px\n",
    "import plotly.graph_objects as go\n",
    "\n",
    "# Fixed imports for notebook usage\n",
    "from utils.logger import get_logger\n",
    "from utils.config import load_config, get_data_dir\n",
    "from scrapers.ifc_scraper import Publication\n",
    "\n",
    "\n",
    "class PublicationEmbeddingSystem:\n",
    "    \"\"\"System for creating and managing publication embeddings\"\"\"\n",
    "    \n",
    "    def __init__(self, config: Dict = None):\n",
    "        self.config = config or load_config()\n",
    "        self.logger = get_logger(__name__)\n",
    "        \n",
    "        # Initialize embedding model\n",
    "        model_name = 'all-MiniLM-L6-v2'\n",
    "        self.logger.info(f\"Loading embedding model: {model_name}\")\n",
    "        self.embedding_model = SentenceTransformer(model_name)\n",
    "        \n",
    "        # Initialize ChromaDB\n",
    "        self.data_dir = get_data_dir()\n",
    "        self.chroma_dir = self.data_dir / \"chromadb\"\n",
    "        self.chroma_dir.mkdir(parents=True, exist_ok=True)\n",
    "        \n",
    "        self.logger.info(f\"Initializing ChromaDB at: {self.chroma_dir}\")\n",
    "        self.chroma_client = chromadb.PersistentClient(\n",
    "            path=str(self.chroma_dir),\n",
    "            settings=Settings(\n",
    "                anonymized_telemetry=False,\n",
    "                allow_reset=True\n",
    "            )\n",
    "        )\n",
    "        \n",
    "        # Collection for publications\n",
    "        self.collection_name = \"ifc_publications\"\n",
    "        \n",
    "    def create_publication_embeddings(self, publications: List[Publication]) -> Dict:\n",
    "        \"\"\"\n",
    "        Create embeddings for all publications\n",
    "        \n",
    "        Args:\n",
    "            publications: List of Publication objects\n",
    "            \n",
    "        Returns:\n",
    "            Dictionary with embeddings and metadata\n",
    "        \"\"\"\n",
    "        self.logger.info(f\"Creating embeddings for {len(publications)} publications...\")\n",
    "        \n",
    "        # Prepare texts for embedding\n",
    "        texts, metadata, ids = self._prepare_texts_and_metadata(publications)\n",
    "        \n",
    "        # Generate embeddings\n",
    "        self.logger.info(\"Generating embeddings with SentenceTransformer...\")\n",
    "        embeddings = self.embedding_model.encode(texts, show_progress_bar=True)\n",
    "        \n",
    "        # Store in ChromaDB\n",
    "        self.logger.info(\"Storing embeddings in ChromaDB...\")\n",
    "        self._store_in_chromadb(ids, embeddings, texts, metadata)\n",
    "        \n",
    "        # Create UMAP projection\n",
    "        self.logger.info(\"Creating UMAP projection...\")\n",
    "        umap_embeddings = self._create_umap_projection(embeddings)\n",
    "        \n",
    "        result = {\n",
    "            'embeddings': embeddings,\n",
    "            'umap_embeddings': umap_embeddings,\n",
    "            'texts': texts,\n",
    "            'metadata': metadata,\n",
    "            'ids': ids,\n",
    "            'publications': publications\n",
    "        }\n",
    "        \n",
    "        # Save results\n",
    "        self._save_embedding_results(result)\n",
    "        \n",
    "        self.logger.info(\"✅ Embedding creation complete!\")\n",
    "        return result\n",
    "    \n",
    "    def _prepare_texts_and_metadata(self, publications: List[Publication]) -> Tuple[List[str], List[Dict], List[str]]:\n",
    "        \"\"\"Prepare texts and metadata for embedding\"\"\"\n",
    "        texts = []\n",
    "        metadata = []\n",
    "        ids = []\n",
    "        \n",
    "        for i, pub in enumerate(publications):\n",
    "            # Create rich text for embedding\n",
    "            text_parts = []\n",
    "            \n",
    "            if pub.title:\n",
    "                text_parts.append(f\"Title: {pub.title}\")\n",
    "            \n",
    "            if pub.abstract:\n",
    "                text_parts.append(f\"Abstract: {pub.abstract}\")\n",
    "            else:\n",
    "                # Fallback: use authors and journal if no abstract\n",
    "                if pub.authors:\n",
    "                    text_parts.append(f\"Authors: {pub.authors}\")\n",
    "                if pub.journal:\n",
    "                    text_parts.append(f\"Journal: {pub.journal}\")\n",
    "            \n",
    "            if pub.keywords:\n",
    "                text_parts.append(f\"Keywords: {', '.join(pub.keywords)}\")\n",
    "            \n",
    "            combined_text = \" \".join(text_parts)\n",
    "            texts.append(combined_text)\n",
    "            \n",
    "            # Create unique ID\n",
    "            pub_id = f\"pub_{i}_{uuid.uuid4().hex[:8]}\"\n",
    "            ids.append(pub_id)\n",
    "            \n",
    "            # Metadata for ChromaDB (must be JSON serializable)\n",
    "            meta = {\n",
    "                'title': pub.title or '',\n",
    "                'authors': pub.authors or '',\n",
    "                'journal': pub.journal or '',\n",
    "                'year': int(pub.year),\n",
    "                'doi': pub.doi or '',\n",
    "                'pubmed_id': pub.pubmed_id or '',\n",
    "                'ifc_url': pub.ifc_url or '',\n",
    "                'has_abstract': bool(pub.abstract),\n",
    "                'text_length': len(combined_text),\n",
    "                'index': i\n",
    "            }\n",
    "            metadata.append(meta)\n",
    "        \n",
    "        return texts, metadata, ids\n",
    "    \n",
    "    def _store_in_chromadb(self, ids: List[str], embeddings: np.ndarray, \n",
    "                          texts: List[str], metadata: List[Dict]):\n",
    "        \"\"\"Store embeddings in ChromaDB\"\"\"\n",
    "        try:\n",
    "            # Delete existing collection if it exists\n",
    "            try:\n",
    "                self.chroma_client.delete_collection(self.collection_name)\n",
    "                self.logger.info(f\"Deleted existing collection: {self.collection_name}\")\n",
    "            except Exception:\n",
    "                pass  # Collection might not exist\n",
    "            \n",
    "            # Create new collection\n",
    "            collection = self.chroma_client.create_collection(\n",
    "                name=self.collection_name,\n",
    "                metadata={\"description\": \"IFC-UNAM Publications Embeddings\"}\n",
    "            )\n",
    "            \n",
    "            # Add documents in batches\n",
    "            batch_size = 100\n",
    "            total_added = 0\n",
    "            \n",
    "            for i in range(0, len(ids), batch_size):\n",
    "                end_idx = min(i + batch_size, len(ids))\n",
    "                \n",
    "                batch_ids = ids[i:end_idx]\n",
    "                batch_embeddings = embeddings[i:end_idx].tolist()\n",
    "                batch_texts = texts[i:end_idx]\n",
    "                batch_metadata = metadata[i:end_idx]\n",
    "                \n",
    "                collection.add(\n",
    "                    ids=batch_ids,\n",
    "                    embeddings=batch_embeddings,\n",
    "                    documents=batch_texts,\n",
    "                    metadatas=batch_metadata\n",
    "                )\n",
    "                \n",
    "                total_added += len(batch_ids)\n",
    "                self.logger.info(f\"Added batch {i//batch_size + 1}, total: {total_added}/{len(ids)}\")\n",
    "            \n",
    "            self.logger.info(f\"✅ Stored {len(ids)} embeddings in ChromaDB collection '{self.collection_name}'\")\n",
    "            \n",
    "        except Exception as e:\n",
    "            self.logger.error(f\"Error storing in ChromaDB: {e}\")\n",
    "            raise\n",
    "    \n",
    "    def _create_umap_projection(self, embeddings: np.ndarray) -> np.ndarray:\n",
    "        \"\"\"Create 2D UMAP projection of embeddings\"\"\"\n",
    "        if len(embeddings) < 15:\n",
    "            self.logger.warning(\"Too few embeddings for optimal UMAP. Using smaller n_neighbors.\")\n",
    "            n_neighbors = max(2, len(embeddings) - 1)\n",
    "        else:\n",
    "            n_neighbors = 15\n",
    "        \n",
    "        # Standardize embeddings\n",
    "        scaler = StandardScaler()\n",
    "        embeddings_scaled = scaler.fit_transform(embeddings)\n",
    "        \n",
    "        # UMAP projection\n",
    "        umap_reducer = umap.UMAP(\n",
    "            n_components=2,\n",
    "            n_neighbors=n_neighbors,\n",
    "            min_dist=0.1,\n",
    "            metric='cosine',\n",
    "            random_state=42\n",
    "        )\n",
    "        \n",
    "        umap_embeddings = umap_reducer.fit_transform(embeddings_scaled)\n",
    "        \n",
    "        # Save UMAP model for future use\n",
    "        import pickle\n",
    "        models_dir = self.data_dir / \"models\"\n",
    "        models_dir.mkdir(parents=True, exist_ok=True)\n",
    "        \n",
    "        with open(models_dir / \"umap_model.pkl\", 'wb') as f:\n",
    "            pickle.dump(umap_reducer, f)\n",
    "        \n",
    "        with open(models_dir / \"scaler.pkl\", 'wb') as f:\n",
    "            pickle.dump(scaler, f)\n",
    "        \n",
    "        return umap_embeddings\n",
    "    \n",
    "    def _save_embedding_results(self, results: Dict):\n",
    "        \"\"\"Save embedding results to disk\"\"\"\n",
    "        output_dir = self.data_dir / \"processed\"\n",
    "        output_dir.mkdir(parents=True, exist_ok=True)\n",
    "        \n",
    "        # Save embeddings and UMAP coordinates\n",
    "        np.save(output_dir / \"publication_embeddings.npy\", results['embeddings'])\n",
    "        np.save(output_dir / \"umap_coordinates.npy\", results['umap_embeddings'])\n",
    "        \n",
    "        # Save metadata as DataFrame with UMAP coordinates\n",
    "        df = pd.DataFrame(results['metadata'])\n",
    "        df['umap_x'] = results['umap_embeddings'][:, 0]\n",
    "        df['umap_y'] = results['umap_embeddings'][:, 1]\n",
    "        df['id'] = results['ids']\n",
    "        df.to_csv(output_dir / \"publications_with_coordinates.csv\", index=False)\n",
    "        \n",
    "        self.logger.info(f\"Saved embedding results to {output_dir}\")\n",
    "    \n",
    "    def visualize_embeddings(self, results: Dict, save_plots: bool = True):\n",
    "        \"\"\"Create visualizations of the embeddings\"\"\"\n",
    "        self.logger.info(\"Creating embedding visualizations...\")\n",
    "        \n",
    "        # Prepare data for plotting\n",
    "        df = pd.DataFrame(results['metadata'])\n",
    "        df['umap_x'] = results['umap_embeddings'][:, 0]\n",
    "        df['umap_y'] = results['umap_embeddings'][:, 1]\n",
    "        \n",
    "        # Create visualizations\n",
    "        figs = []\n",
    "        \n",
    "        # 1. Basic scatter plot colored by year\n",
    "        fig1 = self._plot_basic_scatter(df)\n",
    "        figs.append(('basic_scatter', fig1))\n",
    "        \n",
    "        # 2. Interactive plot with hover information\n",
    "        fig2 = self._plot_interactive(df)\n",
    "        figs.append(('interactive', fig2))\n",
    "        \n",
    "        # 3. Journal clustering (if we have multiple journals)\n",
    "        if len(df['journal'].unique()) > 1:\n",
    "            fig3 = self._plot_journal_clusters(df)\n",
    "            figs.append(('journal_clusters', fig3))\n",
    "        \n",
    "        # 4. Year evolution (if we have multiple years)\n",
    "        if len(df['year'].unique()) > 1:\n",
    "            fig4 = self._plot_year_evolution(df)\n",
    "            figs.append(('year_evolution', fig4))\n",
    "        \n",
    "        if save_plots:\n",
    "            self._save_plots(figs)\n",
    "        \n",
    "        return figs\n",
    "    \n",
    "    def _plot_basic_scatter(self, df: pd.DataFrame):\n",
    "        \"\"\"Basic scatter plot of UMAP coordinates\"\"\"\n",
    "        fig, ax = plt.subplots(figsize=(12, 8))\n",
    "        \n",
    "        scatter = ax.scatter(\n",
    "            df['umap_x'], df['umap_y'], \n",
    "            c=df['year'], \n",
    "            cmap='viridis', \n",
    "            alpha=0.7, \n",
    "            s=60\n",
    "        )\n",
    "        \n",
    "        ax.set_xlabel('UMAP Dimension 1')\n",
    "        ax.set_ylabel('UMAP Dimension 2')\n",
    "        ax.set_title('IFC Publications Embedding Space (UMAP Projection)')\n",
    "        ax.grid(True, alpha=0.3)\n",
    "        \n",
    "        cbar = plt.colorbar(scatter, ax=ax)\n",
    "        cbar.set_label('Publication Year')\n",
    "        \n",
    "        plt.tight_layout()\n",
    "        return fig\n",
    "    \n",
    "    def _plot_interactive(self, df: pd.DataFrame):\n",
    "        \"\"\"Interactive plotly visualization\"\"\"\n",
    "        # Truncate long titles for hover display\n",
    "        df_plot = df.copy()\n",
    "        df_plot['title_short'] = df_plot['title'].apply(lambda x: x[:60] + '...' if len(x) > 60 else x)\n",
    "        df_plot['authors_short'] = df_plot['authors'].apply(lambda x: x[:40] + '...' if len(x) > 40 else x)\n",
    "        \n",
    "        fig = px.scatter(\n",
    "            df_plot, \n",
    "            x='umap_x', \n",
    "            y='umap_y',\n",
    "            color='year',\n",
    "            hover_data=['title_short', 'authors_short', 'journal'],\n",
    "            title='Interactive IFC Publications Map',\n",
    "            labels={'umap_x': 'UMAP Dimension 1', 'umap_y': 'UMAP Dimension 2'},\n",
    "            color_continuous_scale='viridis'\n",
    "        )\n",
    "        \n",
    "        fig.update_traces(marker=dict(size=8, opacity=0.7))\n",
    "        fig.update_layout(width=1000, height=700)\n",
    "        \n",
    "        return fig\n",
    "    \n",
    "    def _plot_journal_clusters(self, df: pd.DataFrame):\n",
    "        \"\"\"Plot clustering by journal\"\"\"\n",
    "        # Get top journals (limit to avoid overcrowding)\n",
    "        top_journals = df['journal'].value_counts().head(10).index\n",
    "        df_filtered = df[df['journal'].isin(top_journals)]\n",
    "        \n",
    "        fig = px.scatter(\n",
    "            df_filtered,\n",
    "            x='umap_x',\n",
    "            y='umap_y',\n",
    "            color='journal',\n",
    "            title='Publications Clustered by Journal (Top 10)',\n",
    "            labels={'umap_x': 'UMAP Dimension 1', 'umap_y': 'UMAP Dimension 2'}\n",
    "        )\n",
    "        \n",
    "        fig.update_traces(marker=dict(size=10, opacity=0.8))\n",
    "        fig.update_layout(width=1200, height=800)\n",
    "        \n",
    "        return fig\n",
    "    \n",
    "    def _plot_year_evolution(self, df: pd.DataFrame):\n",
    "        \"\"\"Plot showing evolution over years\"\"\"\n",
    "        years = sorted(df['year'].unique())\n",
    "        n_years = len(years)\n",
    "        \n",
    "        if n_years <= 4:\n",
    "            cols = 2\n",
    "            rows = 2\n",
    "        else:\n",
    "            cols = 3\n",
    "            rows = (n_years + 2) // 3\n",
    "        \n",
    "        fig, axes = plt.subplots(rows, cols, figsize=(5*cols, 4*rows))\n",
    "        if rows == 1 and cols == 1:\n",
    "            axes = [axes]\n",
    "        elif rows == 1 or cols == 1:\n",
    "            axes = axes.flatten()\n",
    "        else:\n",
    "            axes = axes.flatten()\n",
    "        \n",
    "        colors = plt.cm.viridis(np.linspace(0, 1, n_years))\n",
    "        \n",
    "        for i, year in enumerate(years):\n",
    "            if i < len(axes):\n",
    "                year_data = df[df['year'] == year]\n",
    "                axes[i].scatter(year_data['umap_x'], year_data['umap_y'], \n",
    "                              alpha=0.7, s=50, color=colors[i])\n",
    "                axes[i].set_title(f'Publications {year} (n={len(year_data)})')\n",
    "                axes[i].set_xlabel('UMAP Dimension 1')\n",
    "                axes[i].set_ylabel('UMAP Dimension 2')\n",
    "                axes[i].grid(True, alpha=0.3)\n",
    "        \n",
    "        # Hide empty subplots\n",
    "        for i in range(len(years), len(axes)):\n",
    "            axes[i].set_visible(False)\n",
    "        \n",
    "        plt.tight_layout()\n",
    "        return fig\n",
    "    \n",
    "    def _save_plots(self, figs: List[Tuple[str, any]]):\n",
    "        \"\"\"Save plots to disk\"\"\"\n",
    "        plots_dir = self.data_dir / \"plots\"\n",
    "        plots_dir.mkdir(parents=True, exist_ok=True)\n",
    "        \n",
    "        for name, fig in figs:\n",
    "            try:\n",
    "                if hasattr(fig, 'write_html'):  # Plotly figure\n",
    "                    fig.write_html(plots_dir / f\"{name}.html\")\n",
    "                    self.logger.info(f\"Saved {name}.html\")\n",
    "                else:  # Matplotlib figure\n",
    "                    fig.savefig(plots_dir / f\"{name}.png\", dpi=300, bbox_inches='tight')\n",
    "                    fig.savefig(plots_dir / f\"{name}.pdf\", bbox_inches='tight')\n",
    "                    self.logger.info(f\"Saved {name}.png and {name}.pdf\")\n",
    "                    plt.close(fig)  # Close to free memory\n",
    "            except Exception as e:\n",
    "                self.logger.error(f\"Error saving plot {name}: {e}\")\n",
    "    \n",
    "    def search_similar_publications(self, query: str, n_results: int = 5) -> Dict:\n",
    "        \"\"\"Search for similar publications using vector similarity\"\"\"\n",
    "        try:\n",
    "            collection = self.chroma_client.get_collection(self.collection_name)\n",
    "            results = collection.query(\n",
    "                query_texts=[query],\n",
    "                n_results=n_results\n",
    "            )\n",
    "            return results\n",
    "        except Exception as e:\n",
    "            self.logger.error(f\"Error searching publications: {e}\")\n",
    "            return {'error': str(e)}\n",
    "\n",
    "\n",
    "def load_publications_from_file(file_path: str) -> List[Publication]:\n",
    "    \"\"\"Load publications from JSON file\"\"\"\n",
    "    with open(file_path, 'r', encoding='utf-8') as f:\n",
    "        data = json.load(f)\n",
    "    \n",
    "    publications = []\n",
    "    for item in data:\n",
    "        pub = Publication(\n",
    "            title=item.get('title', ''),\n",
    "            authors=item.get('authors', ''),\n",
    "            journal=item.get('journal', ''),\n",
    "            year=item.get('year', 2024),\n",
    "            doi=item.get('doi'),\n",
    "            pubmed_id=item.get('pubmed_id'),\n",
    "            ifc_url=item.get('ifc_url'),\n",
    "            abstract=item.get('abstract'),\n",
    "            keywords=item.get('keywords')\n",
    "        )\n",
    "        publications.append(pub)\n",
    "    \n",
    "    return publications\n",
    "\n",
    "print(\"✅ PublicationEmbeddingSystem class loaded successfully!\")"
   ]
  },
  {
   "cell_type": "markdown",
   "id": "b277ea51",
   "metadata": {},
   "source": [
    "## Create embedding pipeline"
   ]
  },
  {
   "cell_type": "code",
   "execution_count": 10,
   "id": "2381d2ef",
   "metadata": {},
   "outputs": [
    {
     "name": "stderr",
     "output_type": "stream",
     "text": [
      "\u001b[32m2025-09-19 14:33:57\u001b[0m | \u001b[1mINFO\u001b[0m | \u001b[36m__main__\u001b[0m:\u001b[36m__init__\u001b[0m:\u001b[36m42\u001b[0m - \u001b[1mLoading embedding model: all-MiniLM-L6-v2\u001b[0m\n"
     ]
    },
    {
     "name": "stdout",
     "output_type": "stream",
     "text": [
      "✅ Found publication data: ../data/raw/all_ifc_publications.json\n",
      "📚 Loaded 404 publications\n",
      "📅 Year range: 2018 - 2025\n",
      "📄 With abstracts: 404\n",
      "\n",
      "🔧 Initializing Publication Embedding System...\n"
     ]
    },
    {
     "name": "stderr",
     "output_type": "stream",
     "text": [
      "\u001b[32m2025-09-19 14:33:59\u001b[0m | \u001b[1mINFO\u001b[0m | \u001b[36m__main__\u001b[0m:\u001b[36m__init__\u001b[0m:\u001b[36m50\u001b[0m - \u001b[1mInitializing ChromaDB at: /home/santi/Projects/UBMI-IFC-Podcast/data/chromadb\u001b[0m\n"
     ]
    },
    {
     "name": "stdout",
     "output_type": "stream",
     "text": [
      "✅ Embedding system initialized!\n",
      "🚀 Ready to create embeddings!\n"
     ]
    }
   ],
   "source": [
    "# Cell 9: Load publications and create embedding system\n",
    "# Load the scraped publications data\n",
    "data_file = Path(\"../data/raw/all_ifc_publications.json\")\n",
    "\n",
    "if data_file.exists():\n",
    "    print(f\"✅ Found publication data: {data_file}\")\n",
    "    \n",
    "    # Load publications using the function from Cell 7\n",
    "    publications = load_publications_from_file(str(data_file))\n",
    "    print(f\"📚 Loaded {len(publications)} publications\")\n",
    "    \n",
    "    # Quick stats\n",
    "    years = [pub.year for pub in publications]\n",
    "    print(f\"📅 Year range: {min(years)} - {max(years)}\")\n",
    "    print(f\"📄 With abstracts: {sum(1 for pub in publications if pub.abstract)}\")\n",
    "    \n",
    "    # Initialize the embedding system (using class from Cell 7)\n",
    "    print(\"\\n🔧 Initializing Publication Embedding System...\")\n",
    "    embedding_system = PublicationEmbeddingSystem()\n",
    "    print(\"✅ Embedding system initialized!\")\n",
    "    \n",
    "else:\n",
    "    print(\"❌ No publication data found. Please run the scraper first.\")\n",
    "    publications = []\n",
    "    embedding_system = None\n",
    "\n",
    "print(\"🚀 Ready to create embeddings!\")"
   ]
  },
  {
   "cell_type": "code",
   "execution_count": 11,
   "id": "3eff8f73",
   "metadata": {},
   "outputs": [
    {
     "name": "stderr",
     "output_type": "stream",
     "text": [
      "\u001b[32m2025-09-19 14:34:26\u001b[0m | \u001b[1mINFO\u001b[0m | \u001b[36m__main__\u001b[0m:\u001b[36mcreate_publication_embeddings\u001b[0m:\u001b[36m72\u001b[0m - \u001b[1mCreating embeddings for 404 publications...\u001b[0m\n",
      "\u001b[32m2025-09-19 14:34:26\u001b[0m | \u001b[1mINFO\u001b[0m | \u001b[36m__main__\u001b[0m:\u001b[36mcreate_publication_embeddings\u001b[0m:\u001b[36m78\u001b[0m - \u001b[1mGenerating embeddings with SentenceTransformer...\u001b[0m\n"
     ]
    },
    {
     "name": "stdout",
     "output_type": "stream",
     "text": [
      "🔄 Creating publication embeddings...\n",
      "This will take a few minutes...\n"
     ]
    },
    {
     "data": {
      "application/vnd.jupyter.widget-view+json": {
       "model_id": "8647aee8dd29437eb08e780f094bd05d",
       "version_major": 2,
       "version_minor": 0
      },
      "text/plain": [
       "Batches:   0%|          | 0/13 [00:00<?, ?it/s]"
      ]
     },
     "metadata": {},
     "output_type": "display_data"
    },
    {
     "name": "stderr",
     "output_type": "stream",
     "text": [
      "\u001b[32m2025-09-19 14:34:28\u001b[0m | \u001b[1mINFO\u001b[0m | \u001b[36m__main__\u001b[0m:\u001b[36mcreate_publication_embeddings\u001b[0m:\u001b[36m82\u001b[0m - \u001b[1mStoring embeddings in ChromaDB...\u001b[0m\n",
      "\u001b[32m2025-09-19 14:34:28\u001b[0m | \u001b[1mINFO\u001b[0m | \u001b[36m__main__\u001b[0m:\u001b[36m_store_in_chromadb\u001b[0m:\u001b[36m190\u001b[0m - \u001b[1mAdded batch 1, total: 100/404\u001b[0m\n",
      "\u001b[32m2025-09-19 14:34:28\u001b[0m | \u001b[1mINFO\u001b[0m | \u001b[36m__main__\u001b[0m:\u001b[36m_store_in_chromadb\u001b[0m:\u001b[36m190\u001b[0m - \u001b[1mAdded batch 2, total: 200/404\u001b[0m\n",
      "\u001b[32m2025-09-19 14:34:28\u001b[0m | \u001b[1mINFO\u001b[0m | \u001b[36m__main__\u001b[0m:\u001b[36m_store_in_chromadb\u001b[0m:\u001b[36m190\u001b[0m - \u001b[1mAdded batch 3, total: 300/404\u001b[0m\n",
      "\u001b[32m2025-09-19 14:34:28\u001b[0m | \u001b[1mINFO\u001b[0m | \u001b[36m__main__\u001b[0m:\u001b[36m_store_in_chromadb\u001b[0m:\u001b[36m190\u001b[0m - \u001b[1mAdded batch 4, total: 400/404\u001b[0m\n",
      "\u001b[32m2025-09-19 14:34:28\u001b[0m | \u001b[1mINFO\u001b[0m | \u001b[36m__main__\u001b[0m:\u001b[36m_store_in_chromadb\u001b[0m:\u001b[36m190\u001b[0m - \u001b[1mAdded batch 5, total: 404/404\u001b[0m\n",
      "\u001b[32m2025-09-19 14:34:28\u001b[0m | \u001b[1mINFO\u001b[0m | \u001b[36m__main__\u001b[0m:\u001b[36m_store_in_chromadb\u001b[0m:\u001b[36m192\u001b[0m - \u001b[1m✅ Stored 404 embeddings in ChromaDB collection 'ifc_publications'\u001b[0m\n",
      "\u001b[32m2025-09-19 14:34:28\u001b[0m | \u001b[1mINFO\u001b[0m | \u001b[36m__main__\u001b[0m:\u001b[36mcreate_publication_embeddings\u001b[0m:\u001b[36m86\u001b[0m - \u001b[1mCreating UMAP projection...\u001b[0m\n",
      "/home/santi/Projects/UBMI-IFC-Podcast/venv/lib/python3.10/site-packages/umap/umap_.py:1952: UserWarning: n_jobs value 1 overridden to 1 by setting random_state. Use no seed for parallelism.\n",
      "  warn(\n",
      "/home/santi/Projects/UBMI-IFC-Podcast/venv/lib/python3.10/site-packages/numba/np/ufunc/parallel.py:373: NumbaWarning: The TBB threading layer requires TBB version 2021 update 6 or later i.e., TBB_INTERFACE_VERSION >= 12060. Found TBB_INTERFACE_VERSION = 12050. The TBB threading layer is disabled.\n",
      "  warnings.warn(problem)\n",
      "\u001b[32m2025-09-19 14:34:35\u001b[0m | \u001b[1mINFO\u001b[0m | \u001b[36m__main__\u001b[0m:\u001b[36m_save_embedding_results\u001b[0m:\u001b[36m250\u001b[0m - \u001b[1mSaved embedding results to /home/santi/Projects/UBMI-IFC-Podcast/data/processed\u001b[0m\n",
      "\u001b[32m2025-09-19 14:34:35\u001b[0m | \u001b[1mINFO\u001b[0m | \u001b[36m__main__\u001b[0m:\u001b[36mcreate_publication_embeddings\u001b[0m:\u001b[36m101\u001b[0m - \u001b[1m✅ Embedding creation complete!\u001b[0m\n",
      "\u001b[32m2025-09-19 14:34:35\u001b[0m | \u001b[1mINFO\u001b[0m | \u001b[36m__main__\u001b[0m:\u001b[36mvisualize_embeddings\u001b[0m:\u001b[36m254\u001b[0m - \u001b[1mCreating embedding visualizations...\u001b[0m\n"
     ]
    },
    {
     "name": "stdout",
     "output_type": "stream",
     "text": [
      "\n",
      "✅ Created embeddings for 404 publications\n",
      "📊 Embedding shape: (404, 384)\n",
      "🗺️  UMAP coordinates shape: (404, 2)\n",
      "\n",
      "🎨 Creating visualizations...\n"
     ]
    },
    {
     "name": "stderr",
     "output_type": "stream",
     "text": [
      "\u001b[32m2025-09-19 14:34:37\u001b[0m | \u001b[1mINFO\u001b[0m | \u001b[36m__main__\u001b[0m:\u001b[36m_save_plots\u001b[0m:\u001b[36m405\u001b[0m - \u001b[1mSaved basic_scatter.png and basic_scatter.pdf\u001b[0m\n",
      "\u001b[32m2025-09-19 14:34:37\u001b[0m | \u001b[1mINFO\u001b[0m | \u001b[36m__main__\u001b[0m:\u001b[36m_save_plots\u001b[0m:\u001b[36m401\u001b[0m - \u001b[1mSaved interactive.html\u001b[0m\n",
      "\u001b[32m2025-09-19 14:34:37\u001b[0m | \u001b[1mINFO\u001b[0m | \u001b[36m__main__\u001b[0m:\u001b[36m_save_plots\u001b[0m:\u001b[36m401\u001b[0m - \u001b[1mSaved journal_clusters.html\u001b[0m\n",
      "\u001b[32m2025-09-19 14:34:38\u001b[0m | \u001b[1mINFO\u001b[0m | \u001b[36m__main__\u001b[0m:\u001b[36m_save_plots\u001b[0m:\u001b[36m405\u001b[0m - \u001b[1mSaved year_evolution.png and year_evolution.pdf\u001b[0m\n"
     ]
    },
    {
     "name": "stdout",
     "output_type": "stream",
     "text": [
      "📈 Created 4 visualizations\n",
      "\n",
      "📋 Data Summary:\n",
      "   Years: 2018 - 2025\n",
      "   Unique journals: 375\n",
      "   With abstracts: 404/404\n"
     ]
    }
   ],
   "source": [
    "# Cell 10: Create embeddings and visualizations\n",
    "if publications and embedding_system:\n",
    "    print(\"🔄 Creating publication embeddings...\")\n",
    "    print(\"This will take a few minutes...\")\n",
    "    \n",
    "    # Create embeddings (this does everything: embeddings, ChromaDB, UMAP, saving)\n",
    "    results = embedding_system.create_publication_embeddings(publications)\n",
    "    \n",
    "    print(f\"\\n✅ Created embeddings for {len(results['publications'])} publications\")\n",
    "    print(f\"📊 Embedding shape: {results['embeddings'].shape}\")\n",
    "    print(f\"🗺️  UMAP coordinates shape: {results['umap_embeddings'].shape}\")\n",
    "    \n",
    "    # Create visualizations\n",
    "    print(\"\\n🎨 Creating visualizations...\")\n",
    "    figs = embedding_system.visualize_embeddings(results, save_plots=True)\n",
    "    print(f\"📈 Created {len(figs)} visualizations\")\n",
    "    \n",
    "    # Show basic stats\n",
    "    df = pd.DataFrame(results['metadata'])\n",
    "    print(f\"\\n📋 Data Summary:\")\n",
    "    print(f\"   Years: {df['year'].min()} - {df['year'].max()}\")\n",
    "    print(f\"   Unique journals: {df['journal'].nunique()}\")\n",
    "    print(f\"   With abstracts: {df['has_abstract'].sum()}/{len(df)}\")\n",
    "    \n",
    "else:\n",
    "    print(\"⚠️ Skipping embedding creation - no data or system not initialized\")"
   ]
  },
  {
   "cell_type": "code",
   "execution_count": 12,
   "id": "423dedb7",
   "metadata": {},
   "outputs": [
    {
     "name": "stdout",
     "output_type": "stream",
     "text": [
      "🔍 Testing similarity search...\n",
      "\n",
      "🔎 Query: 'neural mechanisms'\n"
     ]
    },
    {
     "name": "stderr",
     "output_type": "stream",
     "text": [
      "/home/santi/.cache/chroma/onnx_models/all-MiniLM-L6-v2/onnx.tar.gz: 100%|██████████| 79.3M/79.3M [00:14<00:00, 5.63MiB/s]\n"
     ]
    },
    {
     "name": "stdout",
     "output_type": "stream",
     "text": [
      "   1. Editorial: Mechanisms of Neuronal Recovery in the Central Ne...\n",
      "      Authors: Tovar-y-Romo, L. B., Guemez-Gamboa, A., ...\n",
      "      Year: 2021, Distance: 0.922\n",
      "   2. A tale of two leeches: Toward the understanding of the evolu...\n",
      "      Authors: Kuo, D., De?Miguel, F. F., Heath?Heckman...\n",
      "      Year: 2020, Distance: 0.938\n",
      "   3. The Neurobehavioral State hypothesis...\n",
      "      Authors: Ontiveros-Araiza, L. F....\n",
      "      Year: 2025, Distance: 0.950\n",
      "\n",
      "🔎 Query: 'cardiac physiology'\n",
      "   1. ?Funny? channels in cardiac mitochondria modulate membrane p...\n",
      "      Authors: Padilla-Flores, T., López-González, Z., ...\n",
      "      Year: 2020, Distance: 1.158\n",
      "   2. Crucial role for sensory nerves and Na/H exchanger inhibitio...\n",
      "      Authors: Forrester, E. A., Benítez-Angeles, M., R...\n",
      "      Year: 2024, Distance: 1.266\n",
      "   3. Sex Differences in the Physiological Network of Healthy Youn...\n",
      "      Authors: Barajas-Martínez, A., Ibarra-Coronado, E...\n",
      "      Year: 2021, Distance: 1.302\n",
      "\n",
      "🔎 Query: 'protein structure'\n",
      "   1. Challenges in the Computational Modeling of the Protein Stru...\n",
      "      Authors: Del Río, G....\n",
      "      Year: 2021, Distance: 0.728\n",
      "   2. Residue Cluster Classes: A Unified Protein Representation fo...\n",
      "      Authors: Fontove, F., & Del Rio, G....\n",
      "      Year: 2020, Distance: 0.933\n",
      "   3. FiRES: A computational method for the de novo identification...\n",
      "      Authors: Alvarez?Carreño, C., Coello, G., & Arcin...\n",
      "      Year: 2020, Distance: 0.954\n",
      "\n",
      "🔎 Query: 'memory consolidation'\n",
      "   1. Transforming experiences: Neurobiology of memory updating/ed...\n",
      "      Authors: Osorio-Gómez, D., Miranda, M. I., Guzmán...\n",
      "      Year: 2023, Distance: 0.836\n",
      "   2. Class I HDAC inhibition improves object recognition memory c...\n",
      "      Authors: Ramirez-Mejia, G., Gil-Lievana, E., Urre...\n",
      "      Year: 2021, Distance: 0.978\n",
      "   3. Inhibition of hippocampal palmitoyl acyltransferase activity...\n",
      "      Authors: Urrego-Morales, O., Gil-Lievana, E., Ram...\n",
      "      Year: 2023, Distance: 1.043\n",
      "\n",
      "🔎 Query: 'synaptic plasticity'\n",
      "   1. Inhibition of hippocampal palmitoyl acyltransferase activity...\n",
      "      Authors: Urrego-Morales, O., Gil-Lievana, E., Ram...\n",
      "      Year: 2023, Distance: 1.086\n",
      "   2. The Neurobehavioral State hypothesis...\n",
      "      Authors: Ontiveros-Araiza, L. F....\n",
      "      Year: 2025, Distance: 1.234\n",
      "   3. The crucial role of model systems in understanding the compl...\n",
      "      Authors: Cerrizuela, S., Vega?Lopez, G. A., Ménde...\n",
      "      Year: 2021, Distance: 1.237\n",
      "\n",
      "✅ Similarity search test completed!\n"
     ]
    }
   ],
   "source": [
    "# Cell 11: Test similarity search\n",
    "if embedding_system:\n",
    "    print(\"🔍 Testing similarity search...\")\n",
    "    \n",
    "    test_queries = [\n",
    "        \"neural mechanisms\",\n",
    "        \"cardiac physiology\", \n",
    "        \"protein structure\",\n",
    "        \"memory consolidation\",\n",
    "        \"synaptic plasticity\"\n",
    "    ]\n",
    "    \n",
    "    for query in test_queries:\n",
    "        print(f\"\\n🔎 Query: '{query}'\")\n",
    "        try:\n",
    "            results = embedding_system.search_similar_publications(query, n_results=3)\n",
    "            \n",
    "            if 'error' not in results:\n",
    "                docs = results['documents'][0]\n",
    "                metadatas = results['metadatas'][0]\n",
    "                distances = results['distances'][0]\n",
    "                \n",
    "                for i, (doc, meta, dist) in enumerate(zip(docs, metadatas, distances)):\n",
    "                    print(f\"   {i+1}. {meta['title'][:60]}...\")\n",
    "                    print(f\"      Authors: {meta['authors'][:40]}...\")\n",
    "                    print(f\"      Year: {meta['year']}, Distance: {dist:.3f}\")\n",
    "            else:\n",
    "                print(f\"   Error: {results['error']}\")\n",
    "        except Exception as e:\n",
    "            print(f\"   Error searching: {e}\")\n",
    "    \n",
    "    print(\"\\n✅ Similarity search test completed!\")\n",
    "else:\n",
    "    print(\"⚠️ No embedding system available for search\")"
   ]
  },
  {
   "cell_type": "code",
   "execution_count": 13,
   "id": "3e55aad6",
   "metadata": {},
   "outputs": [
    {
     "name": "stdout",
     "output_type": "stream",
     "text": [
      "🎨 Displaying embedding visualizations...\n",
      "\n",
      "📊 Basic UMAP Scatter Plot:\n",
      "\n",
      "📈 Showing basic_scatter:\n",
      "\n",
      "📈 Showing interactive:\n"
     ]
    },
    {
     "name": "stderr",
     "output_type": "stream",
     "text": [
      "/tmp/ipykernel_75209/2608319364.py:15: UserWarning:\n",
      "\n",
      "FigureCanvasAgg is non-interactive, and thus cannot be shown\n",
      "\n"
     ]
    },
    {
     "data": {
      "application/vnd.plotly.v1+json": {
       "config": {
        "plotlyServerURL": "https://plot.ly"
       },
       "data": [
        {
         "customdata": [
          [
           "An automatic representation of peptides for effective antimi...",
           "Beltran, J. A., Del Rio, G., & Brizuela,...",
           "Computational and Structural Biotechnology Journal, 18, 455?463"
          ],
          [
           "Telomere length and oxidative stress variations in a murine ...",
           "Martínez?González, K., Islas?Hernández, ...",
           "European Journal of Neuroscience, 52(12), 4863?4874"
          ],
          [
           "Transcriptional, Behavioral and Biochemical Profiling in the...",
           "Yin, W., Cerda-Hernández, N., Castillo-M...",
           "Frontiers in Neuroscience, 14"
          ],
          [
           "Regulation of bacterial ATP synthase activity: A gear?shifti...",
           "Miranda?Astudillo, H., Zarco?Zavala, M.,...",
           "doi:10"
          ],
          [
           "Dynamic Regulation of Peroxisomes and Mitochondria during Fu...",
           "Navarro-Espíndola, R., Suaste-Olmos, F.,...",
           "Journal of Fungi, 6(4), 302"
          ],
          [
           "Effect of docosahexaenoic acid, phorbol myristate acetate, a...",
           "Flores-Espinoza, E., Meizoso-Huesca, A.,...",
           "European Journal of Pharmacology, 889, 173595"
          ],
          [
           "TRPV1 Channel: A Noxious Signal Transducer That Affects Mito...",
           "Juárez-Contreras, R., Méndez-Reséndiz, K...",
           "International Journal of Molecular Sciences, 21(23), 8882"
          ],
          [
           "Heterogeneous expression of CFTR in insulin-secreting ?-cell...",
           "Di Fulvio, M., Bogdani, M., Velasco, M.,...",
           "PLOS ONE, 15(12), e0242749"
          ],
          [
           "Novel murine mAbs define specific and cross-reactive epitope...",
           "Mares-Mejía, I., García-Ramírez, B., Tor...",
           "Molecular Immunology, 128, 10?21"
          ],
          [
           "Early motor deficits in the phalangeal fine movements induce...",
           "Colín, E., Ramírez-Jarquín, U. N., & Tap...",
           "Neuroscience Letters, 739, 135411"
          ],
          [
           "The taxonomy of the model filamentous fungus Podospora anser...",
           "Ament-Velásquez, S. L., Johannesson, H.,...",
           "MycoKeys, 75, 51?69"
          ],
          [
           "Antimicrobial Peptide against Mycobacterium Tuberculosis Tha...",
           "Peláez Coyotl, E. A., Barrios Palacios, ...",
           "Pharmaceutics, 12(11), 1071"
          ],
          [
           "FMR1 loss in a human stem cell model reveals early changes t...",
           "Susco, S. G., Arias-García, M. A., López...",
           "Developmental Biology, 468(1-2), 93?100"
          ],
          [
           "A tale of two leeches: Toward the understanding of the evolu...",
           "Kuo, D., De?Miguel, F. F., Heath?Heckman...",
           "Evolution & Development, 22(6), 471?493"
          ],
          [
           "NMDAR in cultured astrocytes: Flux?independent pH sensor and...",
           "Montes de Oca Balderas, P., Matus Núñez,...",
           "The FASEB Journal, 34(12), 16622?16644"
          ],
          [
           "Reversible interruption of ER Ca2+ uptake inversely affects ...",
           "Hernández-Cruz, A.",
           "Pflügers Archiv - European Journal of Physiology, 473(2), 133?134"
          ],
          [
           "Lamin B receptor: role on chromatin structure, cellular sene...",
           "Castro-Obregón, S.",
           "Biochemical Journal, 477(14), 2715?2720"
          ],
          [
           "Mechanisms of stimulatory effects of mecamylamine on the dor...",
           "Hernández-González, O., Mondragón-García...",
           "Brain Research Bulletin, 164, 289?298"
          ],
          [
           "Relevant Features of Polypharmacologic Human-Target Antimicr...",
           "Nava Lara, R. A., Beltrán, J. A., Brizue...",
           "Pharmaceuticals, 13(9), 204"
          ],
          [
           "Low-dimensional dynamics for working memory and time encodin...",
           "Cueva, C. J., Saez, A., Marcos, E., Geno...",
           "Proceedings of the National Academy of Sciences, 117(37), 23021?23032"
          ],
          [
           "Sexual dimorphism in insulin resistance in a metabolic syndr...",
           "Velasco, M., Ortiz-Huidobro, R. I., Larq...",
           "Endocrine Connections, 9(9), 890?902"
          ],
          [
           "Effects of agonists and phorbol esters on ?1A-adrenergic rec...",
           "de-los-Santos-Cocotle, G., Martínez-Mora...",
           "European Journal of Pharmacology, 885, 173423"
          ],
          [
           "Thrombin-activated PAR1 membrane expression is regulated by ...",
           "Alvarez-Arce, A., Lee-Rivera, I., López,...",
           "Cellular Signalling, 75, 109748"
          ],
          [
           "Selection of a Single Domain Antibody, Specific for an HLA-B...",
           "Ortega, P. A., Silva-Miranda, M., Torres...",
           "Frontiers in Immunology, 11"
          ],
          [
           "Modeling the neuromuscular junction\n            in vitro\n   ...",
           "Castellanos?Montiel, M. J., Velasco, I.,...",
           "Annals of the New York Academy of Sciences, 1488(1), 3?15"
          ],
          [
           "Heterochromatin as an Important Driver of Genome Organizatio...",
           "Penagos-Puig, A., & Furlan-Magaril, M.",
           "Frontiers in Cell and Developmental Biology, 8"
          ],
          [
           "Spontaneous Activity of Neuronal Ensembles in Mouse Motor Co...",
           "Serrano-Reyes, M., García-Vilchis, B., R...",
           "Neuroscience, 446, 304?322"
          ],
          [
           "Effect of ?-Hydroxybutyrate on Autophagy Dynamics During Sev...",
           "Torres-Esquivel, C., Montiel, T., Flores...",
           "Frontiers in Cellular Neuroscience, 14"
          ],
          [
           "TUG is a calpain-10 substrate involved in the translocation ...",
           "Pánico, P., Hiriart, M., Ostrosky-Wegman...",
           "Journal of Molecular Endocrinology, 65(3), 45?57"
          ],
          [
           "Type 2 diabetes progression: A regulatory network approach",
           "Barrera, M., Hiriart, M., Cocho, G., & V...",
           "Chaos: An Interdisciplinary Journal of Nonlinear Science, 30(9), 093132"
          ],
          [
           "Interaction of MDIMP with the Voltage-Gated Calcium Channels",
           "De La Rosa, J. A. M., García-Castañeda, ...",
           "Molecular Pharmacology, 98(3), 211?221"
          ],
          [
           "An Intronic Alu Element Attenuates the Transcription of a Lo...",
           "Pérez-Molina, R., Arzate-Mejía, R. G., A...",
           "Frontiers in Genetics, 11"
          ],
          [
           "Protein-conformational diseases in childhood: Naturally-occu...",
           "Altamirano-Bustamante, N. F., Garrido-Ma...",
           "PLOS ONE, 15(8), e0237667"
          ],
          [
           "Molecular Effects of Silver Nanoparticles on Monogenean Para...",
           "Pimentel-Acosta, C. A., Ramírez-Salcedo,...",
           "International Journal of Molecular Sciences, 21(16), 5889"
          ],
          [
           "In situ dissection of domain boundaries affect genome topolo...",
           "Arzate-Mejía, R. G., Josué Cerecedo-Cast...",
           "Nature Communications, 11(1)"
          ],
          [
           "In Kluyveromyces lactis a Pair of Paralogous Isozymes Cataly...",
           "Aguirre-López, B., Escalera-Fanjul, X., ...",
           "Frontiers in Microbiology, 11"
          ],
          [
           "Editorial: Germline Development: From Germline Stem Cells to...",
           "Lee, M.-H., Navarro, R. E., & Han, S. M.",
           "Frontiers in Cell and Developmental Biology, 8"
          ],
          [
           "Native aggregation is a common feature among triosephosphate...",
           "Rodríguez-Bolaños, M., Miranda-Astudillo...",
           "Scientific Reports, 10(1)"
          ],
          [
           "Kinetic modeling of glucose central metabolism in hepatocyte...",
           "Marín-Hernández, Á., Gallardo-Pérez, J. ...",
           "Biochimica et Biophysica Acta (BBA) - General Subjects, 1864(11), 129687"
          ],
          [
           "Regulation and action of interferon-stimulated gene 15 in br...",
           "Tecalco-Cruz, A. C., Ramírez-Jarquín, J....",
           "Human Cell, 33(4), 954?962"
          ],
          [
           "Chaperone activity of large-size subunit catalases",
           "Nava-Ramírez, T., & Hansberg, W.",
           "Free Radical Biology and Medicine, 156, 99?106"
          ],
          [
           "The enzymatic poly(gallic acid) reduces pro-inflammatory cyt...",
           "Zamudio-Cuevas, Y., Andonegui-Elguera, M...",
           "Inflammation, 44(1), 174?185"
          ],
          [
           "The Transcription Factor SCX is a Potential Serum Biomarker ...",
           "Ramírez-Aragón, M., Hernández-Sánchez, F...",
           "International Journal of Molecular Sciences, 21(14), 5012"
          ],
          [
           "Neuroprotective Effects and Treatment Potential of Incretin ...",
           "Bader, M., Li, Y., Tweedie, D., Shlobin,...",
           "Frontiers in Cell and Developmental Biology, 7"
          ],
          [
           "Deamidated Human Triosephosphate Isomerase is a Promising Dr...",
           "Enríquez-Flores, S., Flores-López, L. A....",
           "Biomolecules, 10(7), 1050"
          ],
          [
           "FiRES: A computational method for the de novo identification...",
           "Alvarez?Carreño, C., Coello, G., & Arcin...",
           "Proteins: Structure, Function, and Bioinformatics, 88(9), 1169?1179"
          ],
          [
           "Regulation of Cas9 by viral proteins Tat and Rev for HIV-1 i...",
           "Vergara-Mendoza, M., Gomez-Quiroz, L. E....",
           "Antiviral Research, 180, 104856"
          ],
          [
           "Caspase-3 Activation Correlates With the Initial Mitochondri...",
           "Benítez-Rangel, E., Olguín-Albuerne, M.,...",
           "Frontiers in Cell and Developmental Biology, 8"
          ],
          [
           "Contribution of the mitogen-activated protein kinase Hog1 to...",
           "Sánchez, N. S., Calahorra, M., González,...",
           "Current Genetics, 66(6), 1135?1153"
          ],
          [
           "Repurposed anti-cancer drugs: the future for anti-infective ...",
           "Quezada, H., Martínez-Vázquez, M., López...",
           "doi:10"
          ],
          [
           "In vivo Regeneration of Mineralized Bone Tissue in Anisotrop...",
           "Serrano-Bello, J., Cruz-Maya, I., Suaste...",
           "Frontiers in Bioengineering and Biotechnology, 8"
          ],
          [
           "Distinct subnetworks of the thalamic reticular nucleus",
           "Li, Y., Lopez-Huerta, V. G., Adiconis, X...",
           "Nature, 583(7818), 819?824"
          ],
          [
           "Protein?Protein Interactions Efficiently Modeled by Residue ...",
           "Poot Velez, A. H., Fontove, F., & Del Ri...",
           "International Journal of Molecular Sciences, 21(13), 4787"
          ],
          [
           "The induction and function of the anti-inflammatory fate of ...",
           "Xu, H., Agalioti, T., Zhao, J., Steglich...",
           "Nature Communications, 11(1)"
          ],
          [
           "Dual NMDAR signaling: flux?independent pH sensor and flux?de...",
           "De Oca, P. M., & Hernandez-Cruz, A.",
           "The FASEB Journal, 34(S1), 1?1"
          ],
          [
           "Living in a Foster Home: The Single Subpolar Flagellum Fla1 ...",
           "Camarena, L., & Dreyfus, G.",
           "Biomolecules, 10(5), 774"
          ],
          [
           "Interaction Between Virus-Like Particles (VLPs) and Pattern ...",
           "Zepeda-Cervantes, J., Ramírez-Jarquín, J...",
           "Frontiers in Immunology, 11"
          ],
          [
           "TRPV4: A Physio and Pathophysiologically Significant Ion Cha...",
           "Rosenbaum, T., Benítez-Angeles, M., Sánc...",
           "International Journal of Molecular Sciences, 21(11), 3837"
          ],
          [
           "Negative feedback-loop mechanisms regulating HOG- and pherom...",
           "Vázquez-Ibarra, A., Rodríguez-Martínez, ...",
           "Current Genetics, 66(5), 867?880"
          ],
          [
           "From cytosol to mitochondria: the beginning of a protein jou...",
           "Avendaño-Monsalve, M. C., Ponce-Rojas, J...",
           "Biological Chemistry, 401(6-7), 645?661"
          ],
          [
           "Hepatic C9 cells switch their behaviour in short or long exp...",
           "Cabriales, L., Hautefeuille, M., Vázquez...",
           "Biology of the Cell, 112(10), 265?279"
          ],
          [
           "The retinoid X receptor: a nuclear receptor that modulates t...",
           "Murillo-Rodríguez, E., Millán-Aldaco, D....",
           "Psychopharmacology, 237(7), 2055?2073"
          ],
          [
           "Amphetamine sensitization alters hippocampal neuronal morpho...",
           "Arroyo-García, L. E., Tendilla-Beltrán, ...",
           "Molecular Psychiatry"
          ],
          [
           "Functional characterization of the mitochondrial uncoupling ...",
           "Mendez-Romero, O., Rodriguez-Armenta, C....",
           "Biochimica et Biophysica Acta (BBA) - Bioenergetics, 1861(8), 148209"
          ],
          [
           "Pexophagy modes during penicillin biosynthesis in Penicilliu...",
           "Campos, C., Lázaro-Rodríguez, T. G., Her...",
           "Archives of Microbiology, 202(8), 2337?2341"
          ],
          [
           "TRPV1: Structure, Endogenous Agonists, and Mechanisms",
           "Benítez-Angeles, M., Morales-Lázaro, S. ...",
           "International Journal of Molecular Sciences, 21(10), 3421"
          ],
          [
           "KV1",
           "Suárez-Delgado, E., Rangel-Sandín, T. G....",
           "2 channels inactivate through a mechanism similar to C-type inactivation"
          ],
          [
           "Canonical and non-canonical Wnt signaling are simultaneously...",
           "Flores-Hernández, E., Velázquez, D. M., ...",
           "Cellular Signalling, 72, 109636"
          ],
          [
           "Novel tephritid-specific features revealed from cytological ...",
           "Gutiérrez-Ramos, X., Vázquez, M., Dorant...",
           "Insect Biochemistry and Molecular Biology, 122, 103412"
          ],
          [
           "Residue Cluster Classes: A Unified Protein Representation fo...",
           "Fontove, F., & Del Rio, G.",
           "Entropy, 22(4), 472"
          ],
          [
           "DnmA and FisA Mediate Mitochondria and Peroxisome Fission, a...",
           "Garrido-Bazán, V., Pardo, J. P., & Aguir...",
           "Frontiers in Microbiology, 11"
          ],
          [
           "The nuclear receptor NR4A1 is regulated by SUMO modification...",
           "Zárraga-Granados, G., Muciño-Hernández, ...",
           "PLOS ONE, 15(3), e0222072"
          ],
          [
           "Hydrodynamics-based liver transfection achieves gene silenci...",
           "Díaz-Rivera, A., Meza-Ríos, A., Chagoya ...",
           "PLOS ONE, 15(2), e0228729"
          ],
          [
           "Postponing the IV International Symposium on Fungal Stress (...",
           "Rangel, D. E. N., Aguirre, J., & Alder-R...",
           "Fungal Biology, 124(5), 536"
          ],
          [
           "The Third International Symposium on Fungal Stress ? ISFUS",
           "Alder-Rangel, A., Idnurm, A., Brand, A. ...",
           "Fungal Biology, 124(5), 235?252"
          ],
          [
           "Distinct Contributions of the Peroxisome-Mitochondria Fissio...",
           "Navarro-Espíndola, R., Takano-Rojas, H.,...",
           "Frontiers in Microbiology, 11"
          ],
          [
           "HGF induces protective effects in ?-naphthylisothiocyanate-i...",
           "Salas-Silva, S., Simoni-Nieves, A., Razo...",
           "Biochemical Pharmacology, 174, 113812"
          ],
          [
           "?Funny? channels in cardiac mitochondria modulate membrane p...",
           "Padilla-Flores, T., López-González, Z., ...",
           "Biochemical and Biophysical Research Communications, 524(4), 1030?1036"
          ],
          [
           "Vasoinhibin generation and effect on neuronal apoptosis in t...",
           "Aroña, R. M., Arnold, E., Macías, F., Ló...",
           "American Journal of Physiology-Regulatory, Integrative and Comparative Physiology, 318(4), R760?R771"
          ],
          [
           "Default Mode Network Efficiency Is Correlated With Deficits ...",
           "Hernández-Álvarez, D. M., Pacheco, L., V...",
           "Frontiers in Psychiatry, 11"
          ],
          [
           "Autophagy Regulation by the Translation Machinery and Its Im...",
           "Acevo-Rodríguez, P. S., Maldonado, G., C...",
           "Frontiers in Oncology, 10"
          ],
          [
           "From Isolated Emotional Memories to Their Competition During...",
           "Bravo-Rivera, C., & Sotres-Bayon, F.",
           "Frontiers in Behavioral Neuroscience, 14"
          ],
          [
           "The BPtpA protein from Burkholderia cenocepacia belongs to a...",
           "Sánchez-Rodríguez, R., González, G. M., ...",
           "Archives of Biochemistry and Biophysics, 681, 108277"
          ],
          [
           "Insights Into the Hypometabolic Stage Caused by Prolonged St...",
           "Carranza-García, E., & Navarro, R. E.",
           "Frontiers in Cell and Developmental Biology, 8"
          ],
          [
           "Glutamatergic basolateral amygdala to anterior insular corte...",
           "Gil-Lievana, E., Balderas, I., Moreno-Ca...",
           "Communications Biology, 3(1)"
          ],
          [
           "The CtrA Regulon of Rhodobacter sphaeroides Favors Adaptatio...",
           "Hernández-Valle, J., Sanchez-Flores, A.,...",
           "Journal of Bacteriology, 202(7)"
          ],
          [
           "Fluorescence of serotonin in the visible spectrum upon multi...",
           "Hernández-Mendoza, G. A., Aguirre-Olivas...",
           "Biomedical Optics Express, 11(3), 1432"
          ],
          [
           "Obesidad, síndrome metabólico y percepción olfativa",
           "Rebolledo Solleiro, D., Solleiro Villavi...",
           "Revista de Neurología, 70(02), 53"
          ],
          [
           "Effects of a patient-derived de novo coding alteration of CA...",
           "Ghoshal, A., Uygun, D. S., Yang, L., McN...",
           "Translational Psychiatry, 10(1)"
          ],
          [
           "The Contribution of the Ankyrin Repeat Domain of TRPV1 as a ...",
           "Ladrón-de-Guevara, E., Dominguez, L., Ra...",
           "Biophysical Journal, 118(4), 836?845"
          ],
          [
           "Towards a conscious model of consciousness",
           "Romo, R., & Rossi-Pool, R.",
           "Cognitive Neuropsychology, 37(3-4), 220?223"
          ],
          [
           "Metabolism, ATP production and biofilm generation by Staphyl...",
           "Pedroza-Dávila, U., Uribe-Alvarez, C., M...",
           "AMB Express, 10(1)"
          ],
          [
           "A self-aggregating peptide: implications for the development...",
           "Cruz-Reséndiz, A., Zepeda-Cervantes, J.,...",
           "BMC Biotechnology, 20(1)"
          ],
          [
           "Ophthalmic Administration of a DNA Plasmid Harboring the Mur...",
           "Tesoro-Cruz, E., Oviedo, N., Manuel-Apol...",
           "Molecular Biotechnology, 62(3), 200?209"
          ],
          [
           "Alpha-Synuclein Physiology and Pathology: A Perspective on C...",
           "Bernal-Conde, L. D., Ramos-Acevedo, R., ...",
           "Frontiers in Neuroscience, 13"
          ],
          [
           "Behavioral, neuroendocrine and physiological indicators of t...",
           "Aguilar?Roblero, R., & González?Mariscal...",
           "European Journal of Neuroscience, 51(1), 429?453"
          ],
          [
           "Oogenesis and embryogenesis inhibition induced by two new et...",
           "Iturbe-Requena, S. L., Prado-Ochoa, M. G...",
           "Ticks and Tick-Borne Diseases, 11(2), 101326"
          ],
          [
           "In Saccharomyces cerevisiae, withdrawal of the carbon source...",
           "Espinoza-Simón, E., Chiquete-Félix, N., ...",
           "Fungal Biology, 124(1), 15?23"
          ],
          [
           "Activation of parvalbumin?expressing neurons reconfigures ne...",
           "Duhne, M., Lara?González, E., Laville, A...",
           "European Journal of Neuroscience, 53(7), 2149?2164"
          ],
          [
           "Turning Touch into Perception",
           "Romo, R., & Rossi-Pool, R.",
           "Neuron, 105(1), 16?33"
          ],
          [
           "aeBlue Chromoprotein Color is Temperature Dependent",
           "Tamayo-Nuñez, J., de la Mora, J., Padill...",
           "Protein & Peptide Letters, 27(1), 74?84"
          ],
          [
           "Roles of the G protein-coupled receptor kinase 2 and Rab5 in...",
           "Hernández-Espinosa, D. A., Reyes-Cruz, G...",
           "European Journal of Pharmacology, 867, 172846"
          ],
          [
           "Identification of Z nucleotides as an ancient signal for two...",
           "Vázquez-Ciros, O. J., Alvarez, A. F., & ...",
           "Proceedings of the National Academy of Sciences, 117(52), 33530?33539"
          ],
          [
           "Antigiardial Activity of Acetylsalicylic Acid Is Associated ...",
           "Ochoa-Maganda, V. Y., Rangel-Castañeda, ...",
           "Pharmaceuticals, 13(12), 440"
          ],
          [
           "Age-Dependent Decline in Synaptic Mitochondrial Function Is ...",
           "Espino de la Fuente-Muñoz, C., Rosas-Lem...",
           "International Journal of Molecular Sciences, 21(22), 8727"
          ],
          [
           "Synthesis of PLA/SBA-15 Composite Scaffolds for Bone Tissue ...",
           "Chanes-Cuevas, O. A., Arellano-Sánchez, ...",
           "Materials Research, 23(5)"
          ],
          [
           "Assessing the Diversity of Benthic Sulfate-Reducing Microorg...",
           "Sánchez-Soto, M. F., Cerqueda-García, D....",
           "Microbial Ecology, 81(4), 908?921"
          ],
          [
           "Phosphorylation of NMDA receptors by cyclin B/CDK1 modulates...",
           "Rosendo-Pineda, M. J., Vicente, J. J., V...",
           "Communications Biology, 3(1)"
          ],
          [
           "Neuronize v2: Bridging the Gap Between Existing Proprietary ...",
           "Velasco, I., Toharia, P., Benavides-Picc...",
           "Frontiers in Neuroanatomy, 14"
          ],
          [
           "TRPV4 activity regulates nuclear Ca\n            2+\n         ...",
           "Espadas?Álvarez, H., Martínez?Rendón, J....",
           "Journal of Cellular Physiology, 236(5), 3599?3614"
          ],
          [
           "On the use of n-octyl gallate and salicylhydroxamic acid to ...",
           "Romero-Aguilar, L., Cárdenas-Monroy, C.,...",
           "Archives of Biochemistry and Biophysics, 694, 108603"
          ],
          [
           "Kramers? Theory and the Dependence of Enzyme Dynamics on Tre...",
           "Sampedro, J. G., Rivera-Moran, M. A., & ...",
           "Catalysts, 10(6), 659"
          ],
          [
           "Neurogenesis From Neural Crest Cells: Molecular Mechanisms i...",
           "Méndez-Maldonado, K., Vega-López, G. A.,...",
           "Frontiers in Cell and Developmental Biology, 8"
          ],
          [
           "Lipid Modulation in the Formation of ?-Sheet Structures",
           "Martínez-Navarro, I., Díaz-Molina, R., P...",
           "Implications for De Novo Design of Human Islet Amyloid Polypeptide and the Impact on ?-Cell Homeostasis"
          ],
          [
           "Role of ion channels during cell division",
           "Rosendo-Pineda, M. J., Moreno, C. M., & ...",
           "Cell Calcium, 91, 102258"
          ],
          [
           "Characterization of the expression of dystrophins and dystro...",
           "Romo-Yáñez, J., Rodríguez-Martínez, G., ...",
           "Neuroscience Letters, 736, 135247"
          ],
          [
           "Orexin cell transplant reduces behavioral arrest severity in...",
           "Equihua-Benítez, A. C., Equihua-Benítez,...",
           "Brain Research, 1745, 146951"
          ],
          [
           "Steroids and TRP Channels: A Close Relationship",
           "Méndez-Reséndiz, K. A., Enciso-Pablo, Ó....",
           "International Journal of Molecular Sciences, 21(11), 3819"
          ],
          [
           "Treatment with the Ketone Body D-?-hydroxybutyrate Attenuate...",
           "Montiel, T., Montes-Ortega, L. A., Flore...",
           "Current Pharmaceutical Design, 26(12), 1377?1387"
          ],
          [
           "Genome-wide 5-hydroxymethylcytosine (5hmC) emerges at early ...",
           "Rodríguez-Aguilera, J. R., Ecsedi, S., G...",
           "Scientific Reports, 10(1)"
          ],
          [
           "Mitochondrial bound hexokinase type I in normal and streptoz...",
           "Ramírez-Pérez, G., Sánchez-Chávez, G., &...",
           "Mitochondrion, 52, 212?217"
          ],
          [
           "The plant MBF1 protein family: a bridge between stress and t...",
           "Jaimes-Miranda, F., & Chávez Montes, R. ...",
           "Journal of Experimental Botany, 71(6), 1782?1791"
          ],
          [
           "An endoplasmic reticulum domain is associated with the polar...",
           "López-Fuentes, A. de J., Meizoso-Huesca,...",
           "Fungal Genetics and Biology, 137, 103338"
          ],
          [
           "Glycogen Synthase Kinase-3 modulates ?1A-adrenergic receptor...",
           "Alcántara-Hernández, R., Carmona-Rosas, ...",
           "European Journal of Cell Biology, 99(2-3), 151072"
          ],
          [
           "Accelerating the Evolution of Nonhuman Primate Neuroimaging",
           "Milham, M., Petkov, C. I., Margulies, D....",
           "Neuron, 105(4), 600?603"
          ],
          [
           "Exposure to the cannabinoid agonist WIN 55, 212?2 in adolesc...",
           "Macías-Triana, L., Romero-Cordero, K., T...",
           "European Journal of Pharmacology, 874, 172911"
          ],
          [
           "Therapeutic strategies for ketosis induction and their poten...",
           "Camberos-Luna, L., & Massieu, L.",
           "Neurochemistry International, 133, 104614"
          ],
          [
           "Perturbations in the Activity of Cholinergic Interneurons in...",
           "Alatriste-León, H., Verma-Rodríguez, A. ...",
           "Neuroscience, 439, 287?300"
          ],
          [
           "Saturation Mutagenesis of the Transmembrane Region of HokC i...",
           "Lara Ortiz, M. T., Martinell García, V.,...",
           "International Journal of Molecular Sciences, 22(19), 10359"
          ],
          [
           "The Escherichia coli two-component signal sensor BarA binds ...",
           "Alvarez, A. F., Rodríguez, C., González-...",
           "Journal of Biological Chemistry, 297(6), 101383"
          ],
          [
           "MRX8, the conserved mitochondrial YihA GTPase family member,...",
           "Verma, Y., Mehra, U., Pandey, D. K., Kar...",
           "Molecular Biology of the Cell, 32(21)"
          ],
          [
           "Coupling/Uncoupling Reversibility in Isolated Mitochondria f...",
           "Morales-García, L., Ricardez-García, C.,...",
           "Life, 11(12), 1307"
          ],
          [
           "Spindle Dynamics during Meiotic Development of the Fungus Po...",
           "López-Fuentes, A. de J., Nachón-Garduño,...",
           "MBio, 12(5)"
          ],
          [
           "Anti-Pathogenic Properties of the Combination of a T3SS Inhi...",
           "Aburto-Rodríguez, N. A., Muñoz-Cázares, ...",
           "Molecules, 26(24), 7635"
          ],
          [
           "Anti-Virulence Properties of Plant Species: Correlation betw...",
           "Díaz-Núñez, J. L., Pérez-López, M., Espi...",
           "Microorganisms, 9(12), 2424"
          ],
          [
           "Senescence in Primary Rat Astrocytes Induces Loss of the Mit...",
           "Morales-Rosales, S. L., Santín-Márquez, ...",
           "Frontiers in Aging Neuroscience, 13"
          ],
          [
           "The high osmolarity glycerol (HOG) pathway in fungi?",
           "Yaakoub, H., Sanchez, N. S., Ongay-Lario...",
           "Critical Reviews in Microbiology, 1?39"
          ],
          [
           "Lateral Habenula Mediates Defensive Responses Only When Thre...",
           "Velazquez-Hernandez, G., & Sotres-Bayon,...",
           "Eneuro, 8(2), ENEURO"
          ],
          [
           "<em>In Vivo</em> Wireless Optogenetic Control of Skilled Mot...",
           "Rodriguez-Munoz, D. L., Jaidar, O., Palo...",
           "Journal of Visualized Experiments, 177"
          ],
          [
           "Protein Misfolding and Aggregation: The Relatedness between ...",
           "Padilla-Godínez, F. J., Ramos-Acevedo, R...",
           "International Journal of Molecular Sciences, 22(22), 12467"
          ],
          [
           "Possible Gender Influence in the Mechanisms Underlying the O...",
           "Contreras-Zentella, M. L., & Hernández-M...",
           "Antioxidants, 10(11), 1729"
          ],
          [
           "Polycystic ovarian syndrome: signs and feedback effects of h...",
           "Hernández-Jiménez, J. L., Barrera, D., E...",
           "Gynecological Endocrinology, 38(1), 2?9"
          ],
          [
           "Formant-Based Recognition of Words and Other Naturalistic So...",
           "Melchor, J., Vergara, J., Figueroa, T., ...",
           "Frontiers in Neuroscience, 15"
          ],
          [
           "Hepatic Accumulation of Hypoxanthine: A Link Between Hyperur...",
           "Toledo-Ibelles, P., Gutiérrez-Vidal, R.,...",
           "Archives of Medical Research, 52(7), 692?702"
          ],
          [
           "Tissue-Specific Molecular Markers and Heterogeneity in Type ...",
           "Olguín-Martínez, E., Ruiz-Medina, B. E.,...",
           "Frontiers in Immunology, 12"
          ],
          [
           "Quantitative Expression of Key Cancer Markers in the AS-30D ...",
           "Briones-Orta, M. A., Delgado-Coello, B.,...",
           "Frontiers in Oncology, 11"
          ],
          [
           "Monitoring Mitochondrial Function in Aedes albopictus C6/36 ...",
           "Santana-Román, M. E., Maycotte, P., Urib...",
           "Insects, 12(10), 934"
          ],
          [
           "Green Metallic Nanoparticles for Cancer Therapy: Evaluation ...",
           "Tinajero-Díaz, E., Salado-Leza, D., Gonz...",
           "Pharmaceutics, 13(10), 1719"
          ],
          [
           "Ricardo Tapia (1940 ? 2021)",
           "Tovar?y?Romo, L. B., Massieu, L., & Aria...",
           "Journal of Neurochemistry"
          ],
          [
           "Cryopreservation of Gametes and Embryos and Their Molecular ...",
           "Estudillo, E., Jiménez, A., Bustamante-N...",
           "International Journal of Molecular Sciences, 22(19), 10864"
          ],
          [
           "The crucial role of model systems in understanding the compl...",
           "Cerrizuela, S., Vega?Lopez, G. A., Ménde...",
           "WIREs Mechanisms of Disease"
          ],
          [
           "Modulation of the Enzymatic Activity of the Flagellar Lytic ...",
           "García-Ramos, M., de la Mora, J., Ballad...",
           "Journal of Bacteriology, 203(20)"
          ],
          [
           "The Contribution of Premotor Cortico-Striatal Projections to...",
           "Sánchez-Fuentes, A., Ramírez-Armenta, K....",
           "Eneuro, 8(5), ENEURO"
          ],
          [
           "An artificial virus-like triblock protein shows low in vivo ...",
           "Moreno-Gutierrez, D. S., Zepeda-Cervante...",
           "Materials Science and Engineering: C, 129, 112348"
          ],
          [
           "Identification of adipose tissue-related predictors of the r...",
           "Melchor-López, A., Suárez-Cuenca, J. A.,...",
           "Journal of International Medical Research, 49(5), 030006052110125"
          ],
          [
           "Development of the hypersecretory phenotype in the populatio...",
           "Peña del Castillo, J. G., Segura-Chama, ...",
           "Pflügers Archiv - European Journal of Physiology, 473(11), 1775?1793"
          ],
          [
           "New insights into lipopolysaccharide inactivation mechanisms...",
           "Pérez-Hernández, E. G., Delgado-Coello, ...",
           "Biomedicine & Pharmacotherapy, 141, 111890"
          ],
          [
           "Editorial: Mechanisms of Neuronal Recovery in the Central Ne...",
           "Tovar-y-Romo, L. B., Guemez-Gamboa, A., ...",
           "Frontiers in Cell and Developmental Biology, 9"
          ],
          [
           "Peptide VSAK maintains tissue glucose uptake and attenuates ...",
           "Luna-Reyes, I., Pérez-Hernández, E. G., ...",
           "Scientific Reports, 11(1)"
          ],
          [
           "Maintenance of conditioned place avoidance induced by gastri...",
           "Hernández-Matias, A., Bermúdez-Rattoni, ...",
           "Learning & Memory, 28(9), 270?276"
          ],
          [
           "Enhanced Activity of Exportin-1/CRM1 in Neurons Contributes ...",
           "Gorostieta-Salas, E., Moreno-Blas, D., G...",
           "Oxidative Medicine and Cellular Longevity, 2021, 1?22"
          ],
          [
           "Selective Moonlighting Cell-Penetrating Peptides",
           "Morán-Torres, R., Castillo González, D. ...",
           "Pharmaceutics, 13(8), 1119"
          ],
          [
           "Genome accessibility dynamics in response to phosphate limit...",
           "Barragán-Rosillo, A. C., Peralta-Alvarez...",
           "Proceedings of the National Academy of Sciences, 118(33), e2107558118"
          ],
          [
           "H2O2 Induces Major Phosphorylation Changes in Critical Regul...",
           "Carrasco-Navarro, U., & Aguirre, J.",
           "Journal of Fungi, 7(8), 624"
          ],
          [
           "Genome-Wide Association Study Identifies a Functional SIDT2 ...",
           "León-Mimila, P., Villamil-Ramírez, H., M...",
           "Arteriosclerosis, Thrombosis, and Vascular Biology, 41(9), 2494?2508"
          ],
          [
           "Editorial: Chromatin Spatial Configuration and Function in M...",
           "Delgado-Olguín, P., Oktaba, K., & Furlan...",
           "Frontiers in Genetics, 12"
          ],
          [
           "Alanine Represses ?-Aminobutyric Acid Utilization and Induce...",
           "Márquez, D., Escalera-Fanjul, X., el Haf...",
           "Frontiers in Microbiology, 12"
          ],
          [
           "Dynamic landscape of chromatin accessibility and transcripto...",
           "Meléndez-Ramírez, C., Cuevas-Diaz Duran,...",
           "Scientific Reports, 11(1)"
          ],
          [
           "Discovery and characterization of Hv1-type proton channels i...",
           "Rangel-Yescas, G., Cervantes, C., Cervan...",
           "eLife, 10"
          ],
          [
           "Ethical Considerations in Animal Research: The Principle of ...",
           "Díaz, L., Zambrano-González, E., Flores,...",
           "Revista de Investigaci?n Cl?nica, 73(4)"
          ],
          [
           "SARS-CoV-2 Vaccines Based on the Spike Glycoprotein and Impl...",
           "Martínez-Flores, D., Zepeda-Cervantes, J...",
           "Frontiers in Immunology, 12"
          ],
          [
           "Chordacentrum mineralization is delayed in zebrafish betagly...",
           "Molina?Villa, T., Ramírez?Vidal, L., Men...",
           "Developmental Dynamics"
          ],
          [
           "Maternal behavior, novelty confrontation, and subcortical c-...",
           "Núñez-Murrieta, M. A., Noguez, P., Coria...",
           "Behavioural Brain Research, 412, 113432"
          ],
          [
           "The LPA3 Receptor: Regulation and Activation of Signaling Pa...",
           "Solís, K. H., Romero-Ávila, M. T., Guzmá...",
           "International Journal of Molecular Sciences, 22(13), 6704"
          ],
          [
           "Mouse Embryonic Stem Cells Expressing GDNF Show Enhanced Dop...",
           "Lara-Rodarte, R., Cortés, D., Soriano, K...",
           "Frontiers in Cell and Developmental Biology, 9"
          ],
          [
           "Thallium-sensitive fluorescent assay reveals loperamide as a...",
           "Loza-Huerta, A., Milo, E., Picones, A., ...",
           "1"
          ],
          [
           "Molecular Insulin Actions Are Sexually Dimorphic in Lipid Me...",
           "Ortiz-Huidobro, R. I., Velasco, M., Larq...",
           "Frontiers in Endocrinology, 12"
          ],
          [
           "NLRP3 Regulates IL-4 Expression in TOX+ CD4+ T Cells of Cuta...",
           "Huanosta-Murillo, E., Alcántara-Hernánde...",
           "Frontiers in Immunology, 12"
          ],
          [
           "Epithelia-Sensory Neuron Cross Talk Underlies Cholestatic It...",
           "Chen, Y., Wang, Z.-L., Yeo, M., Zhang, Q...",
           "Gastroenterology, 161(1), 301?317"
          ],
          [
           "Role of insulin/glucagon ratio and cell redox state in the h...",
           "Martiñón-Gutiérrez, G., Luna-Castro, M.,...",
           "Scientific Reports, 11(1)"
          ],
          [
           "The global and promoter-centric 3D genome organization tempo...",
           "Furlan-Magaril, M., Ando-Kuri, M., Arzat...",
           "Genome Biology, 22(1)"
          ],
          [
           "The HGR motif is the antiangiogenic determinant of vasoinhib...",
           "Robles, J. P., Zamora, M., Siqueiros-Mar...",
           "Angiogenesis"
          ],
          [
           "IRE1? RIDD activity induced under ER stress drives neuronal ...",
           "Gómora-García, J. C., Gerónimo-Olvera, C...",
           "Cell Death Discovery, 7(1)"
          ],
          [
           "Auditory decisions in the supplementary motor area",
           "Morán, I., Perez-Orive, J., Melchor, J.,...",
           "Progress in Neurobiology, 202, 102053"
          ],
          [
           "Cortical neurochemical signaling of gustatory stimuli and th...",
           "Osorio-Gómez, D., Bermúdez-Rattoni, F., ...",
           "Neurobiology of Learning and Memory, 181, 107437"
          ],
          [
           "Cerebellar spongiform degeneration is accompanied by metabol...",
           "López?Cervantes, M., Quintanar?Stephano,...",
           "Journal of Neuroscience Research, 99(9), 2287?2304"
          ],
          [
           "The fructose-dependent acceleration of ethanol metabolism",
           "Villalobos-García, D., Ayhllon-Osorio, C...",
           "Biochemical Pharmacology, 188, 114498"
          ],
          [
           "Membrane hyperpolarization abolishes calcium oscillations th...",
           "Balestrini, P. A., Sanchez?Cardenas, C.,...",
           "The FASEB Journal, 35(6)"
          ],
          [
           "Sex Differences in the Physiological Network of Healthy Youn...",
           "Barajas-Martínez, A., Ibarra-Coronado, E...",
           "Frontiers in Physiology, 12"
          ],
          [
           "The periplasmic component of the DctPQM TRAP-transporter is ...",
           "Sánchez-Ortiz, V. J., Domenzain, C., Pog...",
           "Microbiology, 167(3)"
          ],
          [
           "Conflict Test Battery for Studying the Act of Facing Threats...",
           "Illescas-Huerta, E., Ramirez-Lugo, L., S...",
           "Frontiers in Neuroscience, 15"
          ],
          [
           "Extrasynaptic Communication",
           "De-Miguel, F. F., Leon-Pinzon, C., Torre...",
           "Frontiers in Molecular Neuroscience, 14"
          ],
          [
           "Protein Serine/Threonine Phosphatase Type 2C of Leishmania m...",
           "Escalona-Montaño, A. R., Zuñiga-Fabián, ...",
           "Frontiers in Cellular and Infection Microbiology, 11"
          ],
          [
           "Vegfa promoter gene hypermethylation at HIF1? binding site i...",
           "Sánchez-Navarro, A., Pérez-Villalva, R.,...",
           "Scientific Reports, 11(1)"
          ],
          [
           "Pharmacological and nutritional targeting of voltage-gated s...",
           "Lopez-Charcas, O., Pukkanasut, P., Velu,...",
           "iScience, 24(4), 102270"
          ],
          [
           "Catecholaminergic stimulation restores high-sucrose diet-ind...",
           "Hernández-Ramírez, S., Osorio-Gómez, D.,...",
           "Psychoneuroendocrinology, 127, 105178"
          ],
          [
           "Low biological fluctuation of mitochondrial CpG and non-CpG ...",
           "Goldsmith, C., Rodríguez-Aguilera, J. R....",
           "Scientific Reports, 11(1)"
          ],
          [
           "Participation of Glutamatergic Ionotropic Receptors in Excit...",
           "Rodriguez-Chavez, V., Moran, J., Molina-...",
           "Neuroscience, 461, 180?193"
          ],
          [
           "5-Aza-2?-Deoxycytidine and Valproic Acid in Combination with...",
           "Aguirre-Vázquez, A., Salazar-Olivo, L. A...",
           "Molecules, 26(7), 1909"
          ],
          [
           "A continuum of invariant sensory and behavioral-context perc...",
           "Rossi-Pool, R., Zainos, A., Alvarez, M.,...",
           "Nature Communications, 12(1)"
          ],
          [
           "Guidelines for the use and interpretation of assays for moni...",
           "Klionsky, D. J., Abdel-Aziz, A. K., Abde...",
           "Autophagy, 17(1), 1?382"
          ],
          [
           "Retinal Nrf2 expression in normal and early streptozotocin-d...",
           "Albert-Garay, J. S., Riesgo-Escovar, J. ...",
           "Neurochemistry International, 145, 105007"
          ],
          [
           "Starvation induces an increase in intracellular calcium and ...",
           "Sánchez?Cárdenas, C., Romarowski, A., Or...",
           "The FASEB Journal, 35(4)"
          ],
          [
           "Transcriptional profiling of identified neurons in leech",
           "Heath-Heckman, E., Yoo, S., Winchell, C....",
           "BMC Genomics, 22(1)"
          ],
          [
           "The Balance of MU-Opioid, Dopamine D2 and Adenosine A2A Hete...",
           "Borroto-Escuela, D. O., Wydra, K., Fores...",
           "Frontiers in Pharmacology, 12"
          ],
          [
           "Epigenetic control of cell fate - an interview with Maria-El...",
           "Chimal-Monroy, J., & Escalante-Alcalde, ...",
           "The International Journal of Developmental Biology, 65(1-2-3), 163?169"
          ],
          [
           "Insights into the mechanism of adult neurogenesis - an inter...",
           "Escalante-Alcalde, D., & Chimal-Monroy, ...",
           "The International Journal of Developmental Biology, 65(1-2-3), 153?161"
          ],
          [
           "Cell fusion and fusogens - an interview with Benjamin Podbil...",
           "Chimal-Monroy, J., & Escalante-Alcalde, ...",
           "The International Journal of Developmental Biology, 65(1-2-3), 143?152"
          ],
          [
           "Antivirulence Activity of a Dietary Phytochemical: Hibiscus ...",
           "Cortes-López, H., Castro-Rosas, J., Garc...",
           "Reduces the Virulence of Pseudomonas aeruginosa in a Mouse Infection Model"
          ],
          [
           "Pyrazol(in)e derivatives of curcumin analogs as a new class ...",
           "Matiadis, D., Saporiti, T., Aguilera, E....",
           "Future Medicinal Chemistry, 13(8), 701?714"
          ],
          [
           "Altered Light Sensitivity of Circadian Clock in Shank3+/? Mo...",
           "Alamilla, J., Ramiro-Cortés, Y., Mejía-L...",
           "Frontiers in Neuroscience, 15"
          ],
          [
           "Polycomb complexes redundantly maintain epidermal stem cell ...",
           "Cohen, I., Bar, C., Liu, H., Valdes, V. ...",
           "Genes & Development, 35(5-6), 354?366"
          ],
          [
           "Firing Differences Between Adult Intralaminar Thalamo-striat...",
           "Mendez-Rodriguez, B. S., Arias-Garcia, M...",
           "Neuroscience, 458, 153?165"
          ],
          [
           "The Role of Central Serotonin Neurons and 5-HT Heterorecepto...",
           "Borroto-Escuela, D. O., Ambrogini, P., C...",
           "International Journal of Molecular Sciences, 22(4), 1927"
          ],
          [
           "Protein Dosage of the lldPRD Operon Is Correlated with RNase...",
           "Angel-Lerma, L. E., Merino, E., Kwon, O....",
           "Journal of Bacteriology, 203(6)"
          ],
          [
           "H2A",
           "Ávila-López, P. A., Guerrero, G., Nuñez-...",
           "Z overexpression suppresses senescence and chemosensitivity in pancreatic ductal adenocarcinoma"
          ],
          [
           "Programmed Cell Senescence in the Mouse Developing Spinal Co...",
           "Domínguez-Bautista, J. A., Acevo-Rodrígu...",
           "Frontiers in Cell and Developmental Biology, 9"
          ],
          [
           "Expression of MicroRNAs in Periodontal Disease: A Systematic...",
           "Cuevas-González, M. V., Suaste-Olmos, F....",
           "BioMed Research International, 2021, 1?6"
          ],
          [
           "Genome-wide and structural analysis of the Myb-SHAQKYF famil...",
           "Cárdenas-Hernández, H., Titaux-Delgado, ...",
           "Biochimica et Biophysica Acta (BBA) - Proteins and Proteomics, 1869(4), 140601"
          ],
          [
           "Skin-resident innate lymphoid cells converge on a pathogenic...",
           "Bielecki, P., Riesenfeld, S. J., Hütter,...",
           "Nature"
          ],
          [
           "Invariant timescale hierarchy across the cortical somatosens...",
           "Rossi-Pool, R., Zainos, A., Alvarez, M.,...",
           "Proceedings of the National Academy of Sciences, 118(3), e2021843118"
          ],
          [
           "Striatal bilateral control of skilled forelimb movement",
           "Lopez-Huerta, V. G., Denton, J. A., Naka...",
           "Cell Reports, 34(3), 108651"
          ],
          [
           "Human Keratinocytes Adopt Neuronal Fates After In Utero Tran...",
           "Tenorio-Mina, A., Cortés, D., Esquivel-E...",
           "Cell Transplantation, 30, 096368972097821"
          ],
          [
           "Effect of Azadirachta indica A",
           "Oyarzabal-Armendariz, E., Alquicira-Mire...",
           "Juss (Meliaceae) on the serotonin rhythm of Spodoptera frugiperda (Lepidoptera: Noctuidae)"
          ],
          [
           "The PKC-? pseudosubstrate peptide induces glutamate release ...",
           "Lee-Rivera, I., López, E., Alvarez-Arce,...",
           "Life Sciences, 265, 118860"
          ],
          [
           "The plastid proteome of the nonphotosynthetic chlorophycean ...",
           "Fuentes-Ramírez, E. O., Vázquez-Acevedo,...",
           "Microbiological Research, 243, 126649"
          ],
          [
           "Deterministic modeling of single-channel and whole-cell curr...",
           "Juayerk-Herrera, K. L., Félix-Martínez, ...",
           "Journal of Theoretical Biology, 508, 110459"
          ],
          [
           "Assessing the treatment of cannabidiolic acid methyl ester: ...",
           "Murillo-Rodríguez, E., Millán-Aldaco, D....",
           "Journal of Cannabis Research, 3(1)"
          ],
          [
           "Cellular Senescence and ApoE4: Their Repercussions in Alzhei...",
           "Tecalco-Cruz, A. C., Zepeda-Cervantes, J...",
           "CNS & Neurological Disorders - Drug Targets, 20(9), 778?785"
          ],
          [
           "Taenia solium Metacestode Factor as Probable Cause of Tempor...",
           "Molinari, J. L.",
           "The American Journal of Tropical Medicine and Hygiene, 105(6), 1468?1471"
          ],
          [
           "In-Nucleus Hi-C in Drosophila Cells",
           "Esquivel-López, A., Arzate-Mejía, R., Pé...",
           "Journal of Visualized Experiments, (175)"
          ],
          [
           "Plasma Membrane Fluidity: An Environment Thermal Detector in...",
           "Cano-Ramirez, D. L., Carmona-Salazar, L....",
           "Cells, 10(10), 2778"
          ],
          [
           "Increase of 5-HT levels is induced both in mouse brain and H...",
           "Tesoro-Cruz, E., Manuel-Apolinar, L., Ov...",
           "Translational Psychiatry, 11(1)"
          ],
          [
           "Preface: On the right track to decoding the enigma of sepsis",
           "Mas-Oliva, J.",
           "Archives of Medical Research"
          ],
          [
           "New Insights into the Methylation of Mycobacterium tuberculo...",
           "Parada, C., Neri-Badillo, I. C., Valleci...",
           "Pathogens, 10(9), 1139"
          ],
          [
           "Chemical, biochemical, and microbiological properties of Tec...",
           "Abbruzzini, T. F., Reyes-Ortigoza, A. L....",
           "Journal of Soils and Sediments"
          ],
          [
           "Peptides as therapeutic molecules to neutralize Gram-negativ...",
           "Luna-Reyes, I., Pérez-Hernández, E. G., ...",
           "Archives of Medical Research"
          ],
          [
           "Optogenetic inhibition of indirect pathway neurons in the do...",
           "Ramírez-Armenta, K. I., Alatriste-León, ...",
           "Neuropsychopharmacology"
          ],
          [
           "Effects of repetitive Transcranial Magnetic Stimulation in a...",
           "Weiler, M., Moreno-Castilla, P., Starnes...",
           "Brain Stimulation, 14(5), 1219?1225"
          ],
          [
           "DNA?MBF1 study using molecular dynamics simulations",
           "Salgado-Blanco, D., López-Urías, F., Ova...",
           "European Biophysics Journal, 50(8), 1055?1067"
          ],
          [
           "Study of GPCR Homo- and Heteroreceptor Complexes in Specific...",
           "Narváez, M., Crespo-Ramírez, M., Fores-P...",
           "Receptor and Ion Channel Detection in the Brain, 117?134"
          ],
          [
           "Mitochondrial Dysfunction and Alterations in Mitochondrial P...",
           "Luis-García, E. R., Becerril, C., Salgad...",
           "International Journal of Molecular Sciences, 22(15), 7870"
          ],
          [
           "Palmitic acid induces insulin resistance by a mechanism asso...",
           "Sánchez?Alegría, K., Bastián?Eugenio, C....",
           "The FASEB Journal, 35(7)"
          ],
          [
           "Identification of genes modulated by interferon gamma in bre...",
           "Tecalco-Cruz, A. C., Macías-Silva, M., R...",
           "Biochemistry and Biophysics Reports, 27, 101053"
          ],
          [
           "Osmolyte Signatures for the Protection of Aspergillus sydowi...",
           "Rodríguez-Pupo, E. C., Pérez-Llano, Y., ...",
           "Journal of Fungi, 7(6), 414"
          ],
          [
           "CesL Regulates Type III Secretion Substrate Specificity of t...",
           "Díaz-Guerrero, M., Gaytán, M. O., Soto, ...",
           "coli Injectisome"
          ],
          [
           "Study of the ultrastructure of Enterococcus faecalis and Str...",
           "Blancas, B., Lanzagorta, M. de L., Jimén...",
           "Clinical and Experimental Dental Research, 7(3), 365?375"
          ],
          [
           "Differential ROS-Mediated Phosphorylation of Drp1 in Mitocho...",
           "Cid-Castro, C., & Morán, J.",
           "Oxidative Medicine and Cellular Longevity, 2021, 1?14"
          ],
          [
           "Challenges in the Computational Modeling of the Protein Stru...",
           "Del Río, G.",
           "Computation, 9(4), 39"
          ],
          [
           "Embryonic neural stem/progenitor cells as model to character...",
           "Romo-Yáñez, J., Rodríguez-Martínez, G., ...",
           "MethodsX, 8, 101325"
          ],
          [
           "Microbial diversity and physicochemical characteristics of t...",
           "Santillán, J., López-Martínez, R., Aguil...",
           "Applied Soil Ecology, 165, 103969"
          ],
          [
           "Sleep-wake cycle disturbances and NeuN-altered expression in...",
           "Murillo-Rodríguez, E., Millán-Aldaco, D....",
           "Psychopharmacology, 238(6), 1437?1447"
          ],
          [
           "Class I HDAC inhibition improves object recognition memory c...",
           "Ramirez-Mejia, G., Gil-Lievana, E., Urre...",
           "Neuropharmacology, 187, 108493"
          ],
          [
           "Tetradecanoic Acids With Anti-Virulence Properties Increase ...",
           "Juárez-Rodríguez, M. M., Cortes-López, H...",
           "Frontiers in Cellular and Infection Microbiology, 10"
          ],
          [
           "Activation of ALDH1A1 by omeprazole reduces cell oxidative s...",
           "Calleja, L. F., Yoval?Sánchez, B., Herná...",
           "The FEBS Journal"
          ],
          [
           "IL-4?BATF signaling directly modulates IL-9 producing mucosa...",
           "Tomar, S., Ganesan, V., Sharma, A., Zeng...",
           "Journal of Allergy and Clinical Immunology, 147(1), 280?295"
          ],
          [
           "Generation of Functional Genetic Study Models in Zebrafish U...",
           "Carmona-Aldana, F., Nuñez-Martinez, H. N...",
           "Cancer Cell Signaling, 255?262"
          ],
          [
           "Fabrication of Adhesive Substrate for Incorporating Hydrogel...",
           "Vázquez-Victorio, G., Rodríguez-Hernánde...",
           "Cancer Cell Signaling, 277?297"
          ],
          [
           "Developing a Portable Device for the Identification of miRNA...",
           "Asanov, A., Sampieri, A., & Vaca, L.",
           "Cancer Cell Signaling, 73?88"
          ],
          [
           "The Kv10",
           "Luis,E; Anaya-Hernandez,A; Leon-Sanchez,...",
           "1 Channel: A Promising Target in Cancer Int J Mol Sci 23"
          ],
          [
           "Is Arsenic Exposure a Risk Factor for Metabolic Syndrome? A ...",
           "Pánico, P., Velasco, M., Salazar, A. M.,...",
           "Frontiers in Endocrinology, 13"
          ],
          [
           "Improved post-stroke spontaneous recovery by astrocytic extr...",
           "Heras-Romero, Y., Morales-Guadarrama, A....",
           "Molecular Therapy, 30(2), 798?815"
          ],
          [
           "Implications of the Immune Polymorphisms of the Host and the...",
           "Zepeda-Cervantes, J., Martínez-Flores, D...",
           "Viruses, 14(1), 94"
          ],
          [
           "Haploinsufficiency of Shank3 increases the orientation selec...",
           "Ortiz-Cruz, C. A., Marquez, E. J., Linar...",
           "Scientific Reports, 12(1)"
          ],
          [
           "Phenotypic and Target-Directed Screening Yields New Acaricid...",
           "Saporiti, T., Cabrera, M., Bentancur, J....",
           "Molecules, 27(24), 8863"
          ],
          [
           "Interplay Between the Histone Variant H2A",
           "Ávila-López, P. A., Nuñez-Martínez, H. N...",
           "Z and the Epigenome in Pancreatic Cancer"
          ],
          [
           "Cancer Epigenetics: An Overview",
           "Recillas-Targa, F.",
           "Archives of Medical Research"
          ],
          [
           "Dominance status is associated with a variation in cannabino...",
           "Migliaro, M., Sánchez-Zavaleta, R., Soto...",
           "Pharmacology Biochemistry and Behavior, 221, 173483"
          ],
          [
           "Glycine neurotransmission: Its role in development",
           "Salceda, R.",
           "Frontiers in Neuroscience, 16"
          ],
          [
           "Diabetes Induces Permanent Deleterious Effects in the Olfact...",
           "Jiménez, A., Herrera-González, A., Organ...",
           "ACS Chemical Neuroscience, 13(19), 2821?2828"
          ],
          [
           "De Novo Polycomb Recruitment and Repressive Domain Formation",
           "Hernández-Romero, I. A., & Valdes, V. J.",
           "Epigenomes, 6(3), 25"
          ],
          [
           "A Brominated Furanone Inhibits Pseudomonas aeruginosa Quorum...",
           "Muñoz-Cázares, N., Castillo-Juárez, I., ...",
           "Biomedicines, 10(8), 1847"
          ],
          [
           "Embryoid Body Formation from Mouse and Human Pluripotent Ste...",
           "Guerra-Crespo, M., Collazo-Navarrete, O....",
           "Methods in Molecular Biology, 215?232"
          ],
          [
           "Personalization of Pharmacological Treatments for ADHD: Why ...",
           "Herrera-Morales, W. V., Ramírez-Lugo, L....",
           "Current Topics in Medicinal Chemistry, 22(15), 1236?1249"
          ],
          [
           "A native IgE in complex with profilin provides insights into...",
           "García-Ramírez, B., Mares-Mejía, I., Rod...",
           "Communications Biology, 5(1)"
          ],
          [
           "Role of gamma radiation on functional expression of the volt...",
           "Luis, E., Lara Figueroa, C. O., Durán Pa...",
           "1 and its importance in the radiobiological response"
          ],
          [
           "Positively charged amino acids at the N terminus of select m...",
           "Avendaño-Monsalve, M. C., Mendoza-Martín...",
           "Journal of Biological Chemistry, 298(6), 101984"
          ],
          [
           "Structure?activity features of purines and their receptors: ...",
           "Díaz-Muñoz, M., Hernández-Muñoz, R., & B...",
           "Molecular Biomedicine, 3(1)"
          ],
          [
           "Super-resolution microscopy for the study of store-operated ...",
           "Bastian, C., Sampieri, A., Benavides, M....",
           "Cell Calcium, 104, 102595"
          ],
          [
           "Decoding the Therapeutic Implications of the ER? Stability a...",
           "Tecalco-Cruz, A. C., Macías-Silva, M., R...",
           "Frontiers in Endocrinology, 13"
          ],
          [
           "Introduction to Genomic Network Reconstruction for Cancer Re...",
           "de Anda-Jáuregui, G., Tovar, H., Alcalá-...",
           "Systems Medicine, 197?214"
          ],
          [
           "Improved yield, stability, and cleavage reaction of a novel ...",
           "Enríquez-Flores, S., De la Mora-De la Mo...",
           "Applied Microbiology and Biotechnology"
          ],
          [
           "Comparative subcellular localization of NRF2 and KEAP1 durin...",
           "Guerrero-Escalera, D., Alarcón-Sánchez, ...",
           "Biochimica et Biophysica Acta (BBA) - Molecular Cell Research, 1869(5), 119222"
          ],
          [
           "High glucose concentrations induce oxidative stress by inhib...",
           "Albert-Garay, J. S., Riesgo-Escovar, J. ...",
           "Scientific Reports, 12(1)"
          ],
          [
           "Prokaryotic diversity across a pH gradient in the ?El Chichó...",
           "Velázquez-Ríos, I. O., Rincón-Rosales, R...",
           "Extremophiles, 26(1)"
          ],
          [
           "Fluorescent membrane potential assay for drug screening on K...",
           "Gomez-Herrera MA; Patln E; Estrada-Garri...",
           "1 channel: identification of BL-1249 as a channel activator"
          ],
          [
           "Filamentous actin destabilization by H\n            2\n       ...",
           "Garrido-Bazán, V., Guzmán-Ocampo, D. C.,...",
           "MBio, 14(6)"
          ],
          [
           "Insights into Zika Virus Pathogenesis and Potential Therapeu...",
           "Camacho-Concha, N., Santana-Román, M. E....",
           "Biomedicines, 11(12), 3316"
          ],
          [
           "Roles of the ?1B-Adrenergic Receptor Phosphorylation Domains...",
           "Hernández-Espinosa, D. A., Alcántara-Her...",
           "International Journal of Molecular Sciences, 24(23), 16963"
          ],
          [
           "NR3C1 and NR3C2 Genes Increase the Risk of Suicide Attempt i...",
           "Sanabrais-Jiménez, M., Esquivel-López, A...",
           "Neuropsychiatric Disease and Treatment, Volume 19, 2561?2571"
          ],
          [
           "Top-down circuitry from the anterior insular cortex to VTA d...",
           "Hernández-Ortiz, E., Luis-Islas, J., Tec...",
           "Cell Reports, 42(11), 113365"
          ],
          [
           "Longitudinal Changes in Mitochondrial DNA Copy Number and Te...",
           "Ortega-Vázquez, A., Sánchez-Badajos, S.,...",
           "Genes, 14(10), 1913"
          ],
          [
           "Effects of reversible SERCA inhibition on catecholamine exoc...",
           "Parada-Parra, O. J., & Hernández-Cruz, A...",
           "Pflügers Archiv - European Journal of Physiology"
          ],
          [
           "The conducting state of TRPA1 modulates channel lateral mobi...",
           "Sampieri, A., Padilla-Flores, T., Thawan...",
           "Cell Calcium, 116, 102800"
          ],
          [
           "Nucleoporin Nup358 Downregulation Tunes the Neuronal Excitab...",
           "Martínez-Rojas, V. A., Pischedda, F., Ro...",
           "Life, 13(9), 1791"
          ],
          [
           "Osmotic Stress Responses, Cell Wall Integrity, and Conidiati...",
           "Calcáneo-Hernández, G., Landeros-Jaime, ...",
           "Journal of Fungi, 9(9), 939"
          ],
          [
           "Inhibitory to non-inhibitory evolution of the ? subunit of t...",
           "Mendoza-Hoffmann, F., Yang, L., Buratto,...",
           "Frontiers in Molecular Biosciences, 10"
          ],
          [
           "The proteomic effects of ketone bodies: implications for pro...",
           "García-Velázquez, L., & Massieu, L.",
           "Frontiers in Molecular Neuroscience, 16"
          ],
          [
           "Extracellular vesicles from neural progenitor cells promote ...",
           "Campero-Romero, A. N., Real, F. H., Sant...",
           "Cell Death Discovery, 9(1)"
          ],
          [
           "Editorial: Innate lymphoid cell development, migration, and ...",
           "Henao-Mejía, J., Crispín, J. C., & Licon...",
           "Frontiers in Immunology, 14"
          ],
          [
           "Voltage-gated sodium channels: from roles and mechanisms in ...",
           "Sanchez-Sandoval, A. L., Hernández-Plata...",
           "Frontiers in Pharmacology, 14"
          ],
          [
           "Morphological characteristics of astrocytes of the fastigial...",
           "Martínez-Mendoza, M. L., Rodríguez-Arzat...",
           "Heliyon, 9(7), e18006"
          ],
          [
           "Spatiotemporal regulation of the BarA/UvrY two-component sig...",
           "Contreras, F. U., Camacho, M. I., Pannur...",
           "Journal of Biological Chemistry, 299(6), 104835"
          ],
          [
           "Prevalence of hypertensive phase and outcomes in patients wi...",
           "Neaves-Mendez, J., Hernandez-Oteyza, A.,...",
           "Indian Journal of Ophthalmology, 71(5), 1966?1971"
          ],
          [
           "The ARG8m Reporter for the Study of Yeast Mitochondrial Tran...",
           "Flores-Mireles, D., Camacho-Villasana, Y...",
           "The Mitoribosome, 281?301"
          ],
          [
           "JAKing up IL-9 expression in TH9 cells",
           "Muñoz-Paleta, O., & Licona-Limón, P.",
           "Nature Immunology"
          ],
          [
           "Lysophosphatidic acid receptor LPA1 trafficking and interact...",
           "Martínez-Morales, J. C., González-Ruiz, ...",
           "Molecular and Cellular Endocrinology, 570, 111930"
          ],
          [
           "A Strategy for the Study of IL-9-Producing Lymphoid Cells in...",
           "Muñoz-Paleta, O., Olguín-Martínez, E., R...",
           "Journal of Visualized Experiments, 193"
          ],
          [
           "Transforming experiences: Neurobiology of memory updating/ed...",
           "Osorio-Gómez, D., Miranda, M. I., Guzmán...",
           "Frontiers in Systems Neuroscience, 17"
          ],
          [
           "Inhibition of hippocampal palmitoyl acyltransferase activity...",
           "Urrego-Morales, O., Gil-Lievana, E., Ram...",
           "Neurobiology of Learning and Memory, 200, 107733"
          ],
          [
           "Recombinant Escherichia coli BL21 with LngA Variants from ET...",
           "Espinosa-Mazariego, K., Saldaña-Ahuactzi...",
           "Pathogens, 12(2), 337"
          ],
          [
           "A subfraction obtained from the venom of the tarantula Poeci...",
           "Díaz-Peña, L. F., Daniela, T.-O., Aguila...",
           "Toxicon: X, 18, 100151"
          ],
          [
           "Molecular Physiology of TRPV Channels: Controversies and Fut...",
           "Rosenbaum, T., & Islas, L. D.",
           "Annual Review of Physiology, 85(1), 293?316"
          ],
          [
           "CD24+CD44+CD54+EpCAM+ gastric cancer stem cells predict tumo...",
           "Gómez-Gallegos, A. A., Ramírez-Vidal, L....",
           "Stem Cell Research &amp; Therapy, 14(1)"
          ],
          [
           "Dexamethasone-Induced Fatty Acid Oxidation and Autophagy/Mit...",
           "Olivas-Aguirre, M., Pérez-Chávez, J., To...",
           "Cancers, 15(2), 445"
          ],
          [
           "Nucleophagy contributes to genome stability through degradat...",
           "Muciño-Hernández, G., Acevo-Rodríguez, P...",
           "Journal of Cell Science, 136(1)"
          ],
          [
           "Chromatin Structure from Development to Ageing",
           "Ayala-Guerrero, L., Claudio-Galeana, S.,...",
           "Subcellular Biochemistry, 7?51"
          ],
          [
           "Deregulation of interferon-gamma receptor 1 expression and i...",
           "Tecalco-Cruz, AC, Medina-Abreu, KH, Orop...",
           "World Journal Of Clinical Oncology, 15(2), 2218-4333"
          ],
          [
           "Altered Expression of Thyroid- and Calcium Ion Channels-Rela...",
           "Luis, E., Conde-Maldonado, V., García-Ni...",
           "Journal of Xenobiotics, 14(4), 1450?1464"
          ],
          [
           "Regulation of Catalase Expression and Activity by DhHog1 in ...",
           "de la Fuente-Colmenares, I., González, J...",
           "Journal of Fungi, 10(11), 740"
          ],
          [
           "Crucial role for sensory nerves and Na/H exchanger inhibitio...",
           "Forrester, E. A., Benítez-Angeles, M., R...",
           "Cardiovascular Research, 120(14), 1811?1824"
          ],
          [
           "Identification of an ArgR-controlled promoter within the out...",
           "Vázquez-Ciros, O. J., Alvarez, A. F., & ...",
           "Journal of Bacteriology, 206(11)"
          ],
          [
           "Roles for TRPV4 in disease: A discussion of possible mechani...",
           "Hernández-Vega, A. M., García-Villegas, ...",
           "Cell Calcium, 124, 102972"
          ],
          [
           "A continuum from predictive to online feedback in visuomotor...",
           "Márquez, I., Lemus, L., & Treviño, M.",
           "European Journal of Neuroscience"
          ],
          [
           "Molecular interplay between the upregulated levels of Sad1 a...",
           "Tecalco-Cruz, A. C., Macías-Silva, M., S...",
           "Molecular Biology Reports, 51(1)"
          ],
          [
           "The Neurobehavioral State hypothesis",
           "Ontiveros-Araiza, L. F.",
           "BioSystems, 247, 105361"
          ],
          [
           "Intracellular Mg2+ concentrations are differentially regulat...",
           "Sánchez?Cárdenas, C., De la Vega?Beltrán...",
           "The FASEB Journal, 38(21)"
          ],
          [
           "The use of induced pluripotent stem cells as a platform for ...",
           "Villafranco, J., Martínez-Ramírez, G., M...",
           "Frontiers in Psychiatry, 15"
          ],
          [
           "Diabetes mellitus and female sexual response: what do animal...",
           "Hernández-Munive, A. K., Molina-Leonor, ...",
           "https://doi"
          ],
          [
           "Zinc and selenium supplementation on treated HIV-infected in...",
           "Osuna-Padilla, I. A., Rodríguez-Moguel, ...",
           "Frontiers in Nutrition, 11"
          ],
          [
           "A New Real-Time Simple Method to Measure the Endogenous Nitr...",
           "García-Trejo, J. J., Rojas-Alcantar, S.,...",
           "International Journal of Molecular Sciences, 25(18), 9770"
          ],
          [
           "In Rhodotorula mucilaginosa, active oxidative metabolism inc...",
           "Mosqueda-Martínez, E., Chiquete-Félix, N...",
           "Frontiers in Fungal Biology, 5"
          ],
          [
           "Microglia in physiological conditions and the importance of ...",
           "Guzmán-Ruíz, M. A., Guerrero Vargas, N. ...",
           "Frontiers in Immunology, 15"
          ],
          [
           "Identification and Properties of TRPV4 Mutant Channels Prese...",
           "Hernández-Vega, A. M., Llorente, I., Sán...",
           "Function, 5(5)"
          ],
          [
           "Purinergic Signaling in Non-Parenchymal Liver Cells",
           "Mata-Martínez, E., Ramírez-Ledesma, M. G...",
           "International Journal of Molecular Sciences, 25(17), 9447"
          ],
          [
           "Association Study of CACNA1D, KCNJ11, KCNQ1, and CACNA1E Sin...",
           "Díaz-García, J. D., Leyva-Leyva, M., Sán...",
           "International Journal of Molecular Sciences, 25(17), 9196"
          ],
          [
           "Obtention of viable cell suspensions from breast cancer tumo...",
           "Stephenson-Gussinye, A., Rendón-Bautista...",
           "Frontiers in Molecular Biosciences, 11"
          ],
          [
           "Which side of the coin are you on regarding possible postnat...",
           "Morales-Sánchez, E., Campuzano-Caballero...",
           "https://doi"
          ],
          [
           "IL-17 in skin infections and homeostasis",
           "García-Patiño, M. G., Marcial-Medina, M....",
           "Clinical Immunology, 267, 110352"
          ],
          [
           "ICAM1 (CD54) Contributes to the Metastatic Capacity of Gastr...",
           "Tinajero-Rodríguez, J. M., Ramírez-Vidal...",
           "International Journal of Molecular Sciences, 25(16), 8865"
          ],
          [
           "Effects of medium pH on the yeast plasma membrane potential",
           "Peña, A., Sánchez, N. S., Ramiro-Cortés,...",
           "Archives of Biochemistry and Biophysics, 760, 110131"
          ],
          [
           "Sepsis Impairs IFN-? Production in CD8 T Cells through Chang...",
           "Cisneros-Segura, J. A., Rodríguez-Rodríg...",
           "The Journal of Immunology, 213(5), 619?627"
          ],
          [
           "Three-dimensional cell culture conditions promoted the Mesen...",
           "Rodríguez-Cruz, D., Boquet-Pujadas, A., ...",
           "Frontiers in Cell and Developmental Biology, 12"
          ],
          [
           "The quorum sensing regulator RhlR positively controls the ex...",
           "Montelongo-Martínez, L. F., Díaz-Guerrer...",
           "PLOS ONE, 19(8), e0307174"
          ],
          [
           "Repeated exposure to novelty promotes resilience against the...",
           "Velázquez-Delgado, C., Hernández-Ortiz, ...",
           "Psychopharmacology"
          ],
          [
           "Development of a biodegradable prosthesis through tissue eng...",
           "Valderrama-Treviño, A. I., Castell-Rodrí...",
           "Annals of Hepatology, 29(5), 101530"
          ],
          [
           "The activation of D2-like dopamine receptors increases NMDA ...",
           "Galindo-Charles, L., Reyes-Legorreta, C....",
           "Neuroscience Letters, 839, 137933"
          ],
          [
           "The Influence of Sex Steroid Hormone Fluctuations on Capsaic...",
           "Mota-Carrillo, E., Juárez-Contreras, R.,...",
           "International Journal of Molecular Sciences, 25(15), 8040"
          ],
          [
           "Age?, region?, and day/night?related variation of the chlori...",
           "Osuna?Lopez, F., Herrera?Zamora, J. M., ...",
           "Journal of Neuroscience Research, 102(8)"
          ],
          [
           "Treating activated regulatory T cells with pramipexole prote...",
           "Guevara?Salinas, A., Netzahualcoyotzi, C...",
           "CNS Neuroscience &amp; Therapeutics, 30(8)"
          ],
          [
           "Therapeutic targeting of voltage-gated sodium channel NaV1",
           "Pukkanasut, P., Jaskula-Sztul, R., Gomor...",
           "7 for cancer metastasis"
          ],
          [
           "Immunomodulation as a treatment for parkinson?s disease in c...",
           "Vega-Angeles, V. T., Morales-Ruiz, V., &...",
           "Revista de Investigaci?n Cl?nica, 76(3)"
          ],
          [
           "Orthogonality of sensory and contextual categorical dynamics...",
           "Bayones, L., Zainos, A., Alvarez, M., Ro...",
           "Proceedings of the National Academy of Sciences, 121(29)"
          ],
          [
           "Prohibitins, Phb1 and Phb2, function as Atg8 receptors to su...",
           "García-Chávez, D., Domínguez-Martín, E.,...",
           "Autophagy, 1?12"
          ],
          [
           "Glutamatergic Neurotransmission in Aging and Neurodegenerati...",
           "Castillo-Vazquez, S. K., Massieu, L., Ri...",
           "Archives of Medical Research, 55(6), 103039"
          ],
          [
           "Lrba participates in the differentiation of IgA+ B lymphocyt...",
           "Flores-Hermenegildo, J. M., Hernández-Cá...",
           "Frontiers in Immunology, 15"
          ],
          [
           "Stability and plasticity of regulatory T cells in health and...",
           "Contreras-Castillo, E., García-Rasilla, ...",
           "Journal of Leukocyte Biology, 116(1), 33?53"
          ],
          [
           "Lysophosphatidic Acid Receptor 3 (LPA3): Signaling and Phosp...",
           "Solís, K. H., Romero-Ávila, M. T., Rincó...",
           "International Journal of Molecular Sciences, 25(12), 6491"
          ],
          [
           "Alpha-Synuclein Gene Alterations Modulate Tyrosine Hydroxyla...",
           "Bernal-Conde, L. D., Peña-Martínez, V., ...",
           "Life, 14(6), 728"
          ],
          [
           "Physiology and comparative genomics of the haloalkalitoleran...",
           "Embarcadero-Jiménez, S., Araujo-Palomare...",
           "Archives of Microbiology, 206(7)"
          ],
          [
           "Epigenetic reprogramming of H3K4me3 in adipose-derived stem ...",
           "Pérez, B., Torre-Villalvazo, I., Wilson-...",
           "American Journal of Physiology-Endocrinology and Metabolism, 327(1), E13?E26"
          ],
          [
           "The inorganic pyrophosphatases of microorganisms: a structur...",
           "García-Contreras, R., de la Mora, J., Mo...",
           "PeerJ, 12, e17496"
          ],
          [
           "NGF effects promote the maturation of rat pancreatic beta ce...",
           "Samario-Román, J., Velasco, M., Larqué, ...",
           "PLOS ONE, 19(6), e0303934"
          ],
          [
           "Incidence and management of the main serious adverse events ...",
           "Padilla?Flores, T., Sampieri, A., & Vaca...",
           "Pharmacology Research &amp; Perspectives, 12(3)"
          ],
          [
           "Cell-Based Thallium-Influx Fluorescence Assay for Kv10",
           "Durán-Pastén, M. L., & Luis, E.",
           "1 Channels"
          ],
          [
           "Early?life and chronic exposure to high?fat diet alters nora...",
           "Osorio?Gómez, D., Perez, C. I., Salcedo?...",
           "Journal of Neuroscience Research, 102(6)"
          ],
          [
           "Ventral pallidum and amygdala cooperate to restrain reward a...",
           "Hernández-Jaramillo, A., Illescas-Huerta...",
           "The Journal of Neuroscience, e2327232024"
          ],
          [
           "Identification of factors limiting the allotopic production ...",
           "Nieto-Panqueva, F., Vázquez-Acevedo, M.,...",
           "GENETICS, 227(2)"
          ],
          [
           "Increased levels of regulatory T cells and IL-10-producing r...",
           "Arce-Sillas, A., Álvarez-Luquín, D. D., ...",
           "Journal of Neural Transmission"
          ],
          [
           "Chronic moderate hyperglycemia does not alter sexual motivat...",
           "Hernández-Munive, A. K., & Fernández-Gua...",
           "Physiology &amp; Behavior, 282, 114584"
          ],
          [
           "Paradoxical Boosting of Weak and Strong Spatial Memories by ...",
           "Velazquez-Delgado, C., Perez-Becerra, J....",
           "Eneuro, 11(5), ENEURO"
          ],
          [
           "The influence of the prolactin/vasoinhibin axis on post?stro...",
           "Castillo, X., Ortiz, G., Arnold, E., Wu,...",
           "Journal of Neuroendocrinology"
          ],
          [
           "Membrane Heteroreceptor Complexes as Second-Order Protein Mo...",
           "Mirchandani-Duque, M., Choucri, M., Hern...",
           "Membranes, 14(5), 96"
          ],
          [
           "A Bidirectional Non-Coding RNA Promoter Mediates Long-Range ...",
           "Peralta-Alvarez, C. A., Núñez-Martínez, ...",
           "Genes, 15(5), 549"
          ],
          [
           "LPA3 Receptor Phosphorylation Sites: Roles in Signaling and ...",
           "Solís, K. H., Romero-Ávila, M. T., Rincó...",
           "International Journal of Molecular Sciences, 25(10), 5508"
          ],
          [
           "Sulforaphane Exposure Prevents Cadmium-Induced Toxicity and ...",
           "Hernández-Cruz, E. Y., Aparicio-Trejo, O...",
           "Antioxidants, 13(5), 584"
          ],
          [
           "Flow modeling and structural characterization in fungal pell...",
           "Sánchez-Vargas, J., Valdés-Parada, F. J....",
           "Journal of Theoretical Biology, 590, 111853"
          ],
          [
           "Tissue?specific differences in Ca2+ sensitivity of the mitoc...",
           "Ricardez?Garcia, C., Reyes?Becerril, M.,...",
           "Experiments in male rat liver and heart"
          ],
          [
           "Fluorescent Probe as Dual-Organelle Localizer Through Differ...",
           "Hernández-Juárez, C., Calahorra, M., Peñ...",
           "Analytical Chemistry"
          ],
          [
           "Meta-Analysis in Transgenic Alzheimer?s Disease Mouse Models...",
           "García-Carlos, C. A., Basurto-Islas, G.,...",
           "Journal of Alzheimer?s Disease, 99(2), 595?607"
          ],
          [
           "Reversal of high-glucose?induced transcriptional and epigene...",
           "Wilson-Verdugo, M., Bustos-García, B., A...",
           "Life Science Alliance, 7(8), e202302382"
          ],
          [
           "Altered Plasma Membrane Lipid Composition in Hypertensive Ne...",
           "Ríos-Medina, Y., Rico-Chávez, P., Martín...",
           "International Journal of Molecular Sciences, 25(9), 4939"
          ],
          [
           "A novel cis-regulatory element regulates ?D and ?A-globin ge...",
           "Cortés-Fernández de Lara, J., Núñez-Mart...",
           "Frontiers in Genetics, 15"
          ],
          [
           "Improved Recovery of Complete Spinal Cord Transection by a P...",
           "Osorio-Londoño, D., Heras-Romero, Y., To...",
           "Polymers, 16(8), 1133"
          ],
          [
           "KS-WNK1 is required for the renal response to extreme change...",
           "Bahena-Lopez, J. P., Vergara, L., de la-...",
           "American Journal of Physiology-Renal Physiology, 326(3), F460?F476"
          ],
          [
           "Gender effect of glucose, insulin/glucagon ratio, lipids, an...",
           "Contreras-Zentella, M. L., Alatriste-Con...",
           "Frontiers in Molecular Biosciences, 11"
          ],
          [
           "Exploring mitochondrial targeting: an innovative fluorescent...",
           "Ordóñez-Hernández, J., Ceballos-Ávila, D...",
           "Chemical Communications"
          ],
          [
           "Author Correction: RNA polymerase II pausing regulates chrom...",
           "Penagos-Puig, A., Claudio-Galeana, S., S...",
           "Nature Structural &amp; Molecular Biology"
          ],
          [
           "New paradigms in the study of the cholinergic system and met...",
           "Villeda?González, J. D., Gómez?Olivares,...",
           "Journal of Cellular Physiology"
          ],
          [
           "Editorial: Over 60 years of neurochemistry, the heritage of ...",
           "Ramírez-Jarquín, J. O., Tecalco-Cruz, A....",
           "Ricardo Tapia"
          ],
          [
           "Infiltration of immune cells to the brain and its relation t...",
           "Netzahualcoyotzi, C., Santillán?Cigales,...",
           "Journal of Neurochemistry"
          ],
          [
           "Light Pollution and Oxidative Stress: Effects on Retina and ...",
           "Salceda, R.",
           "Antioxidants, 13(3), 362"
          ],
          [
           "Rotation of the Fla2 flagella of Cereibacter sphaeroides req...",
           "Vélez-González, F., Marcos-Vilchis, A., ...",
           "PLOS ONE, 19(3), e0298028"
          ],
          [
           "An adenosine derivative promotes mitochondrial supercomplexe...",
           "García-Carrillo, R., Molina-Pelayo, F. A...",
           "Scientific Reports, 14(1)"
          ],
          [
           "Fraping: A computational tool for detecting slight differenc...",
           "Medina?Ruíz, G. I., Medina?Ruiz, A. I., ...",
           "Microscopy Research and Technique"
          ],
          [
           "Analysis of cholesterol-recognition motifs of the plasma mem...",
           "Delgado-Coello, B., Luna-Reyes, I., Ménd...",
           "Journal of Bioenergetics and Biomembranes"
          ],
          [
           "The mitochondrial respiratory chain from Rhodotorula mucilag...",
           "Castañeda-Tamez, P., Chiquete-Félix, N.,...",
           "Biochimica et Biophysica Acta (BBA) - Bioenergetics, 1865(2), 149035"
          ],
          [
           "Common evolutionary origins of the bacterial glycyl <scp>tRN...",
           "Alvarez?Carreño, C., Arciniega, M., Riba...",
           "Protein Science, 33(3)"
          ],
          [
           "NMDA receptor-mediated Ca2+ signaling: Impact on cell cycle ...",
           "González-Cota, A. L., Martínez-Flores, D...",
           "Cell Calcium, 119, 102856"
          ],
          [
           "Comparative genomic analysis of uropathogenic Escherichia co...",
           "Flores-Oropeza, M. A., Ochoa, S. A., Cru...",
           "Frontiers in Microbiology, 14"
          ],
          [
           "Membrane fusion and fission during eukaryogenesis",
           "Romero, H., Aguilar, P. S., Graña, M., L...",
           "Current Opinion in Cell Biology, 86, 102321"
          ],
          [
           "TET Enzymes and 5hmC Levels in Carcinogenesis and Progressio...",
           "Salmerón-Bárcenas, E. G., Zacapala-Gómez...",
           "International Journal of Molecular Sciences, 25(1), 272"
          ],
          [
           "Neo-functionalization in\n            Saccharomyces cerevisia...",
           "Campero-Basaldua, C., González, J., Garc...",
           "Royal Society Open Science, 10(11)"
          ],
          [
           "Permeant cations modulate pore dynamics and gating of TRPV1 ...",
           "García-Ávila, M., Tello-Marmolejo, J., R...",
           "Journal of General Physiology, 156(1)"
          ]
         ],
         "hovertemplate": "UMAP Dimension 1=%{x}<br>UMAP Dimension 2=%{y}<br>title_short=%{customdata[0]}<br>authors_short=%{customdata[1]}<br>journal=%{customdata[2]}<br>year=%{marker.color}<extra></extra>",
         "legendgroup": "",
         "marker": {
          "color": {
           "bdata": "5AfkB+QH5AfkB+QH5AfkB+QH5AfkB+QH5AfkB+QH5AfkB+QH5AfkB+QH5AfkB+QH5AfkB+QH5AfkB+QH5AfkB+QH5AfkB+QH5AfkB+QH5AfkB+QH5AfkB+QH5AfkB+QH5AfkB+QH5AfkB+QH5AfkB+QH5AfkB+QH5AfkB+QH5AfkB+QH5AfkB+QH5AfkB+QH5AfkB+QH5AfkB+QH5AfkB+QH5AfkB+QH5AfkB+QH5AfkB+QH5AfkB+QH5AfkB+IH5AfkB+QH5AfjB+QH5AfkB+QH5AfkB+QH5AfkB+QH5AfkB+QH5AfkB+QH5AfkB+QH5AfkB+QH5AfkB+QH5AfkB+UH5QflB+UH5QflB+UH5QflB+UH5QflB+UH5QflB+UH5QflB+UH5QflB+UH5QflB+UH5QflB+UH5QflB+UH5QflB+UH5QflB+UH5QflB+UH5QflB+UH5QflB+UH5QflB+UH5QflB+UH5QflB+UH5QflB+UH5QflB+UH5QflB+UH5QflB+UH5QflB+UH5QflB+UH5QflB+UH5QflB+UH5QflB+UH5QflB+UH5QfkB+UH5QflB+UH5QflB+UH5QflB+UH5QflB+UH5QflB+UH5QflB+UH5QflB+UH5QflB+UH5QflB+UH5QflB+UH5QflB+UH5QflB+UH5QflB+UH5QfkB+QH5AfmB+YH5gfmB+YH5gfmB+YH5gfmB+YH5gfmB+UH5gfmB+YH5gfmB+YH5gfmB+YH5gfmB+YH5wfnB+cH5wfnB+cH5wfnB+cH5wfnB+cH5wfnB+cH5wfnB+cH5wfnB+cH5wfnB+cH5wfnB+cH5wfnB+cH5wfnB+gH6AfoB+gH6AfoB+gH6AfpB+gH6AfoB+gH6AfoB+gH6AfoB+gH6AfoB+gH6AfoB+gH6AfoB+gH6AfoB+gH6AfoB+gH6AfoB+gH6AfoB+gH6AfoB+gH6AfoB+gH6AfoB+gH6AfoB+gH6AfoB+gH6AfoB+gH6AfoB+gH6AfoB+gH6AfoB+gH6AfoB+gH6AfoB+gH6AfoB+gH6AfoB+gH6AfoB+gH6AfoB+cH5wfnBw==",
           "dtype": "i2"
          },
          "coloraxis": "coloraxis",
          "opacity": 0.7,
          "size": 8,
          "symbol": "circle"
         },
         "mode": "markers",
         "name": "",
         "orientation": "v",
         "showlegend": false,
         "type": "scatter",
         "x": {
          "bdata": "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",
          "dtype": "f4"
         },
         "xaxis": "x",
         "y": {
          "bdata": "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",
          "dtype": "f4"
         },
         "yaxis": "y"
        }
       ],
       "layout": {
        "coloraxis": {
         "colorbar": {
          "title": {
           "text": "year"
          }
         },
         "colorscale": [
          [
           0,
           "#440154"
          ],
          [
           0.1111111111111111,
           "#482878"
          ],
          [
           0.2222222222222222,
           "#3e4989"
          ],
          [
           0.3333333333333333,
           "#31688e"
          ],
          [
           0.4444444444444444,
           "#26828e"
          ],
          [
           0.5555555555555556,
           "#1f9e89"
          ],
          [
           0.6666666666666666,
           "#35b779"
          ],
          [
           0.7777777777777778,
           "#6ece58"
          ],
          [
           0.8888888888888888,
           "#b5de2b"
          ],
          [
           1,
           "#fde725"
          ]
         ]
        },
        "height": 700,
        "legend": {
         "tracegroupgap": 0
        },
        "template": {
         "data": {
          "bar": [
           {
            "error_x": {
             "color": "#2a3f5f"
            },
            "error_y": {
             "color": "#2a3f5f"
            },
            "marker": {
             "line": {
              "color": "#E5ECF6",
              "width": 0.5
             },
             "pattern": {
              "fillmode": "overlay",
              "size": 10,
              "solidity": 0.2
             }
            },
            "type": "bar"
           }
          ],
          "barpolar": [
           {
            "marker": {
             "line": {
              "color": "#E5ECF6",
              "width": 0.5
             },
             "pattern": {
              "fillmode": "overlay",
              "size": 10,
              "solidity": 0.2
             }
            },
            "type": "barpolar"
           }
          ],
          "carpet": [
           {
            "aaxis": {
             "endlinecolor": "#2a3f5f",
             "gridcolor": "white",
             "linecolor": "white",
             "minorgridcolor": "white",
             "startlinecolor": "#2a3f5f"
            },
            "baxis": {
             "endlinecolor": "#2a3f5f",
             "gridcolor": "white",
             "linecolor": "white",
             "minorgridcolor": "white",
             "startlinecolor": "#2a3f5f"
            },
            "type": "carpet"
           }
          ],
          "choropleth": [
           {
            "colorbar": {
             "outlinewidth": 0,
             "ticks": ""
            },
            "type": "choropleth"
           }
          ],
          "contour": [
           {
            "colorbar": {
             "outlinewidth": 0,
             "ticks": ""
            },
            "colorscale": [
             [
              0,
              "#0d0887"
             ],
             [
              0.1111111111111111,
              "#46039f"
             ],
             [
              0.2222222222222222,
              "#7201a8"
             ],
             [
              0.3333333333333333,
              "#9c179e"
             ],
             [
              0.4444444444444444,
              "#bd3786"
             ],
             [
              0.5555555555555556,
              "#d8576b"
             ],
             [
              0.6666666666666666,
              "#ed7953"
             ],
             [
              0.7777777777777778,
              "#fb9f3a"
             ],
             [
              0.8888888888888888,
              "#fdca26"
             ],
             [
              1,
              "#f0f921"
             ]
            ],
            "type": "contour"
           }
          ],
          "contourcarpet": [
           {
            "colorbar": {
             "outlinewidth": 0,
             "ticks": ""
            },
            "type": "contourcarpet"
           }
          ],
          "heatmap": [
           {
            "colorbar": {
             "outlinewidth": 0,
             "ticks": ""
            },
            "colorscale": [
             [
              0,
              "#0d0887"
             ],
             [
              0.1111111111111111,
              "#46039f"
             ],
             [
              0.2222222222222222,
              "#7201a8"
             ],
             [
              0.3333333333333333,
              "#9c179e"
             ],
             [
              0.4444444444444444,
              "#bd3786"
             ],
             [
              0.5555555555555556,
              "#d8576b"
             ],
             [
              0.6666666666666666,
              "#ed7953"
             ],
             [
              0.7777777777777778,
              "#fb9f3a"
             ],
             [
              0.8888888888888888,
              "#fdca26"
             ],
             [
              1,
              "#f0f921"
             ]
            ],
            "type": "heatmap"
           }
          ],
          "histogram": [
           {
            "marker": {
             "pattern": {
              "fillmode": "overlay",
              "size": 10,
              "solidity": 0.2
             }
            },
            "type": "histogram"
           }
          ],
          "histogram2d": [
           {
            "colorbar": {
             "outlinewidth": 0,
             "ticks": ""
            },
            "colorscale": [
             [
              0,
              "#0d0887"
             ],
             [
              0.1111111111111111,
              "#46039f"
             ],
             [
              0.2222222222222222,
              "#7201a8"
             ],
             [
              0.3333333333333333,
              "#9c179e"
             ],
             [
              0.4444444444444444,
              "#bd3786"
             ],
             [
              0.5555555555555556,
              "#d8576b"
             ],
             [
              0.6666666666666666,
              "#ed7953"
             ],
             [
              0.7777777777777778,
              "#fb9f3a"
             ],
             [
              0.8888888888888888,
              "#fdca26"
             ],
             [
              1,
              "#f0f921"
             ]
            ],
            "type": "histogram2d"
           }
          ],
          "histogram2dcontour": [
           {
            "colorbar": {
             "outlinewidth": 0,
             "ticks": ""
            },
            "colorscale": [
             [
              0,
              "#0d0887"
             ],
             [
              0.1111111111111111,
              "#46039f"
             ],
             [
              0.2222222222222222,
              "#7201a8"
             ],
             [
              0.3333333333333333,
              "#9c179e"
             ],
             [
              0.4444444444444444,
              "#bd3786"
             ],
             [
              0.5555555555555556,
              "#d8576b"
             ],
             [
              0.6666666666666666,
              "#ed7953"
             ],
             [
              0.7777777777777778,
              "#fb9f3a"
             ],
             [
              0.8888888888888888,
              "#fdca26"
             ],
             [
              1,
              "#f0f921"
             ]
            ],
            "type": "histogram2dcontour"
           }
          ],
          "mesh3d": [
           {
            "colorbar": {
             "outlinewidth": 0,
             "ticks": ""
            },
            "type": "mesh3d"
           }
          ],
          "parcoords": [
           {
            "line": {
             "colorbar": {
              "outlinewidth": 0,
              "ticks": ""
             }
            },
            "type": "parcoords"
           }
          ],
          "pie": [
           {
            "automargin": true,
            "type": "pie"
           }
          ],
          "scatter": [
           {
            "fillpattern": {
             "fillmode": "overlay",
             "size": 10,
             "solidity": 0.2
            },
            "type": "scatter"
           }
          ],
          "scatter3d": [
           {
            "line": {
             "colorbar": {
              "outlinewidth": 0,
              "ticks": ""
             }
            },
            "marker": {
             "colorbar": {
              "outlinewidth": 0,
              "ticks": ""
             }
            },
            "type": "scatter3d"
           }
          ],
          "scattercarpet": [
           {
            "marker": {
             "colorbar": {
              "outlinewidth": 0,
              "ticks": ""
             }
            },
            "type": "scattercarpet"
           }
          ],
          "scattergeo": [
           {
            "marker": {
             "colorbar": {
              "outlinewidth": 0,
              "ticks": ""
             }
            },
            "type": "scattergeo"
           }
          ],
          "scattergl": [
           {
            "marker": {
             "colorbar": {
              "outlinewidth": 0,
              "ticks": ""
             }
            },
            "type": "scattergl"
           }
          ],
          "scattermap": [
           {
            "marker": {
             "colorbar": {
              "outlinewidth": 0,
              "ticks": ""
             }
            },
            "type": "scattermap"
           }
          ],
          "scattermapbox": [
           {
            "marker": {
             "colorbar": {
              "outlinewidth": 0,
              "ticks": ""
             }
            },
            "type": "scattermapbox"
           }
          ],
          "scatterpolar": [
           {
            "marker": {
             "colorbar": {
              "outlinewidth": 0,
              "ticks": ""
             }
            },
            "type": "scatterpolar"
           }
          ],
          "scatterpolargl": [
           {
            "marker": {
             "colorbar": {
              "outlinewidth": 0,
              "ticks": ""
             }
            },
            "type": "scatterpolargl"
           }
          ],
          "scatterternary": [
           {
            "marker": {
             "colorbar": {
              "outlinewidth": 0,
              "ticks": ""
             }
            },
            "type": "scatterternary"
           }
          ],
          "surface": [
           {
            "colorbar": {
             "outlinewidth": 0,
             "ticks": ""
            },
            "colorscale": [
             [
              0,
              "#0d0887"
             ],
             [
              0.1111111111111111,
              "#46039f"
             ],
             [
              0.2222222222222222,
              "#7201a8"
             ],
             [
              0.3333333333333333,
              "#9c179e"
             ],
             [
              0.4444444444444444,
              "#bd3786"
             ],
             [
              0.5555555555555556,
              "#d8576b"
             ],
             [
              0.6666666666666666,
              "#ed7953"
             ],
             [
              0.7777777777777778,
              "#fb9f3a"
             ],
             [
              0.8888888888888888,
              "#fdca26"
             ],
             [
              1,
              "#f0f921"
             ]
            ],
            "type": "surface"
           }
          ],
          "table": [
           {
            "cells": {
             "fill": {
              "color": "#EBF0F8"
             },
             "line": {
              "color": "white"
             }
            },
            "header": {
             "fill": {
              "color": "#C8D4E3"
             },
             "line": {
              "color": "white"
             }
            },
            "type": "table"
           }
          ]
         },
         "layout": {
          "annotationdefaults": {
           "arrowcolor": "#2a3f5f",
           "arrowhead": 0,
           "arrowwidth": 1
          },
          "autotypenumbers": "strict",
          "coloraxis": {
           "colorbar": {
            "outlinewidth": 0,
            "ticks": ""
           }
          },
          "colorscale": {
           "diverging": [
            [
             0,
             "#8e0152"
            ],
            [
             0.1,
             "#c51b7d"
            ],
            [
             0.2,
             "#de77ae"
            ],
            [
             0.3,
             "#f1b6da"
            ],
            [
             0.4,
             "#fde0ef"
            ],
            [
             0.5,
             "#f7f7f7"
            ],
            [
             0.6,
             "#e6f5d0"
            ],
            [
             0.7,
             "#b8e186"
            ],
            [
             0.8,
             "#7fbc41"
            ],
            [
             0.9,
             "#4d9221"
            ],
            [
             1,
             "#276419"
            ]
           ],
           "sequential": [
            [
             0,
             "#0d0887"
            ],
            [
             0.1111111111111111,
             "#46039f"
            ],
            [
             0.2222222222222222,
             "#7201a8"
            ],
            [
             0.3333333333333333,
             "#9c179e"
            ],
            [
             0.4444444444444444,
             "#bd3786"
            ],
            [
             0.5555555555555556,
             "#d8576b"
            ],
            [
             0.6666666666666666,
             "#ed7953"
            ],
            [
             0.7777777777777778,
             "#fb9f3a"
            ],
            [
             0.8888888888888888,
             "#fdca26"
            ],
            [
             1,
             "#f0f921"
            ]
           ],
           "sequentialminus": [
            [
             0,
             "#0d0887"
            ],
            [
             0.1111111111111111,
             "#46039f"
            ],
            [
             0.2222222222222222,
             "#7201a8"
            ],
            [
             0.3333333333333333,
             "#9c179e"
            ],
            [
             0.4444444444444444,
             "#bd3786"
            ],
            [
             0.5555555555555556,
             "#d8576b"
            ],
            [
             0.6666666666666666,
             "#ed7953"
            ],
            [
             0.7777777777777778,
             "#fb9f3a"
            ],
            [
             0.8888888888888888,
             "#fdca26"
            ],
            [
             1,
             "#f0f921"
            ]
           ]
          },
          "colorway": [
           "#636efa",
           "#EF553B",
           "#00cc96",
           "#ab63fa",
           "#FFA15A",
           "#19d3f3",
           "#FF6692",
           "#B6E880",
           "#FF97FF",
           "#FECB52"
          ],
          "font": {
           "color": "#2a3f5f"
          },
          "geo": {
           "bgcolor": "white",
           "lakecolor": "white",
           "landcolor": "#E5ECF6",
           "showlakes": true,
           "showland": true,
           "subunitcolor": "white"
          },
          "hoverlabel": {
           "align": "left"
          },
          "hovermode": "closest",
          "mapbox": {
           "style": "light"
          },
          "paper_bgcolor": "white",
          "plot_bgcolor": "#E5ECF6",
          "polar": {
           "angularaxis": {
            "gridcolor": "white",
            "linecolor": "white",
            "ticks": ""
           },
           "bgcolor": "#E5ECF6",
           "radialaxis": {
            "gridcolor": "white",
            "linecolor": "white",
            "ticks": ""
           }
          },
          "scene": {
           "xaxis": {
            "backgroundcolor": "#E5ECF6",
            "gridcolor": "white",
            "gridwidth": 2,
            "linecolor": "white",
            "showbackground": true,
            "ticks": "",
            "zerolinecolor": "white"
           },
           "yaxis": {
            "backgroundcolor": "#E5ECF6",
            "gridcolor": "white",
            "gridwidth": 2,
            "linecolor": "white",
            "showbackground": true,
            "ticks": "",
            "zerolinecolor": "white"
           },
           "zaxis": {
            "backgroundcolor": "#E5ECF6",
            "gridcolor": "white",
            "gridwidth": 2,
            "linecolor": "white",
            "showbackground": true,
            "ticks": "",
            "zerolinecolor": "white"
           }
          },
          "shapedefaults": {
           "line": {
            "color": "#2a3f5f"
           }
          },
          "ternary": {
           "aaxis": {
            "gridcolor": "white",
            "linecolor": "white",
            "ticks": ""
           },
           "baxis": {
            "gridcolor": "white",
            "linecolor": "white",
            "ticks": ""
           },
           "bgcolor": "#E5ECF6",
           "caxis": {
            "gridcolor": "white",
            "linecolor": "white",
            "ticks": ""
           }
          },
          "title": {
           "x": 0.05
          },
          "xaxis": {
           "automargin": true,
           "gridcolor": "white",
           "linecolor": "white",
           "ticks": "",
           "title": {
            "standoff": 15
           },
           "zerolinecolor": "white",
           "zerolinewidth": 2
          },
          "yaxis": {
           "automargin": true,
           "gridcolor": "white",
           "linecolor": "white",
           "ticks": "",
           "title": {
            "standoff": 15
           },
           "zerolinecolor": "white",
           "zerolinewidth": 2
          }
         }
        },
        "title": {
         "text": "Interactive IFC Publications Map"
        },
        "width": 1000,
        "xaxis": {
         "anchor": "y",
         "domain": [
          0,
          1
         ],
         "title": {
          "text": "UMAP Dimension 1"
         }
        },
        "yaxis": {
         "anchor": "x",
         "domain": [
          0,
          1
         ],
         "title": {
          "text": "UMAP Dimension 2"
         }
        }
       }
      }
     },
     "metadata": {},
     "output_type": "display_data"
    },
    {
     "name": "stdout",
     "output_type": "stream",
     "text": [
      "\n",
      "📈 Showing journal_clusters:\n"
     ]
    },
    {
     "data": {
      "application/vnd.plotly.v1+json": {
       "config": {
        "plotlyServerURL": "https://plot.ly"
       },
       "data": [
        {
         "hovertemplate": "journal=Frontiers in Immunology, 11<br>UMAP Dimension 1=%{x}<br>UMAP Dimension 2=%{y}<extra></extra>",
         "legendgroup": "Frontiers in Immunology, 11",
         "marker": {
          "color": "#636efa",
          "opacity": 0.8,
          "size": 10,
          "symbol": "circle"
         },
         "mode": "markers",
         "name": "Frontiers in Immunology, 11",
         "orientation": "v",
         "showlegend": true,
         "type": "scatter",
         "x": {
          "bdata": "sDQuQDDrQEA=",
          "dtype": "f4"
         },
         "xaxis": "x",
         "y": {
          "bdata": "BoAsP4ThND8=",
          "dtype": "f4"
         },
         "yaxis": "y"
        },
        {
         "hovertemplate": "journal=Frontiers in Cell and Developmental Biology, 8<br>UMAP Dimension 1=%{x}<br>UMAP Dimension 2=%{y}<extra></extra>",
         "legendgroup": "Frontiers in Cell and Developmental Biology, 8",
         "marker": {
          "color": "#EF553B",
          "opacity": 0.8,
          "size": 10,
          "symbol": "circle"
         },
         "mode": "markers",
         "name": "Frontiers in Cell and Developmental Biology, 8",
         "orientation": "v",
         "showlegend": true,
         "type": "scatter",
         "x": {
          "bdata": "vbZrQKAvkEA+TqVAHHw8QPh0vkA=",
          "dtype": "f4"
         },
         "xaxis": "x",
         "y": {
          "bdata": "7lAnQOhrzz/n2GZAmoUkQBQo5j8=",
          "dtype": "f4"
         },
         "yaxis": "y"
        },
        {
         "hovertemplate": "journal=Frontiers in Microbiology, 11<br>UMAP Dimension 1=%{x}<br>UMAP Dimension 2=%{y}<extra></extra>",
         "legendgroup": "Frontiers in Microbiology, 11",
         "marker": {
          "color": "#00cc96",
          "opacity": 0.8,
          "size": 10,
          "symbol": "circle"
         },
         "mode": "markers",
         "name": "Frontiers in Microbiology, 11",
         "orientation": "v",
         "showlegend": true,
         "type": "scatter",
         "x": {
          "bdata": "aNYJQBZ2vT/VXro/",
          "dtype": "f4"
         },
         "xaxis": "x",
         "y": {
          "bdata": "YViDQHS1g0CGxoJA",
          "dtype": "f4"
         },
         "yaxis": "y"
        },
        {
         "hovertemplate": "journal=Communications Biology, 3(1)<br>UMAP Dimension 1=%{x}<br>UMAP Dimension 2=%{y}<extra></extra>",
         "legendgroup": "Communications Biology, 3(1)",
         "marker": {
          "color": "#ab63fa",
          "opacity": 0.8,
          "size": 10,
          "symbol": "circle"
         },
         "mode": "markers",
         "name": "Communications Biology, 3(1)",
         "orientation": "v",
         "showlegend": true,
         "type": "scatter",
         "x": {
          "bdata": "/AQAQTtSvkA=",
          "dtype": "f4"
         },
         "xaxis": "x",
         "y": {
          "bdata": "qW5JQNywX0A=",
          "dtype": "f4"
         },
         "yaxis": "y"
        },
        {
         "hovertemplate": "journal=Frontiers in Neuroscience, 15<br>UMAP Dimension 1=%{x}<br>UMAP Dimension 2=%{y}<extra></extra>",
         "legendgroup": "Frontiers in Neuroscience, 15",
         "marker": {
          "color": "#FFA15A",
          "opacity": 0.8,
          "size": 10,
          "symbol": "circle"
         },
         "mode": "markers",
         "name": "Frontiers in Neuroscience, 15",
         "orientation": "v",
         "showlegend": true,
         "type": "scatter",
         "x": {
          "bdata": "uHECQY5iBUG6s9ZA",
          "dtype": "f4"
         },
         "xaxis": "x",
         "y": {
          "bdata": "Tr3bP/SaQkCfV09A",
          "dtype": "f4"
         },
         "yaxis": "y"
        },
        {
         "hovertemplate": "journal=Frontiers in Immunology, 12<br>UMAP Dimension 1=%{x}<br>UMAP Dimension 2=%{y}<extra></extra>",
         "legendgroup": "Frontiers in Immunology, 12",
         "marker": {
          "color": "#19d3f3",
          "opacity": 0.8,
          "size": 10,
          "symbol": "circle"
         },
         "mode": "markers",
         "name": "Frontiers in Immunology, 12",
         "orientation": "v",
         "showlegend": true,
         "type": "scatter",
         "x": {
          "bdata": "uUR0QMaDRkB/fHdA",
          "dtype": "f4"
         },
         "xaxis": "x",
         "y": {
          "bdata": "BYx7PvwDQj8Bg8s+",
          "dtype": "f4"
         },
         "yaxis": "y"
        },
        {
         "hovertemplate": "journal=Frontiers in Cell and Developmental Biology, 9<br>UMAP Dimension 1=%{x}<br>UMAP Dimension 2=%{y}<extra></extra>",
         "legendgroup": "Frontiers in Cell and Developmental Biology, 9",
         "marker": {
          "color": "#FF6692",
          "opacity": 0.8,
          "size": 10,
          "symbol": "circle"
         },
         "mode": "markers",
         "name": "Frontiers in Cell and Developmental Biology, 9",
         "orientation": "v",
         "showlegend": true,
         "type": "scatter",
         "x": {
          "bdata": "1KjcQAoRyEA4c69A",
          "dtype": "f4"
         },
         "xaxis": "x",
         "y": {
          "bdata": "8gH3P3AhCEBfuz5A",
          "dtype": "f4"
         },
         "yaxis": "y"
        },
        {
         "hovertemplate": "journal=Scientific Reports, 11(1)<br>UMAP Dimension 1=%{x}<br>UMAP Dimension 2=%{y}<extra></extra>",
         "legendgroup": "Scientific Reports, 11(1)",
         "marker": {
          "color": "#B6E880",
          "opacity": 0.8,
          "size": 10,
          "symbol": "circle"
         },
         "mode": "markers",
         "name": "Scientific Reports, 11(1)",
         "orientation": "v",
         "showlegend": true,
         "type": "scatter",
         "x": {
          "bdata": "j6G9QPRCXkAVpM1AxAqtQC0sZ0A=",
          "dtype": "f4"
         },
         "xaxis": "x",
         "y": {
          "bdata": "FO2kQDfoDUA/hZNAvD2UQOxncUA=",
          "dtype": "f4"
         },
         "yaxis": "y"
        },
        {
         "hovertemplate": "journal=Archives of Medical Research<br>UMAP Dimension 1=%{x}<br>UMAP Dimension 2=%{y}<extra></extra>",
         "legendgroup": "Archives of Medical Research",
         "marker": {
          "color": "#FF97FF",
          "opacity": 0.8,
          "size": 10,
          "symbol": "circle"
         },
         "mode": "markers",
         "name": "Archives of Medical Research",
         "orientation": "v",
         "showlegend": true,
         "type": "scatter",
         "x": {
          "bdata": "OAgYQFp2C0Avt4hA",
          "dtype": "f4"
         },
         "xaxis": "x",
         "y": {
          "bdata": "WlQ4PxyjdD9VBRJA",
          "dtype": "f4"
         },
         "yaxis": "y"
        },
        {
         "hovertemplate": "journal=https://doi<br>UMAP Dimension 1=%{x}<br>UMAP Dimension 2=%{y}<extra></extra>",
         "legendgroup": "https://doi",
         "marker": {
          "color": "#FECB52",
          "opacity": 0.8,
          "size": 10,
          "symbol": "circle"
         },
         "mode": "markers",
         "name": "https://doi",
         "orientation": "v",
         "showlegend": true,
         "type": "scatter",
         "x": {
          "bdata": "iP7bQPXjdUA=",
          "dtype": "f4"
         },
         "xaxis": "x",
         "y": {
          "bdata": "p9SaQMIKTUA=",
          "dtype": "f4"
         },
         "yaxis": "y"
        }
       ],
       "layout": {
        "height": 800,
        "legend": {
         "title": {
          "text": "journal"
         },
         "tracegroupgap": 0
        },
        "template": {
         "data": {
          "bar": [
           {
            "error_x": {
             "color": "#2a3f5f"
            },
            "error_y": {
             "color": "#2a3f5f"
            },
            "marker": {
             "line": {
              "color": "#E5ECF6",
              "width": 0.5
             },
             "pattern": {
              "fillmode": "overlay",
              "size": 10,
              "solidity": 0.2
             }
            },
            "type": "bar"
           }
          ],
          "barpolar": [
           {
            "marker": {
             "line": {
              "color": "#E5ECF6",
              "width": 0.5
             },
             "pattern": {
              "fillmode": "overlay",
              "size": 10,
              "solidity": 0.2
             }
            },
            "type": "barpolar"
           }
          ],
          "carpet": [
           {
            "aaxis": {
             "endlinecolor": "#2a3f5f",
             "gridcolor": "white",
             "linecolor": "white",
             "minorgridcolor": "white",
             "startlinecolor": "#2a3f5f"
            },
            "baxis": {
             "endlinecolor": "#2a3f5f",
             "gridcolor": "white",
             "linecolor": "white",
             "minorgridcolor": "white",
             "startlinecolor": "#2a3f5f"
            },
            "type": "carpet"
           }
          ],
          "choropleth": [
           {
            "colorbar": {
             "outlinewidth": 0,
             "ticks": ""
            },
            "type": "choropleth"
           }
          ],
          "contour": [
           {
            "colorbar": {
             "outlinewidth": 0,
             "ticks": ""
            },
            "colorscale": [
             [
              0,
              "#0d0887"
             ],
             [
              0.1111111111111111,
              "#46039f"
             ],
             [
              0.2222222222222222,
              "#7201a8"
             ],
             [
              0.3333333333333333,
              "#9c179e"
             ],
             [
              0.4444444444444444,
              "#bd3786"
             ],
             [
              0.5555555555555556,
              "#d8576b"
             ],
             [
              0.6666666666666666,
              "#ed7953"
             ],
             [
              0.7777777777777778,
              "#fb9f3a"
             ],
             [
              0.8888888888888888,
              "#fdca26"
             ],
             [
              1,
              "#f0f921"
             ]
            ],
            "type": "contour"
           }
          ],
          "contourcarpet": [
           {
            "colorbar": {
             "outlinewidth": 0,
             "ticks": ""
            },
            "type": "contourcarpet"
           }
          ],
          "heatmap": [
           {
            "colorbar": {
             "outlinewidth": 0,
             "ticks": ""
            },
            "colorscale": [
             [
              0,
              "#0d0887"
             ],
             [
              0.1111111111111111,
              "#46039f"
             ],
             [
              0.2222222222222222,
              "#7201a8"
             ],
             [
              0.3333333333333333,
              "#9c179e"
             ],
             [
              0.4444444444444444,
              "#bd3786"
             ],
             [
              0.5555555555555556,
              "#d8576b"
             ],
             [
              0.6666666666666666,
              "#ed7953"
             ],
             [
              0.7777777777777778,
              "#fb9f3a"
             ],
             [
              0.8888888888888888,
              "#fdca26"
             ],
             [
              1,
              "#f0f921"
             ]
            ],
            "type": "heatmap"
           }
          ],
          "histogram": [
           {
            "marker": {
             "pattern": {
              "fillmode": "overlay",
              "size": 10,
              "solidity": 0.2
             }
            },
            "type": "histogram"
           }
          ],
          "histogram2d": [
           {
            "colorbar": {
             "outlinewidth": 0,
             "ticks": ""
            },
            "colorscale": [
             [
              0,
              "#0d0887"
             ],
             [
              0.1111111111111111,
              "#46039f"
             ],
             [
              0.2222222222222222,
              "#7201a8"
             ],
             [
              0.3333333333333333,
              "#9c179e"
             ],
             [
              0.4444444444444444,
              "#bd3786"
             ],
             [
              0.5555555555555556,
              "#d8576b"
             ],
             [
              0.6666666666666666,
              "#ed7953"
             ],
             [
              0.7777777777777778,
              "#fb9f3a"
             ],
             [
              0.8888888888888888,
              "#fdca26"
             ],
             [
              1,
              "#f0f921"
             ]
            ],
            "type": "histogram2d"
           }
          ],
          "histogram2dcontour": [
           {
            "colorbar": {
             "outlinewidth": 0,
             "ticks": ""
            },
            "colorscale": [
             [
              0,
              "#0d0887"
             ],
             [
              0.1111111111111111,
              "#46039f"
             ],
             [
              0.2222222222222222,
              "#7201a8"
             ],
             [
              0.3333333333333333,
              "#9c179e"
             ],
             [
              0.4444444444444444,
              "#bd3786"
             ],
             [
              0.5555555555555556,
              "#d8576b"
             ],
             [
              0.6666666666666666,
              "#ed7953"
             ],
             [
              0.7777777777777778,
              "#fb9f3a"
             ],
             [
              0.8888888888888888,
              "#fdca26"
             ],
             [
              1,
              "#f0f921"
             ]
            ],
            "type": "histogram2dcontour"
           }
          ],
          "mesh3d": [
           {
            "colorbar": {
             "outlinewidth": 0,
             "ticks": ""
            },
            "type": "mesh3d"
           }
          ],
          "parcoords": [
           {
            "line": {
             "colorbar": {
              "outlinewidth": 0,
              "ticks": ""
             }
            },
            "type": "parcoords"
           }
          ],
          "pie": [
           {
            "automargin": true,
            "type": "pie"
           }
          ],
          "scatter": [
           {
            "fillpattern": {
             "fillmode": "overlay",
             "size": 10,
             "solidity": 0.2
            },
            "type": "scatter"
           }
          ],
          "scatter3d": [
           {
            "line": {
             "colorbar": {
              "outlinewidth": 0,
              "ticks": ""
             }
            },
            "marker": {
             "colorbar": {
              "outlinewidth": 0,
              "ticks": ""
             }
            },
            "type": "scatter3d"
           }
          ],
          "scattercarpet": [
           {
            "marker": {
             "colorbar": {
              "outlinewidth": 0,
              "ticks": ""
             }
            },
            "type": "scattercarpet"
           }
          ],
          "scattergeo": [
           {
            "marker": {
             "colorbar": {
              "outlinewidth": 0,
              "ticks": ""
             }
            },
            "type": "scattergeo"
           }
          ],
          "scattergl": [
           {
            "marker": {
             "colorbar": {
              "outlinewidth": 0,
              "ticks": ""
             }
            },
            "type": "scattergl"
           }
          ],
          "scattermap": [
           {
            "marker": {
             "colorbar": {
              "outlinewidth": 0,
              "ticks": ""
             }
            },
            "type": "scattermap"
           }
          ],
          "scattermapbox": [
           {
            "marker": {
             "colorbar": {
              "outlinewidth": 0,
              "ticks": ""
             }
            },
            "type": "scattermapbox"
           }
          ],
          "scatterpolar": [
           {
            "marker": {
             "colorbar": {
              "outlinewidth": 0,
              "ticks": ""
             }
            },
            "type": "scatterpolar"
           }
          ],
          "scatterpolargl": [
           {
            "marker": {
             "colorbar": {
              "outlinewidth": 0,
              "ticks": ""
             }
            },
            "type": "scatterpolargl"
           }
          ],
          "scatterternary": [
           {
            "marker": {
             "colorbar": {
              "outlinewidth": 0,
              "ticks": ""
             }
            },
            "type": "scatterternary"
           }
          ],
          "surface": [
           {
            "colorbar": {
             "outlinewidth": 0,
             "ticks": ""
            },
            "colorscale": [
             [
              0,
              "#0d0887"
             ],
             [
              0.1111111111111111,
              "#46039f"
             ],
             [
              0.2222222222222222,
              "#7201a8"
             ],
             [
              0.3333333333333333,
              "#9c179e"
             ],
             [
              0.4444444444444444,
              "#bd3786"
             ],
             [
              0.5555555555555556,
              "#d8576b"
             ],
             [
              0.6666666666666666,
              "#ed7953"
             ],
             [
              0.7777777777777778,
              "#fb9f3a"
             ],
             [
              0.8888888888888888,
              "#fdca26"
             ],
             [
              1,
              "#f0f921"
             ]
            ],
            "type": "surface"
           }
          ],
          "table": [
           {
            "cells": {
             "fill": {
              "color": "#EBF0F8"
             },
             "line": {
              "color": "white"
             }
            },
            "header": {
             "fill": {
              "color": "#C8D4E3"
             },
             "line": {
              "color": "white"
             }
            },
            "type": "table"
           }
          ]
         },
         "layout": {
          "annotationdefaults": {
           "arrowcolor": "#2a3f5f",
           "arrowhead": 0,
           "arrowwidth": 1
          },
          "autotypenumbers": "strict",
          "coloraxis": {
           "colorbar": {
            "outlinewidth": 0,
            "ticks": ""
           }
          },
          "colorscale": {
           "diverging": [
            [
             0,
             "#8e0152"
            ],
            [
             0.1,
             "#c51b7d"
            ],
            [
             0.2,
             "#de77ae"
            ],
            [
             0.3,
             "#f1b6da"
            ],
            [
             0.4,
             "#fde0ef"
            ],
            [
             0.5,
             "#f7f7f7"
            ],
            [
             0.6,
             "#e6f5d0"
            ],
            [
             0.7,
             "#b8e186"
            ],
            [
             0.8,
             "#7fbc41"
            ],
            [
             0.9,
             "#4d9221"
            ],
            [
             1,
             "#276419"
            ]
           ],
           "sequential": [
            [
             0,
             "#0d0887"
            ],
            [
             0.1111111111111111,
             "#46039f"
            ],
            [
             0.2222222222222222,
             "#7201a8"
            ],
            [
             0.3333333333333333,
             "#9c179e"
            ],
            [
             0.4444444444444444,
             "#bd3786"
            ],
            [
             0.5555555555555556,
             "#d8576b"
            ],
            [
             0.6666666666666666,
             "#ed7953"
            ],
            [
             0.7777777777777778,
             "#fb9f3a"
            ],
            [
             0.8888888888888888,
             "#fdca26"
            ],
            [
             1,
             "#f0f921"
            ]
           ],
           "sequentialminus": [
            [
             0,
             "#0d0887"
            ],
            [
             0.1111111111111111,
             "#46039f"
            ],
            [
             0.2222222222222222,
             "#7201a8"
            ],
            [
             0.3333333333333333,
             "#9c179e"
            ],
            [
             0.4444444444444444,
             "#bd3786"
            ],
            [
             0.5555555555555556,
             "#d8576b"
            ],
            [
             0.6666666666666666,
             "#ed7953"
            ],
            [
             0.7777777777777778,
             "#fb9f3a"
            ],
            [
             0.8888888888888888,
             "#fdca26"
            ],
            [
             1,
             "#f0f921"
            ]
           ]
          },
          "colorway": [
           "#636efa",
           "#EF553B",
           "#00cc96",
           "#ab63fa",
           "#FFA15A",
           "#19d3f3",
           "#FF6692",
           "#B6E880",
           "#FF97FF",
           "#FECB52"
          ],
          "font": {
           "color": "#2a3f5f"
          },
          "geo": {
           "bgcolor": "white",
           "lakecolor": "white",
           "landcolor": "#E5ECF6",
           "showlakes": true,
           "showland": true,
           "subunitcolor": "white"
          },
          "hoverlabel": {
           "align": "left"
          },
          "hovermode": "closest",
          "mapbox": {
           "style": "light"
          },
          "paper_bgcolor": "white",
          "plot_bgcolor": "#E5ECF6",
          "polar": {
           "angularaxis": {
            "gridcolor": "white",
            "linecolor": "white",
            "ticks": ""
           },
           "bgcolor": "#E5ECF6",
           "radialaxis": {
            "gridcolor": "white",
            "linecolor": "white",
            "ticks": ""
           }
          },
          "scene": {
           "xaxis": {
            "backgroundcolor": "#E5ECF6",
            "gridcolor": "white",
            "gridwidth": 2,
            "linecolor": "white",
            "showbackground": true,
            "ticks": "",
            "zerolinecolor": "white"
           },
           "yaxis": {
            "backgroundcolor": "#E5ECF6",
            "gridcolor": "white",
            "gridwidth": 2,
            "linecolor": "white",
            "showbackground": true,
            "ticks": "",
            "zerolinecolor": "white"
           },
           "zaxis": {
            "backgroundcolor": "#E5ECF6",
            "gridcolor": "white",
            "gridwidth": 2,
            "linecolor": "white",
            "showbackground": true,
            "ticks": "",
            "zerolinecolor": "white"
           }
          },
          "shapedefaults": {
           "line": {
            "color": "#2a3f5f"
           }
          },
          "ternary": {
           "aaxis": {
            "gridcolor": "white",
            "linecolor": "white",
            "ticks": ""
           },
           "baxis": {
            "gridcolor": "white",
            "linecolor": "white",
            "ticks": ""
           },
           "bgcolor": "#E5ECF6",
           "caxis": {
            "gridcolor": "white",
            "linecolor": "white",
            "ticks": ""
           }
          },
          "title": {
           "x": 0.05
          },
          "xaxis": {
           "automargin": true,
           "gridcolor": "white",
           "linecolor": "white",
           "ticks": "",
           "title": {
            "standoff": 15
           },
           "zerolinecolor": "white",
           "zerolinewidth": 2
          },
          "yaxis": {
           "automargin": true,
           "gridcolor": "white",
           "linecolor": "white",
           "ticks": "",
           "title": {
            "standoff": 15
           },
           "zerolinecolor": "white",
           "zerolinewidth": 2
          }
         }
        },
        "title": {
         "text": "Publications Clustered by Journal (Top 10)"
        },
        "width": 1200,
        "xaxis": {
         "anchor": "y",
         "domain": [
          0,
          1
         ],
         "title": {
          "text": "UMAP Dimension 1"
         }
        },
        "yaxis": {
         "anchor": "x",
         "domain": [
          0,
          1
         ],
         "title": {
          "text": "UMAP Dimension 2"
         }
        }
       }
      }
     },
     "metadata": {},
     "output_type": "display_data"
    },
    {
     "name": "stdout",
     "output_type": "stream",
     "text": [
      "\n",
      "📈 Showing year_evolution:\n",
      "\n",
      "🗺️  UMAP Embedding Space Summary:\n"
     ]
    },
    {
     "ename": "KeyError",
     "evalue": "'metadata'",
     "output_type": "error",
     "traceback": [
      "\u001b[0;31m---------------------------------------------------------------------------\u001b[0m",
      "\u001b[0;31mKeyError\u001b[0m                                  Traceback (most recent call last)",
      "Cell \u001b[0;32mIn[13], line 24\u001b[0m\n\u001b[1;32m     21\u001b[0m \u001b[38;5;28mprint\u001b[39m(\u001b[38;5;124m\"\u001b[39m\u001b[38;5;130;01m\\n\u001b[39;00m\u001b[38;5;124m🗺️  UMAP Embedding Space Summary:\u001b[39m\u001b[38;5;124m\"\u001b[39m)\n\u001b[1;32m     23\u001b[0m \u001b[38;5;66;03m# Load the data\u001b[39;00m\n\u001b[0;32m---> 24\u001b[0m df \u001b[38;5;241m=\u001b[39m pd\u001b[38;5;241m.\u001b[39mDataFrame(\u001b[43mresults\u001b[49m\u001b[43m[\u001b[49m\u001b[38;5;124;43m'\u001b[39;49m\u001b[38;5;124;43mmetadata\u001b[39;49m\u001b[38;5;124;43m'\u001b[39;49m\u001b[43m]\u001b[49m)\n\u001b[1;32m     25\u001b[0m df[\u001b[38;5;124m'\u001b[39m\u001b[38;5;124mumap_x\u001b[39m\u001b[38;5;124m'\u001b[39m] \u001b[38;5;241m=\u001b[39m results[\u001b[38;5;124m'\u001b[39m\u001b[38;5;124mumap_embeddings\u001b[39m\u001b[38;5;124m'\u001b[39m][:, \u001b[38;5;241m0\u001b[39m]\n\u001b[1;32m     26\u001b[0m df[\u001b[38;5;124m'\u001b[39m\u001b[38;5;124mumap_y\u001b[39m\u001b[38;5;124m'\u001b[39m] \u001b[38;5;241m=\u001b[39m results[\u001b[38;5;124m'\u001b[39m\u001b[38;5;124mumap_embeddings\u001b[39m\u001b[38;5;124m'\u001b[39m][:, \u001b[38;5;241m1\u001b[39m]\n",
      "\u001b[0;31mKeyError\u001b[0m: 'metadata'"
     ]
    }
   ],
   "source": [
    "# Cell 12: Display embedding visualizations\n",
    "if 'results' in locals() and results:\n",
    "    print(\"🎨 Displaying embedding visualizations...\")\n",
    "    \n",
    "    # Display the basic scatter plot\n",
    "    print(\"\\n📊 Basic UMAP Scatter Plot:\")\n",
    "    plt.show()\n",
    "    \n",
    "    # Display interactive plot if available\n",
    "    if 'figs' in locals() and figs:\n",
    "        for name, fig in figs:\n",
    "            print(f\"\\n📈 Showing {name}:\")\n",
    "            \n",
    "            if hasattr(fig, 'show'):  # Plotly figure\n",
    "                fig.show()\n",
    "            else:  # Matplotlib figure\n",
    "                plt.figure()\n",
    "                plt.show()\n",
    "    \n",
    "    # Create a quick summary plot of the embedding space\n",
    "    print(\"\\n🗺️  UMAP Embedding Space Summary:\")\n",
    "    \n",
    "    # Load the data\n",
    "    df = pd.DataFrame(results['metadata'])\n",
    "    df['umap_x'] = results['umap_embeddings'][:, 0]\n",
    "    df['umap_y'] = results['umap_embeddings'][:, 1]\n",
    "    \n",
    "    # Create a comprehensive view\n",
    "    fig, axes = plt.subplots(2, 2, figsize=(15, 12))\n",
    "    \n",
    "    # Plot 1: All points colored by year\n",
    "    scatter1 = axes[0, 0].scatter(df['umap_x'], df['umap_y'], c=df['year'], \n",
    "                                  cmap='viridis', alpha=0.7, s=50)\n",
    "    axes[0, 0].set_title('Publications by Year')\n",
    "    axes[0, 0].set_xlabel('UMAP Dimension 1')\n",
    "    axes[0, 0].set_ylabel('UMAP Dimension 2')\n",
    "    axes[0, 0].grid(True, alpha=0.3)\n",
    "    plt.colorbar(scatter1, ax=axes[0, 0], label='Year')\n",
    "    \n",
    "    # Plot 2: Points colored by whether they have abstracts\n",
    "    colors = ['red' if not has_abs else 'blue' for has_abs in df['has_abstract']]\n",
    "    axes[0, 1].scatter(df['umap_x'], df['umap_y'], c=colors, alpha=0.7, s=50)\n",
    "    axes[0, 1].set_title('Publications: Red=No Abstract, Blue=Has Abstract')\n",
    "    axes[0, 1].set_xlabel('UMAP Dimension 1')\n",
    "    axes[0, 1].set_ylabel('UMAP Dimension 2')\n",
    "    axes[0, 1].grid(True, alpha=0.3)\n",
    "    \n",
    "    # Plot 3: Density plot\n",
    "    axes[1, 0].hexbin(df['umap_x'], df['umap_y'], gridsize=20, cmap='Blues')\n",
    "    axes[1, 0].set_title('Publication Density')\n",
    "    axes[1, 0].set_xlabel('UMAP Dimension 1')\n",
    "    axes[1, 0].set_ylabel('UMAP Dimension 2')\n",
    "    \n",
    "    # Plot 4: Year distribution histogram\n",
    "    axes[1, 1].hist(df['year'], bins=len(df['year'].unique()), \n",
    "                    alpha=0.7, color='skyblue', edgecolor='black')\n",
    "    axes[1, 1].set_title('Publications by Year')\n",
    "    axes[1, 1].set_xlabel('Year')\n",
    "    axes[1, 1].set_ylabel('Count')\n",
    "    axes[1, 1].grid(True, alpha=0.3)\n",
    "    \n",
    "    plt.tight_layout()\n",
    "    plt.show()\n",
    "    \n",
    "    # Print some statistics about the embedding space\n",
    "    print(f\"\\n📈 Embedding Space Statistics:\")\n",
    "    print(f\"   • Total publications: {len(df)}\")\n",
    "    print(f\"   • Year range: {df['year'].min()} - {df['year'].max()}\")\n",
    "    print(f\"   • Publications with abstracts: {df['has_abstract'].sum()}/{len(df)} ({df['has_abstract'].mean():.1%})\")\n",
    "    print(f\"   • Unique journals: {df['journal'].nunique()}\")\n",
    "    print(f\"   • UMAP X range: {df['umap_x'].min():.2f} to {df['umap_x'].max():.2f}\")\n",
    "    print(f\"   • UMAP Y range: {df['umap_y'].min():.2f} to {df['umap_y'].max():.2f}\")\n",
    "    \n",
    "    # Show top journals\n",
    "    print(f\"\\n📚 Top 5 Journals:\")\n",
    "    top_journals = df['journal'].value_counts().head(5)\n",
    "    for journal, count in top_journals.items():\n",
    "        print(f\"   • {journal}: {count} publications\")\n",
    "\n",
    "else:\n",
    "    print(\"⚠️ No embedding results available to display\")"
   ]
  }
 ],
 "metadata": {
  "kernelspec": {
   "display_name": "venv",
   "language": "python",
   "name": "python3"
  },
  "language_info": {
   "codemirror_mode": {
    "name": "ipython",
    "version": 3
   },
   "file_extension": ".py",
   "mimetype": "text/x-python",
   "name": "python",
   "nbconvert_exporter": "python",
   "pygments_lexer": "ipython3",
   "version": "3.10.12"
  }
 },
 "nbformat": 4,
 "nbformat_minor": 5
}
