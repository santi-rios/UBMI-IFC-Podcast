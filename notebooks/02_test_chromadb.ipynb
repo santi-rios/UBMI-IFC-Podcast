{
 "cells": [
  {
   "cell_type": "code",
   "execution_count": 4,
   "id": "18c72376",
   "metadata": {},
   "outputs": [
    {
     "name": "stdout",
     "output_type": "stream",
     "text": [
      "Notebook directory: /home/santi/Projects/UBMI-IFC-Podcast/notebooks\n",
      "Source directory: /home/santi/Projects/UBMI-IFC-Podcast/src\n",
      "Source exists: True\n"
     ]
    },
    {
     "ename": "ImportError",
     "evalue": "attempted relative import beyond top-level package",
     "output_type": "error",
     "traceback": [
      "\u001b[0;31m---------------------------------------------------------------------------\u001b[0m",
      "\u001b[0;31mImportError\u001b[0m                               Traceback (most recent call last)",
      "Cell \u001b[0;32mIn[4], line 18\u001b[0m\n\u001b[1;32m     15\u001b[0m \u001b[38;5;28;01mimport\u001b[39;00m\u001b[38;5;250m \u001b[39m\u001b[38;5;21;01mnumpy\u001b[39;00m\u001b[38;5;250m \u001b[39m\u001b[38;5;28;01mas\u001b[39;00m\u001b[38;5;250m \u001b[39m\u001b[38;5;21;01mnp\u001b[39;00m\n\u001b[1;32m     17\u001b[0m \u001b[38;5;66;03m# Import our modules\u001b[39;00m\n\u001b[0;32m---> 18\u001b[0m \u001b[38;5;28;01mfrom\u001b[39;00m\u001b[38;5;250m \u001b[39m\u001b[38;5;21;01mdatabase\u001b[39;00m\u001b[38;5;21;01m.\u001b[39;00m\u001b[38;5;21;01mchromadb_manager\u001b[39;00m\u001b[38;5;250m \u001b[39m\u001b[38;5;28;01mimport\u001b[39;00m ChromaDBManager, load_publications_from_json\n\u001b[1;32m     19\u001b[0m \u001b[38;5;28;01mfrom\u001b[39;00m\u001b[38;5;250m \u001b[39m\u001b[38;5;21;01mutils\u001b[39;00m\u001b[38;5;21;01m.\u001b[39;00m\u001b[38;5;21;01mlogger\u001b[39;00m\u001b[38;5;250m \u001b[39m\u001b[38;5;28;01mimport\u001b[39;00m setup_logger, get_logger\n\u001b[1;32m     21\u001b[0m \u001b[38;5;66;03m# Setup logging\u001b[39;00m\n",
      "File \u001b[0;32m~/Projects/UBMI-IFC-Podcast/notebooks/../src/database/chromadb_manager.py:16\u001b[0m\n\u001b[1;32m     13\u001b[0m \u001b[38;5;28;01mimport\u001b[39;00m\u001b[38;5;250m \u001b[39m\u001b[38;5;21;01mjson\u001b[39;00m\n\u001b[1;32m     14\u001b[0m \u001b[38;5;28;01mimport\u001b[39;00m\u001b[38;5;250m \u001b[39m\u001b[38;5;21;01muuid\u001b[39;00m\n\u001b[0;32m---> 16\u001b[0m \u001b[38;5;28;01mfrom\u001b[39;00m\u001b[38;5;250m \u001b[39m\u001b[38;5;21;01m.\u001b[39;00m\u001b[38;5;21;01m.\u001b[39;00m\u001b[38;5;21;01mutils\u001b[39;00m\u001b[38;5;21;01m.\u001b[39;00m\u001b[38;5;21;01mlogger\u001b[39;00m\u001b[38;5;250m \u001b[39m\u001b[38;5;28;01mimport\u001b[39;00m get_logger\n\u001b[1;32m     17\u001b[0m \u001b[38;5;28;01mfrom\u001b[39;00m\u001b[38;5;250m \u001b[39m\u001b[38;5;21;01m.\u001b[39;00m\u001b[38;5;21;01m.\u001b[39;00m\u001b[38;5;21;01mutils\u001b[39;00m\u001b[38;5;21;01m.\u001b[39;00m\u001b[38;5;21;01mconfig\u001b[39;00m\u001b[38;5;250m \u001b[39m\u001b[38;5;28;01mimport\u001b[39;00m load_config, get_data_dir\n\u001b[1;32m     18\u001b[0m \u001b[38;5;28;01mfrom\u001b[39;00m\u001b[38;5;250m \u001b[39m\u001b[38;5;21;01m.\u001b[39;00m\u001b[38;5;21;01m.\u001b[39;00m\u001b[38;5;21;01mscrapers\u001b[39;00m\u001b[38;5;21;01m.\u001b[39;00m\u001b[38;5;21;01mifc_scraper\u001b[39;00m\u001b[38;5;250m \u001b[39m\u001b[38;5;28;01mimport\u001b[39;00m Publication\n",
      "\u001b[0;31mImportError\u001b[0m: attempted relative import beyond top-level package"
     ]
    }
   ],
   "source": [
    "# Cell 1: Setup - Fixed imports\n",
    "import sys\n",
    "from pathlib import Path\n",
    "\n",
    "# Add src directory to path for imports\n",
    "notebook_dir = Path().resolve()\n",
    "src_dir = notebook_dir.parent / \"src\"\n",
    "sys.path.insert(0, str(src_dir))\n",
    "\n",
    "print(f\"Notebook directory: {notebook_dir}\")\n",
    "print(f\"Source directory: {src_dir}\")\n",
    "print(f\"Source exists: {src_dir.exists()}\")\n",
    "\n",
    "import pandas as pd\n",
    "import numpy as np\n",
    "\n",
    "# Import our modules\n",
    "from database.chromadb_manager import ChromaDBManager, load_publications_from_json\n",
    "from utils.logger import setup_logger, get_logger\n",
    "\n",
    "# Setup logging\n",
    "setup_logger(level=\"INFO\")\n",
    "logger = get_logger(__name__)\n",
    "\n",
    "print(\"🚀 ChromaDB Setup Test\")\n",
    "print(\"✅ All imports successful!\")"
   ]
  },
  {
   "cell_type": "code",
   "execution_count": null,
   "id": "10b34f5b",
   "metadata": {},
   "outputs": [],
   "source": [
    "# Cell 2: Check if data exists\n",
    "data_file = Path(\"../data/raw/all_ifc_publications.json\")\n",
    "\n",
    "if data_file.exists():\n",
    "    print(f\"✅ Found publication data: {data_file}\")\n",
    "    \n",
    "    # Load publications\n",
    "    publications = load_publications_from_json(str(data_file))\n",
    "    print(f\"📚 Loaded {len(publications)} publications\")\n",
    "    \n",
    "    # Quick stats\n",
    "    years = [pub.year for pub in publications]\n",
    "    print(f\"📅 Year range: {min(years)} - {max(years)}\")\n",
    "    print(f\"📄 With abstracts: {sum(1 for pub in publications if pub.abstract)}\")\n",
    "else:\n",
    "    print(\"❌ No publication data found. Please run the scraper first.\")\n",
    "    publications = []"
   ]
  },
  {
   "cell_type": "code",
   "execution_count": null,
   "id": "13472c45",
   "metadata": {},
   "outputs": [],
   "source": [
    "# Cell 3: Initialize ChromaDB\n",
    "if publications:\n",
    "    print(\"🔧 Initializing ChromaDB Manager...\")\n",
    "    \n",
    "    # Create ChromaDB manager\n",
    "    db_manager = ChromaDBManager()\n",
    "    \n",
    "    # Create fresh collection\n",
    "    print(\"📦 Creating collection...\")\n",
    "    db_manager.create_collection(reset=True)\n",
    "    \n",
    "    print(\"✅ ChromaDB initialized successfully!\")\n",
    "else:\n",
    "    print(\"⚠️ Skipping ChromaDB setup - no publications loaded\")"
   ]
  },
  {
   "cell_type": "code",
   "execution_count": null,
   "id": "d6f68f59",
   "metadata": {},
   "outputs": [],
   "source": [
    "# Cell 4: Add publications to ChromaDB\n",
    "if publications:\n",
    "    print(\"🔄 Adding publications to ChromaDB...\")\n",
    "    print(\"This will take a few minutes to generate embeddings...\")\n",
    "    \n",
    "    # Add publications (this generates embeddings)\n",
    "    db_manager.add_publications(publications)\n",
    "    \n",
    "    # Check collection stats\n",
    "    stats = db_manager.get_collection_stats()\n",
    "    print(\"\\n📊 Collection Statistics:\")\n",
    "    for key, value in stats.items():\n",
    "        print(f\"   {key}: {value}\")\n",
    "        \n",
    "    print(\"\\n✅ Publications successfully added to ChromaDB!\")\n",
    "else:\n",
    "    print(\"⚠️ Skipping - no publications to add\")"
   ]
  },
  {
   "cell_type": "code",
   "execution_count": null,
   "id": "bb0ac013",
   "metadata": {},
   "outputs": [],
   "source": [
    "# Cell 5: Test similarity search\n",
    "if publications:\n",
    "    print(\"🔍 Testing similarity search...\")\n",
    "    \n",
    "    # Test queries\n",
    "    test_queries = [\n",
    "        \"neural mechanisms\",\n",
    "        \"cardiac physiology\",\n",
    "        \"protein structure\",\n",
    "        \"gene expression\",\n",
    "        \"brain activity\"\n",
    "    ]\n",
    "    \n",
    "    for query in test_queries:\n",
    "        print(f\"\\n🔎 Query: '{query}'\")\n",
    "        results = db_manager.search_similar(query, n_results=3)\n",
    "        \n",
    "        if results['count'] > 0:\n",
    "            for i, (doc, meta) in enumerate(zip(\n",
    "                results['results']['documents'][0],\n",
    "                results['results']['metadatas'][0]\n",
    "            )):\n",
    "                print(f\"   {i+1}. {meta['title'][:60]}...\")\n",
    "                print(f\"      Authors: {meta['authors'][:40]}...\")\n",
    "                print(f\"      Year: {meta['year']}\")\n",
    "        else:\n",
    "            print(\"   No results found\")\n",
    "    \n",
    "    print(\"\\n✅ Similarity search test completed!\")\n",
    "else:\n",
    "    print(\"⚠️ Skipping search test - no data in ChromaDB\")"
   ]
  },
  {
   "cell_type": "code",
   "execution_count": null,
   "id": "6f44eb69",
   "metadata": {},
   "outputs": [],
   "source": [
    "# Cell 6: Export data for visualization\n",
    "if publications:\n",
    "    print(\"💾 Exporting embeddings for visualization...\")\n",
    "    \n",
    "    output_path = db_manager.export_embeddings()\n",
    "    print(f\"📁 Exported to: {output_path}\")\n",
    "    \n",
    "    # Load and display sample of exported data\n",
    "    df = pd.read_csv(Path(output_path) / \"publications_metadata.csv\")\n",
    "    print(f\"\\n📊 Exported DataFrame shape: {df.shape}\")\n",
    "    print(\"\\nSample columns:\")\n",
    "    print(df.columns.tolist())\n",
    "    print(\"\\nFirst few rows:\")\n",
    "    print(df[['title', 'authors', 'year', 'has_abstract']].head())\n",
    "    \n",
    "    print(\"\\n✅ Export completed!\")\n",
    "else:\n",
    "    print(\"⚠️ Skipping export - no data available\")"
   ]
  }
 ],
 "metadata": {
  "kernelspec": {
   "display_name": "venv",
   "language": "python",
   "name": "python3"
  },
  "language_info": {
   "codemirror_mode": {
    "name": "ipython",
    "version": 3
   },
   "file_extension": ".py",
   "mimetype": "text/x-python",
   "name": "python",
   "nbconvert_exporter": "python",
   "pygments_lexer": "ipython3",
   "version": "3.10.12"
  }
 },
 "nbformat": 4,
 "nbformat_minor": 5
}
